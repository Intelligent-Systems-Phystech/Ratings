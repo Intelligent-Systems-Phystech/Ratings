{
 "cells": [
  {
   "cell_type": "code",
   "execution_count": 1,
   "metadata": {},
   "outputs": [],
   "source": [
    "import numpy as np\n",
    "import pandas as pd\n",
    "from matplotlib import pyplot as plt\n",
    "from matplotlib.patches import Rectangle\n",
    "import matplotlib\n",
    "matplotlib.style.use('ggplot')\n",
    "%matplotlib inline\n",
    "import matplotlib.cm as cm\n",
    "from matplotlib.colors import Normalize"
   ]
  },
  {
   "cell_type": "code",
   "execution_count": 2,
   "metadata": {},
   "outputs": [],
   "source": [
    "def n_relation(a, b):\n",
    "    assert a.shape == b.shape\n",
    "    if (a == b).all() == True:\n",
    "        return 'equal'\n",
    "    elif (a <= b).all() and (a < b).any() == True:\n",
    "        return 'less'\n",
    "    elif (a >= b).all() and (a > b).any() == True:\n",
    "        return 'more'\n",
    "    else:\n",
    "        return 'incomparable'\n",
    "    \n",
    "def b_transformed(b, pair):\n",
    "    temp = b.copy()\n",
    "    temp[pair[0]], temp[pair[1]] = temp[pair[1]], temp[pair[0]]\n",
    "    return temp\n",
    "\n",
    "def possible_permutation_indexes(b, A):\n",
    "    return list(filter(lambda pair: b[pair[0]] > b[pair[1]], np.array(np.where(A == 1)).T))\n",
    "    \n",
    "def n_relation_with_pref(a, b, A):\n",
    "    if (a == b).all() == True:\n",
    "        return 'equal'\n",
    "    elif n_relation(a, b) == 'less':\n",
    "        return 'less'\n",
    "    else:\n",
    "        pairs = possible_permutation_indexes(b, A)\n",
    "        if len(pairs) > 0:\n",
    "            mutations = np.array([b_transformed(b, pair) for pair in pairs])\n",
    "            relations = np.array([n_relation(a, mut) for mut in mutations])\n",
    "            if (relations == 'less').any() == True:\n",
    "                return 'less'\n",
    "        else:\n",
    "            return 'not related'\n",
    "    \n",
    "def relation_with_pref(a, b, A):\n",
    "    assert a.shape == b.shape\n",
    "    n_relation = n_relation_with_pref(a, b, A)\n",
    "    if n_relation == 'equal' or n_relation == 'less':\n",
    "        return n_relation\n",
    "    else:\n",
    "        reverse_check = n_relation_with_pref(b, a, A)\n",
    "        if reverse_check == 'less':\n",
    "            return 'more'\n",
    "        else:\n",
    "            return 'incomparable'"
   ]
  },
  {
   "cell_type": "code",
   "execution_count": 3,
   "metadata": {},
   "outputs": [],
   "source": [
    "def optimal_Pareto_front(X):\n",
    "    n = X.shape[0]\n",
    "    front = [0]\n",
    "    for i in range(1, n):\n",
    "        t = X[i]\n",
    "        relations = np.array([n_relation(t, X[ind]) for ind in front])\n",
    "        \n",
    "        if (relations == 'incomparable').all() or (relations == 'equal').any() == True:\n",
    "            front.append(i)\n",
    "        elif (relations == 'more').any() == True:\n",
    "            bad_inds = np.array(np.where(relations == 'more')).reshape(-1)\n",
    "            bad_items = []\n",
    "            for bad_ind in bad_inds:\n",
    "                bad_items.append(front[bad_ind])\n",
    "            for bad_item in bad_items:\n",
    "                front.remove(bad_item)\n",
    "            front.append(i)\n",
    "    \n",
    "    rest = list(filter(lambda x: x not in front, np.arange(n)))\n",
    "    \n",
    "    return front, rest\n",
    "\n",
    "def optimal_Pareto_front_with_pref(X, A):\n",
    "    n = X.shape[0]\n",
    "    front = [0]\n",
    "    for i in range(1, n):\n",
    "        t = X[i]\n",
    "        relations = np.array([relation_with_pref(t, X[ind], A) for ind in front])\n",
    "        \n",
    "        if (relations == 'incomparable').all() or (relations == 'equal').any() == True:\n",
    "            front.append(i)\n",
    "        elif (relations == 'more').any() == True:\n",
    "            bad_inds = np.array(np.where(relations == 'more')).reshape(-1)\n",
    "            bad_items = []\n",
    "            for bad_ind in bad_inds:\n",
    "                bad_items.append(front[bad_ind])\n",
    "            for bad_item in bad_items:\n",
    "                front.remove(bad_item)\n",
    "            front.append(i)\n",
    "    \n",
    "    rest = list(filter(lambda x: x not in front, np.arange(n)))\n",
    "    \n",
    "    return front, rest"
   ]
  },
  {
   "cell_type": "code",
   "execution_count": 4,
   "metadata": {},
   "outputs": [],
   "source": [
    "def draw_vertical_line(start_point, end_y = -1, axis = None, c = 'red'):\n",
    "    x = np.array([start_point[0], start_point[0]])\n",
    "    y = np.array([start_point[1], end_y])\n",
    "    if axis is not None:\n",
    "        axis.plot(x, y, '--', color = c, alpha = 0.7)\n",
    "\n",
    "def draw_horizontal_line(start_point, end_x = -1, axis = None , c = 'red'):\n",
    "    x = np.array([start_point[0], end_x])\n",
    "    y = np.array([start_point[1], start_point[1]])\n",
    "    if axis is not None:\n",
    "        axis.plot(x, y, '--', color = c, alpha = 0.7)\n",
    "\n",
    "def draw_n_dominance_zone(a, axis, fill = True, c = 'red'):\n",
    "    draw_vertical_line(a, axis = axis, c = c)\n",
    "    draw_horizontal_line(a, axis = axis, c = c)\n",
    "    if fill == True:\n",
    "        axis.add_patch(Rectangle((-1, -1), a[0] + 1, a[1] + 1, facecolor = c, fill = True, alpha = 0.3))"
   ]
  },
  {
   "cell_type": "code",
   "execution_count": 5,
   "metadata": {},
   "outputs": [],
   "source": [
    "def draw_POF(front_points, fill = True, c = 'red'):\n",
    "    assert front_points[0].shape == (2,) \n",
    "    points = front_points[front_points[:,0].argsort()]\n",
    "    \n",
    "    point = points[0]\n",
    "    draw_horizontal_line(point, c = c)\n",
    "    \n",
    "    if fill == True:\n",
    "        ax.add_patch(Rectangle((-1, -1), point[0] + 1, point[1] + 1, facecolor = c, fill = True, alpha = 0.3))    \n",
    "    \n",
    "    for i in range(len(points) - 1):\n",
    "        point = points[i]\n",
    "        next_point = points[i+1]\n",
    "        draw_vertical_line(point, next_point[1], c = c)\n",
    "        draw_horizontal_line(next_point, point[0], c = c)\n",
    "        \n",
    "        if fill == True:\n",
    "            len_x = next_point[0] - point[0]\n",
    "            len_y = next_point[1] + 1\n",
    "            ax.add_patch(Rectangle((point[0], -1), len_x, len_y, facecolor = c, fill = True, alpha = 0.3))  \n",
    "        \n",
    "    draw_vertical_line(points[-1], c = c)\n",
    "    \n",
    "def is_good(mut, points, A):\n",
    "    relations = np.array([relation_with_pref(mut, point, A) for point in points])\n",
    "    if ((relations == 'incomparable') | (relations == 'equal')).all() == True:\n",
    "        return True\n",
    "    else:\n",
    "        return False\n",
    "    \n",
    "    \n",
    "def draw_POF_with_pref(front_points, A, axis, fill = True, c = 'red'):\n",
    "    \n",
    "    assert front_points[0].shape == (2,) \n",
    "    if (A == 0).all():\n",
    "        points = front_points\n",
    "    \n",
    "    elif A[0, 1] == 1:\n",
    "        mutations = list(map(np.flip, filter(lambda point: point[0] > point[1], front_points)))\n",
    "        good_mutations = np.array(list(filter(lambda mut: is_good(mut, front_points, A) == True, mutations)))\n",
    "        if len(good_mutations) > 0:\n",
    "            points = np.vstack((front_points, good_mutations))\n",
    "        else:\n",
    "            points = front_points\n",
    "    elif A[1, 0] == 1:\n",
    "        mutations = list(map(np.flip, filter(lambda point: point[1] > point[0], front_points)))\n",
    "        good_mutations = np.array(list(filter(lambda mut: is_good(mut, front_points, A) == True, mutations)))\n",
    "        if len(good_mutations) > 0:\n",
    "            points = np.vstack((front_points, good_mutations))\n",
    "        else:\n",
    "            points = front_points\n",
    "    \n",
    "    points = points[points[:,0].argsort()]\n",
    "       \n",
    "    point = points[0]\n",
    "    draw_horizontal_line(point, axis = axis, c = c)\n",
    "    \n",
    "    if fill == True:\n",
    "        axis.add_patch(Rectangle((-1, -1), point[0] + 1, point[1] + 1, facecolor = c, fill = True, alpha = 0.3))    \n",
    "    \n",
    "    for i in range(len(points) - 1):\n",
    "        point = points[i]\n",
    "        next_point = points[i+1]\n",
    "        draw_vertical_line(point, next_point[1], axis = axis, c = c)\n",
    "        draw_horizontal_line(next_point, point[0], axis = axis, c = c)\n",
    "        \n",
    "        if fill == True:\n",
    "            len_x = next_point[0] - point[0]\n",
    "            len_y = next_point[1] + 1\n",
    "            axis.add_patch(Rectangle((point[0], -1), len_x, len_y, facecolor = c, fill = True, alpha = 0.3))  \n",
    "        \n",
    "    draw_vertical_line(points[-1], axis = axis, c = c)"
   ]
  },
  {
   "cell_type": "code",
   "execution_count": 6,
   "metadata": {},
   "outputs": [],
   "source": [
    "def Pareto_ranking(X):\n",
    "    fronts = []\n",
    "    f_ind, r_ind = optimal_Pareto_front(X)\n",
    "    fronts.append(X[f_ind])\n",
    "    while len(r_ind) > 0:\n",
    "        X = X[r_ind]\n",
    "        f_ind, r_ind = optimal_Pareto_front(X)\n",
    "        fronts.append(X[f_ind])\n",
    "    return fronts\n",
    "\n",
    "def plot_Pareto_fronts(X, figsize = (6, 6)):\n",
    "    fig, ax = plt.subplots(figsize = figsize)\n",
    "    \n",
    "    cmap = cm.gist_rainbow\n",
    "    \n",
    "    fronts = Pareto_ranking(X)\n",
    "    \n",
    "    for front, c in zip(fronts, range(len(fronts))):\n",
    "        norm = Normalize(vmin=0, vmax=len(fronts) - 1)\n",
    "        color = cmap(norm(c))\n",
    "        draw_POF(front, fill = False, c = color)\n",
    "        plt.scatter(front[:, 0], front[:, 1], color = color)\n",
    "    \n",
    "    plt.xlim(0, 4)\n",
    "    plt.ylim(0, 4)\n",
    "    plt.show()\n",
    "    \n",
    "def Pareto_ranking_with_pref(X, A):\n",
    "    fronts = []\n",
    "    f_ind, r_ind = optimal_Pareto_front_with_pref(X, A)\n",
    "    fronts.append(X[f_ind])\n",
    "    while len(r_ind) > 0:\n",
    "        X = X[r_ind]\n",
    "        f_ind, r_ind = optimal_Pareto_front_with_pref(X, A)\n",
    "        fronts.append(X[f_ind])\n",
    "    return fronts\n",
    "\n",
    "def plot_Pareto_fronts_with_pref(X, A, axis):\n",
    "    cmap = cm.gist_rainbow\n",
    "    \n",
    "    fronts = Pareto_ranking_with_pref(X, A)\n",
    "    \n",
    "    max_array = []\n",
    "    for front, c in zip(fronts, range(len(fronts))):\n",
    "        norm = Normalize(vmin=0, vmax=len(fronts) - 1)\n",
    "        color = cmap(norm(c))\n",
    "        draw_POF_with_pref(front, A, axis = axis, fill = False, c = color)\n",
    "        axis.scatter(front[:, 0], front[:, 1], color = color, edgecolors = 'black')\n",
    "        max_array.append(np.amax(front[:, 0]))\n",
    "        max_array.append(np.amax(front[:, 1]))\n",
    "    \n",
    "    axis.set_xlim(0, np.amax(np.array(max_array)) + 1)\n",
    "    axis.set_ylim(0, np.amax(np.array(max_array)) + 1)\n",
    "    \n",
    "    return fronts"
   ]
  },
  {
   "cell_type": "code",
   "execution_count": 12,
   "metadata": {},
   "outputs": [],
   "source": [
    "def get_Pareto_rating(X, A, name = 'рейтинг'):\n",
    "    fronts = Pareto_ranking_with_pref(X, A)\n",
    "    rating = dict.fromkeys(names)\n",
    "    for i, front in enumerate(fronts):\n",
    "        for point in front:\n",
    "            for ind in np.array(np.where(np.prod(X == point, axis = 1) == 1)).reshape(-1):\n",
    "                key = names[ind]\n",
    "                rating[key] = i+1\n",
    "\n",
    "    df = pd.DataFrame.from_dict(rating, orient = 'index', columns = [name])\n",
    "    return rating, df\n",
    "\n",
    "def fill_na_1d(arr):\n",
    "    med = int(round(np.median(arr[arr != None])))\n",
    "    arr[arr == None] = med\n",
    "    return np.array(arr, dtype = int)\n",
    "def fill_na(arr):\n",
    "    arr = np.array([fill_na_1d(np.array(row)) for row in arr])\n",
    "    return arr"
   ]
  },
  {
   "cell_type": "code",
   "execution_count": 13,
   "metadata": {},
   "outputs": [
    {
     "data": {
      "image/png": "[encoded data removed]",
      "text/plain": [
       "<Figure size 1152x720 with 6 Axes>"
      ]
     },
     "metadata": {
      "needs_background": "light"
     },
     "output_type": "display_data"
    }
   ],
   "source": [
    "X = np.array([[1, 1], [1, 2], [1, 3], [1, 4], [1, 5], [2, 1], [2, 2], [3, 1],\\\n",
    "              [3, 2], [4, 2], [3, 3], [1.5, 3.5], [3.5, 0.5]])\n",
    "\n",
    "A1 = np.array([[0, 0], [0, 0]])\n",
    "A2 = np.array([[0, 1], [0, 0]])\n",
    "A3 = np.array([[0, 0], [1, 0]])\n",
    "\n",
    "fig, (ax1, ax2) = plt.subplots(2, 3, figsize = (16, 10))\n",
    "\n",
    "ax1[0].axis('off')\n",
    "ax1[1].scatter(X[:, 0], X[:, 1], color = 'black')\n",
    "ax1[1].set_xlim(0, np.amax(X) + 1)\n",
    "ax1[1].set_ylim(0, np.amax(X) + 1)\n",
    "ax1[1].set_title('Исходный набор точек')\n",
    "ax1[2].axis('off')\n",
    "\n",
    "ax2[1].set_title('Результаты Парето-ранжирования')\n",
    "plot_Pareto_fronts_with_pref(X, A1, axis = ax2[0])\n",
    "ax2[0].set_xlabel('Нет предпочтения на признаках')\n",
    "plot_Pareto_fronts_with_pref(X, A2, axis = ax2[1])\n",
    "ax2[1].set_xlabel('Первый признак предпочтительнее')\n",
    "plot_Pareto_fronts_with_pref(X, A3, axis = ax2[2])\n",
    "ax2[2].set_xlabel('Второй признак предпочтительнее')\n",
    "\n",
    "plt.show()"
   ]
  },
  {
   "cell_type": "code",
   "execution_count": 14,
   "metadata": {},
   "outputs": [
    {
     "data": {
      "image/png": "[encoded data removed]",
      "text/plain": [
       "<Figure size 792x360 with 2 Axes>"
      ]
     },
     "metadata": {
      "needs_background": "light"
     },
     "output_type": "display_data"
    }
   ],
   "source": [
    "X = np.array([[2,1], [0.5, 1.5]])\n",
    "\n",
    "A1 = np.array([[0, 0], [0, 0]])\n",
    "A2 = np.array([[0, 1], [0, 0]])\n",
    "A3 = np.array([[0, 0], [1, 0]])\n",
    "\n",
    "front1, _ = optimal_Pareto_front_with_pref(X, A1)\n",
    "front2, _ = optimal_Pareto_front_with_pref(X, A2)\n",
    "\n",
    "fig, (ax1, ax2) = plt.subplots(1, 2, figsize = (11, 5))\n",
    "ax1.scatter(X[:, 0], X[:, 1], c = 'red', edgecolors = 'black')\n",
    "ax2.scatter(X[:, 0], X[:, 1], c = 'red', edgecolors = 'black')\n",
    "ax1.set_xlim(0, 3)\n",
    "ax1.set_ylim(0, 3)\n",
    "ax2.set_xlim(0, 3)\n",
    "ax2.set_ylim(0, 3)\n",
    "draw_POF_with_pref(X[front1], A1, axis = ax1)\n",
    "ax1.set_xlabel('Нет предпочтения на признаках')\n",
    "draw_POF_with_pref(X[front2], A2, axis = ax2)\n",
    "ax2.set_xlabel('Первый признак предпочтительнее')\n",
    "\n",
    "\n",
    "plt.show()"
   ]
  },
  {
   "cell_type": "code",
   "execution_count": 15,
   "metadata": {},
   "outputs": [],
   "source": [
    "data = np.array([[72., 85., 9., 2., 4.4],\n",
    "                 [640., 69., 25., 52., 17.],\n",
    "                 [42., 5.9, 3.4, 2.5, 5.],\n",
    "                 [371., 34., 3.6, 0.4, 20.],\n",
    "                 [250., 8., 1., 3.2, 6.5],\n",
    "                 [545., 100., 5., 33., 56.5],\n",
    "                 [360.7, 35.6, 7.7, 19.1, 39.5],\n",
    "                 [57, 5.9, 3, 3.2, 4],\n",
    "                 [334, 4, 12, 2, 67]],)\n",
    "\n",
    "experts = np.array([\n",
    "    [4, None, None, None, 9, 5, None, None, None, None, 3, 9, 7, 6],\n",
    "    [2, 6, 4, 8, 7, 4, 3, 3, None, 4, 6, 3, 4, 2],\n",
    "    [5, 1, 5, 5, 4, 3, 8, 4, 2, 3, 5, 5, 6, None],\n",
    "    [7, 7, 2, 3, 2, 8, 4, 6, 3, 5, None, 6, 5, 1],\n",
    "    [None, 2, 7, 2, 6, 7, 5, 5, 7, None, 7, 7, 8, None],\n",
    "    [3, 4, 1, 9, 5, None, 1, 1, 6, 6, 1, 2, 2, 4],\n",
    "    [None, 3, 3, None, 1, 2, 6, 2, 1, 1, 2, 8, None, 5],\n",
    "    [6, 5, 8, 4, 7, 1, 7, 7, 4, 7, None, 1, 1, None],\n",
    "    [1, 8, 6, 1, 3, 6, 2, 8, 5, 2, 4, 4, 3, 3]\n",
    "])\n",
    "experts = 10 - fill_na(experts)\n",
    "\n",
    "names = ['устрицы', 'арахис', 'молоко', 'макароны', 'молоко овс.', 'шоколад', 'cырок', 'кефир', 'греча']"
   ]
  },
  {
   "cell_type": "code",
   "execution_count": 16,
   "metadata": {},
   "outputs": [
    {
     "data": {
      "text/plain": [
       "array([[6, 4, 4, 4, 1, 5, 4, 4, 4, 4, 7, 1, 3, 4],\n",
       "       [8, 4, 6, 2, 3, 6, 7, 7, 6, 6, 4, 7, 6, 8],\n",
       "       [5, 9, 5, 5, 6, 7, 2, 6, 8, 7, 5, 5, 4, 5],\n",
       "       [3, 3, 8, 7, 8, 2, 6, 4, 7, 5, 5, 4, 5, 9],\n",
       "       [3, 8, 3, 8, 4, 3, 5, 5, 3, 3, 3, 3, 2, 3],\n",
       "       [7, 6, 9, 1, 5, 7, 9, 9, 4, 4, 9, 8, 8, 6],\n",
       "       [8, 7, 7, 8, 9, 8, 4, 8, 9, 9, 8, 2, 8, 5],\n",
       "       [4, 5, 2, 6, 3, 9, 3, 3, 6, 3, 4, 9, 9, 4],\n",
       "       [9, 2, 4, 9, 7, 4, 8, 2, 5, 8, 6, 6, 7, 7]])"
      ]
     },
     "execution_count": 16,
     "metadata": {},
     "output_type": "execute_result"
    }
   ],
   "source": [
    "experts"
   ]
  },
  {
   "cell_type": "code",
   "execution_count": 17,
   "metadata": {},
   "outputs": [],
   "source": [
    "N = 10\n",
    "\n",
    "a1 = data[:, 0] \n",
    "a1 = ((a1 - np.amin(a1))/(np.amax(a1) - np.amin(a1)) + 1/(N-1) ).round(2)*(N-1)\n",
    "a2 = data[:, 1]\n",
    "a2 = ((np.amax(a2) - a2)/(np.amax(a2) - np.amin(a2)) + 1/(N-1) ).round(2)*(N-1)\n",
    "a3 = data[:, 2]\n",
    "a3 = ((a3 - np.amin(a3))/(np.amax(a3) - np.amin(a3)) + 1/(N-1) ).round(2)*(N-1)\n",
    "a4 = data[:, 3]\n",
    "a4 = ((np.amax(a4) - a4)/(np.amax(a4) - np.amin(a4)) + 1/(N-1) ).round(2)*(N-1)\n",
    "a5 = data[:, 4]\n",
    "a5 = ((a5 - np.amin(a5))/(np.amax(a5) - np.amin(a5)) + 1/(N-1) ).round(2)*(N-1)\n",
    "\n",
    "X = np.hstack((a1.reshape(-1, 1), a2.reshape(-1, 1), a3.reshape(-1, 1), a4.reshape(-1, 1), a5.reshape(-1, 1)))\n",
    "\n",
    "X1 = X[:, 0:2]\n",
    "X2 = X[:, 2:]"
   ]
  },
  {
   "cell_type": "code",
   "execution_count": 18,
   "metadata": {},
   "outputs": [
    {
     "data": {
      "text/html": [
       "<div>\n",
       "<style scoped>\n",
       "    .dataframe tbody tr th:only-of-type {\n",
       "        vertical-align: middle;\n",
       "    }\n",
       "\n",
       "    .dataframe tbody tr th {\n",
       "        vertical-align: top;\n",
       "    }\n",
       "\n",
       "    .dataframe thead th {\n",
       "        text-align: right;\n",
       "    }\n",
       "</style>\n",
       "<table border=\"1\" class=\"dataframe\">\n",
       "  <thead>\n",
       "    <tr style=\"text-align: right;\">\n",
       "      <th></th>\n",
       "      <th>Рейтинг по соотношению калорийность-цена</th>\n",
       "    </tr>\n",
       "  </thead>\n",
       "  <tbody>\n",
       "    <tr>\n",
       "      <th>устрицы</th>\n",
       "      <td>3</td>\n",
       "    </tr>\n",
       "    <tr>\n",
       "      <th>арахис</th>\n",
       "      <td>2</td>\n",
       "    </tr>\n",
       "    <tr>\n",
       "      <th>молоко</th>\n",
       "      <td>3</td>\n",
       "    </tr>\n",
       "    <tr>\n",
       "      <th>макароны</th>\n",
       "      <td>1</td>\n",
       "    </tr>\n",
       "    <tr>\n",
       "      <th>молоко овс.</th>\n",
       "      <td>2</td>\n",
       "    </tr>\n",
       "    <tr>\n",
       "      <th>шоколад</th>\n",
       "      <td>4</td>\n",
       "    </tr>\n",
       "    <tr>\n",
       "      <th>cырок</th>\n",
       "      <td>2</td>\n",
       "    </tr>\n",
       "    <tr>\n",
       "      <th>кефир</th>\n",
       "      <td>2</td>\n",
       "    </tr>\n",
       "    <tr>\n",
       "      <th>греча</th>\n",
       "      <td>1</td>\n",
       "    </tr>\n",
       "  </tbody>\n",
       "</table>\n",
       "</div>"
      ],
      "text/plain": [
       "             Рейтинг по соотношению калорийность-цена\n",
       "устрицы                                             3\n",
       "арахис                                              2\n",
       "молоко                                              3\n",
       "макароны                                            1\n",
       "молоко овс.                                         2\n",
       "шоколад                                             4\n",
       "cырок                                               2\n",
       "кефир                                               2\n",
       "греча                                               1"
      ]
     },
     "execution_count": 18,
     "metadata": {},
     "output_type": "execute_result"
    }
   ],
   "source": [
    "A1 = np.array([[0, 0], [1, 0]])\n",
    "_, df1 = get_Pareto_rating(X1, A1, 'Рейтинг по соотношению калорийность-цена')\n",
    "df1"
   ]
  },
  {
   "cell_type": "code",
   "execution_count": 19,
   "metadata": {},
   "outputs": [
    {
     "data": {
      "image/png": "[encoded data removed]",
      "text/plain": [
       "<Figure size 1152x576 with 2 Axes>"
      ]
     },
     "metadata": {
      "needs_background": "light"
     },
     "output_type": "display_data"
    }
   ],
   "source": [
    "fig, (ax1, ax2) = plt.subplots(1, 2, figsize = (16, 8))\n",
    "\n",
    "ax1.scatter(X1[:, 0], X1[:, 1], color = 'black')\n",
    "ax1.set_xlim(0, 11)\n",
    "ax1.set_ylim(0, 11)\n",
    "ax1.set_xlabel('Калорийность')\n",
    "ax1.set_ylabel('Цена')\n",
    "\n",
    "ax2.set_title('Результаты Парето-ранжирования (цена важнее калорийности)')\n",
    "plot_Pareto_fronts_with_pref(X1, A1, axis = ax2)\n",
    "ax2.set_xlabel('Калорийность')\n",
    "\n",
    "plt.show()"
   ]
  },
  {
   "cell_type": "code",
   "execution_count": 20,
   "metadata": {},
   "outputs": [
    {
     "data": {
      "text/html": [
       "<div>\n",
       "<style scoped>\n",
       "    .dataframe tbody tr th:only-of-type {\n",
       "        vertical-align: middle;\n",
       "    }\n",
       "\n",
       "    .dataframe tbody tr th {\n",
       "        vertical-align: top;\n",
       "    }\n",
       "\n",
       "    .dataframe thead th {\n",
       "        text-align: right;\n",
       "    }\n",
       "</style>\n",
       "<table border=\"1\" class=\"dataframe\">\n",
       "  <thead>\n",
       "    <tr style=\"text-align: right;\">\n",
       "      <th></th>\n",
       "      <th>Рейтинг по соотношению б-ж-у</th>\n",
       "    </tr>\n",
       "  </thead>\n",
       "  <tbody>\n",
       "    <tr>\n",
       "      <th>устрицы</th>\n",
       "      <td>2</td>\n",
       "    </tr>\n",
       "    <tr>\n",
       "      <th>арахис</th>\n",
       "      <td>1</td>\n",
       "    </tr>\n",
       "    <tr>\n",
       "      <th>молоко</th>\n",
       "      <td>3</td>\n",
       "    </tr>\n",
       "    <tr>\n",
       "      <th>макароны</th>\n",
       "      <td>2</td>\n",
       "    </tr>\n",
       "    <tr>\n",
       "      <th>молоко овс.</th>\n",
       "      <td>3</td>\n",
       "    </tr>\n",
       "    <tr>\n",
       "      <th>шоколад</th>\n",
       "      <td>2</td>\n",
       "    </tr>\n",
       "    <tr>\n",
       "      <th>cырок</th>\n",
       "      <td>2</td>\n",
       "    </tr>\n",
       "    <tr>\n",
       "      <th>кефир</th>\n",
       "      <td>4</td>\n",
       "    </tr>\n",
       "    <tr>\n",
       "      <th>греча</th>\n",
       "      <td>1</td>\n",
       "    </tr>\n",
       "  </tbody>\n",
       "</table>\n",
       "</div>"
      ],
      "text/plain": [
       "             Рейтинг по соотношению б-ж-у\n",
       "устрицы                                 2\n",
       "арахис                                  1\n",
       "молоко                                  3\n",
       "макароны                                2\n",
       "молоко овс.                             3\n",
       "шоколад                                 2\n",
       "cырок                                   2\n",
       "кефир                                   4\n",
       "греча                                   1"
      ]
     },
     "execution_count": 20,
     "metadata": {},
     "output_type": "execute_result"
    }
   ],
   "source": [
    "A2 = np.array([[0, 1, 0], [0, 0, 0], [0, 1, 0]])\n",
    "\n",
    "_, df2 = get_Pareto_rating(X2, A2, 'Рейтинг по соотношению б-ж-у')\n",
    "df2"
   ]
  },
  {
   "cell_type": "code",
   "execution_count": 21,
   "metadata": {},
   "outputs": [],
   "source": [
    "r1 = df1.to_numpy()\n",
    "r2 = df2.to_numpy()\n",
    "alpha = 1\n",
    "X_final = np.hstack((np.amax(r1) - r1 + 1, alpha*(np.amax(r2) - r2 + 1)))"
   ]
  },
  {
   "cell_type": "code",
   "execution_count": 22,
   "metadata": {},
   "outputs": [
    {
     "data": {
      "text/html": [
       "<div>\n",
       "<style scoped>\n",
       "    .dataframe tbody tr th:only-of-type {\n",
       "        vertical-align: middle;\n",
       "    }\n",
       "\n",
       "    .dataframe tbody tr th {\n",
       "        vertical-align: top;\n",
       "    }\n",
       "\n",
       "    .dataframe thead th {\n",
       "        text-align: right;\n",
       "    }\n",
       "</style>\n",
       "<table border=\"1\" class=\"dataframe\">\n",
       "  <thead>\n",
       "    <tr style=\"text-align: right;\">\n",
       "      <th></th>\n",
       "      <th>Итоговый рейтинг</th>\n",
       "    </tr>\n",
       "  </thead>\n",
       "  <tbody>\n",
       "    <tr>\n",
       "      <th>устрицы</th>\n",
       "      <td>4</td>\n",
       "    </tr>\n",
       "    <tr>\n",
       "      <th>арахис</th>\n",
       "      <td>2</td>\n",
       "    </tr>\n",
       "    <tr>\n",
       "      <th>молоко</th>\n",
       "      <td>5</td>\n",
       "    </tr>\n",
       "    <tr>\n",
       "      <th>макароны</th>\n",
       "      <td>2</td>\n",
       "    </tr>\n",
       "    <tr>\n",
       "      <th>молоко овс.</th>\n",
       "      <td>4</td>\n",
       "    </tr>\n",
       "    <tr>\n",
       "      <th>шоколад</th>\n",
       "      <td>5</td>\n",
       "    </tr>\n",
       "    <tr>\n",
       "      <th>cырок</th>\n",
       "      <td>3</td>\n",
       "    </tr>\n",
       "    <tr>\n",
       "      <th>кефир</th>\n",
       "      <td>5</td>\n",
       "    </tr>\n",
       "    <tr>\n",
       "      <th>греча</th>\n",
       "      <td>1</td>\n",
       "    </tr>\n",
       "  </tbody>\n",
       "</table>\n",
       "</div>"
      ],
      "text/plain": [
       "             Итоговый рейтинг\n",
       "устрицы                     4\n",
       "арахис                      2\n",
       "молоко                      5\n",
       "макароны                    2\n",
       "молоко овс.                 4\n",
       "шоколад                     5\n",
       "cырок                       3\n",
       "кефир                       5\n",
       "греча                       1"
      ]
     },
     "execution_count": 22,
     "metadata": {},
     "output_type": "execute_result"
    }
   ],
   "source": [
    "A_final = np.array([[0, 0], [0, 0]])\n",
    "\n",
    "rating_final, df_final = get_Pareto_rating(X_final, A_final, 'Итоговый рейтинг')\n",
    "df_final"
   ]
  },
  {
   "cell_type": "code",
   "execution_count": 23,
   "metadata": {},
   "outputs": [
    {
     "data": {
      "image/png": "[encoded data removed]",
      "text/plain": [
       "<Figure size 1152x576 with 2 Axes>"
      ]
     },
     "metadata": {
      "needs_background": "light"
     },
     "output_type": "display_data"
    }
   ],
   "source": [
    "fig, (ax1, ax2) = plt.subplots(1, 2, figsize = (16, 8))\n",
    "\n",
    "ax1.scatter(X_final[:, 0], X_final[:, 1], color = 'black')\n",
    "ax1.set_xlim(0, 5)\n",
    "ax1.set_ylim(0, 5)\n",
    "ax1.set_xlabel('1-ый рейтинг')\n",
    "ax1.set_ylabel('2-ой рейтинг')\n",
    "\n",
    "ax2.set_title('Результат слияния рейтингов (1-ый рейтинг важнее 2-ого)')\n",
    "plot_Pareto_fronts_with_pref(X_final, A_final, axis = ax2)\n",
    "ax2.set_xlabel('1-ый рейтинг')\n",
    "\n",
    "plt.show()"
   ]
  },
  {
   "cell_type": "code",
   "execution_count": 126,
   "metadata": {},
   "outputs": [
    {
     "data": {
      "text/html": [
       "<div>\n",
       "<style scoped>\n",
       "    .dataframe tbody tr th:only-of-type {\n",
       "        vertical-align: middle;\n",
       "    }\n",
       "\n",
       "    .dataframe tbody tr th {\n",
       "        vertical-align: top;\n",
       "    }\n",
       "\n",
       "    .dataframe thead th {\n",
       "        text-align: right;\n",
       "    }\n",
       "</style>\n",
       "<table border=\"1\" class=\"dataframe\">\n",
       "  <thead>\n",
       "    <tr style=\"text-align: right;\">\n",
       "      <th></th>\n",
       "      <th>Экспертный рейтинг</th>\n",
       "    </tr>\n",
       "  </thead>\n",
       "  <tbody>\n",
       "    <tr>\n",
       "      <th>устрицы</th>\n",
       "      <td>2</td>\n",
       "    </tr>\n",
       "    <tr>\n",
       "      <th>арахис</th>\n",
       "      <td>1</td>\n",
       "    </tr>\n",
       "    <tr>\n",
       "      <th>молоко</th>\n",
       "      <td>1</td>\n",
       "    </tr>\n",
       "    <tr>\n",
       "      <th>макароны</th>\n",
       "      <td>1</td>\n",
       "    </tr>\n",
       "    <tr>\n",
       "      <th>молоко овс.</th>\n",
       "      <td>1</td>\n",
       "    </tr>\n",
       "    <tr>\n",
       "      <th>шоколад</th>\n",
       "      <td>1</td>\n",
       "    </tr>\n",
       "    <tr>\n",
       "      <th>cырок</th>\n",
       "      <td>1</td>\n",
       "    </tr>\n",
       "    <tr>\n",
       "      <th>кефир</th>\n",
       "      <td>1</td>\n",
       "    </tr>\n",
       "    <tr>\n",
       "      <th>греча</th>\n",
       "      <td>1</td>\n",
       "    </tr>\n",
       "  </tbody>\n",
       "</table>\n",
       "</div>"
      ],
      "text/plain": [
       "             Экспертный рейтинг\n",
       "устрицы                       2\n",
       "арахис                        1\n",
       "молоко                        1\n",
       "макароны                      1\n",
       "молоко овс.                   1\n",
       "шоколад                       1\n",
       "cырок                         1\n",
       "кефир                         1\n",
       "греча                         1"
      ]
     },
     "execution_count": 126,
     "metadata": {},
     "output_type": "execute_result"
    }
   ],
   "source": [
    "k = len(experts_filled)\n",
    "\n",
    "A_exp = np.zeros((k, k))\n",
    "#A_exp[4] += 1\n",
    "#A_exp[4, 4] = 0\n",
    "\n",
    "_, df_exp = get_Pareto_rating(experts, A_exp, 'Экспертный рейтинг')\n",
    "df_exp "
   ]
  },
  {
   "cell_type": "code",
   "execution_count": 24,
   "metadata": {},
   "outputs": [],
   "source": [
    "def get_Pareto_rating_merged(X, start, end, name = 'рейтинг', plots = False):\n",
    "    n = end - start\n",
    "    if n <= 2:\n",
    "        rating, df = get_Pareto_rating(X[:, start:(end+1)], np.zeros((n, n)), name = name)\n",
    "    else:\n",
    "        _, df1 = get_Pareto_rating_merged(X, start = start, end = start + n//2, plots = plots)\n",
    "        _, df2 = get_Pareto_rating_merged(X, start = start + n//2 + 1, end = end, plots = plots)\n",
    "\n",
    "        r1 = df1.to_numpy()\n",
    "        r2 = df2.to_numpy()\n",
    "        a1 = n//2 + 1\n",
    "        a2 = end - start - n//2 - 1\n",
    "        alpha1 = a1/(a1 + a2)\n",
    "        alpha2 = a2/(a1 + a2)\n",
    "        \n",
    "        X_merged = np.hstack((alpha1*(np.amax(r1) - r1 + 1), alpha2*(np.amax(r2) - r2 + 1)))\n",
    "        rating, df = get_Pareto_rating(X_merged, np.zeros((2, 2)), name = name)\n",
    "        \n",
    "    return rating, df"
   ]
  },
  {
   "cell_type": "code",
   "execution_count": 25,
   "metadata": {},
   "outputs": [
    {
     "data": {
      "text/html": [
       "<div>\n",
       "<style scoped>\n",
       "    .dataframe tbody tr th:only-of-type {\n",
       "        vertical-align: middle;\n",
       "    }\n",
       "\n",
       "    .dataframe tbody tr th {\n",
       "        vertical-align: top;\n",
       "    }\n",
       "\n",
       "    .dataframe thead th {\n",
       "        text-align: right;\n",
       "    }\n",
       "</style>\n",
       "<table border=\"1\" class=\"dataframe\">\n",
       "  <thead>\n",
       "    <tr style=\"text-align: right;\">\n",
       "      <th></th>\n",
       "      <th>Экспертный рейтинг</th>\n",
       "    </tr>\n",
       "  </thead>\n",
       "  <tbody>\n",
       "    <tr>\n",
       "      <th>устрицы</th>\n",
       "      <td>5</td>\n",
       "    </tr>\n",
       "    <tr>\n",
       "      <th>арахис</th>\n",
       "      <td>4</td>\n",
       "    </tr>\n",
       "    <tr>\n",
       "      <th>молоко</th>\n",
       "      <td>2</td>\n",
       "    </tr>\n",
       "    <tr>\n",
       "      <th>макароны</th>\n",
       "      <td>3</td>\n",
       "    </tr>\n",
       "    <tr>\n",
       "      <th>молоко овс.</th>\n",
       "      <td>3</td>\n",
       "    </tr>\n",
       "    <tr>\n",
       "      <th>шоколад</th>\n",
       "      <td>2</td>\n",
       "    </tr>\n",
       "    <tr>\n",
       "      <th>cырок</th>\n",
       "      <td>1</td>\n",
       "    </tr>\n",
       "    <tr>\n",
       "      <th>кефир</th>\n",
       "      <td>3</td>\n",
       "    </tr>\n",
       "    <tr>\n",
       "      <th>греча</th>\n",
       "      <td>2</td>\n",
       "    </tr>\n",
       "  </tbody>\n",
       "</table>\n",
       "</div>"
      ],
      "text/plain": [
       "             Экспертный рейтинг\n",
       "устрицы                       5\n",
       "арахис                        4\n",
       "молоко                        2\n",
       "макароны                      3\n",
       "молоко овс.                   3\n",
       "шоколад                       2\n",
       "cырок                         1\n",
       "кефир                         3\n",
       "греча                         2"
      ]
     },
     "execution_count": 25,
     "metadata": {},
     "output_type": "execute_result"
    }
   ],
   "source": [
    "k = len(experts)\n",
    "\n",
    "A_exp = np.zeros((k, k))\n",
    "\n",
    "rating_exp, df_exp = get_Pareto_rating_merged(experts, start = 0, end = k-1, name = 'Экспертный рейтинг')\n",
    "df_exp "
   ]
  },
  {
   "cell_type": "code",
   "execution_count": 26,
   "metadata": {},
   "outputs": [],
   "source": [
    "def get_Pareto_rating_sequential(X, end, name = 'рейтинг', plots = False):\n",
    "    n = X.shape[1] - end\n",
    "    assert n >= 1\n",
    "    if end <= 1:\n",
    "        rating, df = get_Pareto_rating(X[:, :(end+1)], np.zeros((n, n)), name = name)\n",
    "    else:\n",
    "        _, df1 = get_Pareto_rating_sequential(X, end = end-1, plots = plots)\n",
    "        r1 = df1.to_numpy()\n",
    "        r2 = X[:, end].reshape(-1, 1)\n",
    "        X_sequenced = np.hstack((np.amax(r1) - r1 + 1, r2))\n",
    "        rating, df = get_Pareto_rating(X_sequenced, np.zeros((2, 2)), name = name)\n",
    "    return rating, df"
   ]
  },
  {
   "cell_type": "code",
   "execution_count": 29,
   "metadata": {},
   "outputs": [
    {
     "data": {
      "text/html": [
       "<div>\n",
       "<style scoped>\n",
       "    .dataframe tbody tr th:only-of-type {\n",
       "        vertical-align: middle;\n",
       "    }\n",
       "\n",
       "    .dataframe tbody tr th {\n",
       "        vertical-align: top;\n",
       "    }\n",
       "\n",
       "    .dataframe thead th {\n",
       "        text-align: right;\n",
       "    }\n",
       "</style>\n",
       "<table border=\"1\" class=\"dataframe\">\n",
       "  <thead>\n",
       "    <tr style=\"text-align: right;\">\n",
       "      <th></th>\n",
       "      <th>Экспертный рейтинг (послед.)</th>\n",
       "    </tr>\n",
       "  </thead>\n",
       "  <tbody>\n",
       "    <tr>\n",
       "      <th>устрицы</th>\n",
       "      <td>3</td>\n",
       "    </tr>\n",
       "    <tr>\n",
       "      <th>арахис</th>\n",
       "      <td>2</td>\n",
       "    </tr>\n",
       "    <tr>\n",
       "      <th>молоко</th>\n",
       "      <td>2</td>\n",
       "    </tr>\n",
       "    <tr>\n",
       "      <th>макароны</th>\n",
       "      <td>4</td>\n",
       "    </tr>\n",
       "    <tr>\n",
       "      <th>молоко овс.</th>\n",
       "      <td>4</td>\n",
       "    </tr>\n",
       "    <tr>\n",
       "      <th>шоколад</th>\n",
       "      <td>1</td>\n",
       "    </tr>\n",
       "    <tr>\n",
       "      <th>cырок</th>\n",
       "      <td>1</td>\n",
       "    </tr>\n",
       "    <tr>\n",
       "      <th>кефир</th>\n",
       "      <td>1</td>\n",
       "    </tr>\n",
       "    <tr>\n",
       "      <th>греча</th>\n",
       "      <td>3</td>\n",
       "    </tr>\n",
       "  </tbody>\n",
       "</table>\n",
       "</div>"
      ],
      "text/plain": [
       "             Экспертный рейтинг (послед.)\n",
       "устрицы                                 3\n",
       "арахис                                  2\n",
       "молоко                                  2\n",
       "макароны                                4\n",
       "молоко овс.                             4\n",
       "шоколад                                 1\n",
       "cырок                                   1\n",
       "кефир                                   1\n",
       "греча                                   3"
      ]
     },
     "execution_count": 29,
     "metadata": {},
     "output_type": "execute_result"
    }
   ],
   "source": [
    "k = len(experts)\n",
    "\n",
    "A_exp = np.zeros((k, k))\n",
    "\n",
    "_, df_exp_seq = get_Pareto_rating_sequential(np.flip(experts, axis = 1), end = k-1, name = 'Экспертный рейтинг (послед.)')\n",
    "df_exp_seq"
   ]
  },
  {
   "cell_type": "code",
   "execution_count": 30,
   "metadata": {},
   "outputs": [],
   "source": [
    "r1 = df_final.to_numpy()\n",
    "r2 = df_exp.to_numpy()\n",
    "X_final_mb = np.hstack((np.amax(r1) - r1 + 1, np.amax(r2) - r2 + 1))"
   ]
  },
  {
   "cell_type": "code",
   "execution_count": 150,
   "metadata": {},
   "outputs": [
    {
     "data": {
      "text/html": [
       "<div>\n",
       "<style scoped>\n",
       "    .dataframe tbody tr th:only-of-type {\n",
       "        vertical-align: middle;\n",
       "    }\n",
       "\n",
       "    .dataframe tbody tr th {\n",
       "        vertical-align: top;\n",
       "    }\n",
       "\n",
       "    .dataframe thead th {\n",
       "        text-align: right;\n",
       "    }\n",
       "</style>\n",
       "<table border=\"1\" class=\"dataframe\">\n",
       "  <thead>\n",
       "    <tr style=\"text-align: right;\">\n",
       "      <th></th>\n",
       "      <th>Итоговый рейтинг (мб)</th>\n",
       "    </tr>\n",
       "  </thead>\n",
       "  <tbody>\n",
       "    <tr>\n",
       "      <th>устрицы</th>\n",
       "      <td>4</td>\n",
       "    </tr>\n",
       "    <tr>\n",
       "      <th>арахис</th>\n",
       "      <td>2</td>\n",
       "    </tr>\n",
       "    <tr>\n",
       "      <th>молоко</th>\n",
       "      <td>3</td>\n",
       "    </tr>\n",
       "    <tr>\n",
       "      <th>макароны</th>\n",
       "      <td>2</td>\n",
       "    </tr>\n",
       "    <tr>\n",
       "      <th>молоко овс.</th>\n",
       "      <td>3</td>\n",
       "    </tr>\n",
       "    <tr>\n",
       "      <th>шоколад</th>\n",
       "      <td>3</td>\n",
       "    </tr>\n",
       "    <tr>\n",
       "      <th>cырок</th>\n",
       "      <td>2</td>\n",
       "    </tr>\n",
       "    <tr>\n",
       "      <th>кефир</th>\n",
       "      <td>4</td>\n",
       "    </tr>\n",
       "    <tr>\n",
       "      <th>греча</th>\n",
       "      <td>1</td>\n",
       "    </tr>\n",
       "  </tbody>\n",
       "</table>\n",
       "</div>"
      ],
      "text/plain": [
       "             Итоговый рейтинг (мб)\n",
       "устрицы                          4\n",
       "арахис                           2\n",
       "молоко                           3\n",
       "макароны                         2\n",
       "молоко овс.                      3\n",
       "шоколад                          3\n",
       "cырок                            2\n",
       "кефир                            4\n",
       "греча                            1"
      ]
     },
     "execution_count": 150,
     "metadata": {},
     "output_type": "execute_result"
    }
   ],
   "source": [
    "_, df_final_mb = get_Pareto_rating(X_final_mb, A_final, 'Итоговый рейтинг (мб)')\n",
    "df_final_mb"
   ]
  },
  {
   "cell_type": "code",
   "execution_count": 31,
   "metadata": {},
   "outputs": [
    {
     "data": {
      "image/png": "[encoded data removed]",
      "text/plain": [
       "<Figure size 1152x576 with 2 Axes>"
      ]
     },
     "metadata": {
      "needs_background": "light"
     },
     "output_type": "display_data"
    }
   ],
   "source": [
    "fig, (ax1, ax2) = plt.subplots(1, 2, figsize = (16, 8))\n",
    "\n",
    "ax1.scatter(X_final_mb[:, 0], X_final_mb[:, 1], color = 'black')\n",
    "ax1.set_xlim(0, 6)\n",
    "ax1.set_ylim(0, 6)\n",
    "ax1.set_xlabel('1-ый рейтинг')\n",
    "ax1.set_ylabel('2-ой рейтинг')\n",
    "\n",
    "ax2.set_title('Результат слияния рейтингов (1-ый рейтинг важнее 2-ого)')\n",
    "plot_Pareto_fronts_with_pref(X_final_mb, A_final, axis = ax2)\n",
    "ax2.set_xlabel('1-ый рейтинг')\n",
    "\n",
    "plt.show()"
   ]
  },
  {
   "cell_type": "code",
   "execution_count": 158,
   "metadata": {},
   "outputs": [
    {
     "data": {
      "text/plain": [
       "array([6.07142857, 4.28571429, 4.28571429, 4.57142857, 5.78571429,\n",
       "       3.42857143, 3.07142857, 4.85714286, 4.        ])"
      ]
     },
     "execution_count": 158,
     "metadata": {},
     "output_type": "execute_result"
    }
   ],
   "source": [
    "10 - experts.mean(axis = 1)"
   ]
  },
  {
   "cell_type": "code",
   "execution_count": 32,
   "metadata": {},
   "outputs": [
    {
     "data": {
      "text/html": [
       "<div>\n",
       "<style scoped>\n",
       "    .dataframe tbody tr th:only-of-type {\n",
       "        vertical-align: middle;\n",
       "    }\n",
       "\n",
       "    .dataframe tbody tr th {\n",
       "        vertical-align: top;\n",
       "    }\n",
       "\n",
       "    .dataframe thead th {\n",
       "        text-align: right;\n",
       "    }\n",
       "</style>\n",
       "<table border=\"1\" class=\"dataframe\">\n",
       "  <thead>\n",
       "    <tr style=\"text-align: right;\">\n",
       "      <th></th>\n",
       "      <th>Экспертный рейтинг</th>\n",
       "    </tr>\n",
       "  </thead>\n",
       "  <tbody>\n",
       "    <tr>\n",
       "      <th>устрицы</th>\n",
       "      <td>5</td>\n",
       "    </tr>\n",
       "    <tr>\n",
       "      <th>арахис</th>\n",
       "      <td>4</td>\n",
       "    </tr>\n",
       "    <tr>\n",
       "      <th>молоко</th>\n",
       "      <td>2</td>\n",
       "    </tr>\n",
       "    <tr>\n",
       "      <th>макароны</th>\n",
       "      <td>3</td>\n",
       "    </tr>\n",
       "    <tr>\n",
       "      <th>молоко овс.</th>\n",
       "      <td>3</td>\n",
       "    </tr>\n",
       "    <tr>\n",
       "      <th>шоколад</th>\n",
       "      <td>2</td>\n",
       "    </tr>\n",
       "    <tr>\n",
       "      <th>cырок</th>\n",
       "      <td>1</td>\n",
       "    </tr>\n",
       "    <tr>\n",
       "      <th>кефир</th>\n",
       "      <td>3</td>\n",
       "    </tr>\n",
       "    <tr>\n",
       "      <th>греча</th>\n",
       "      <td>2</td>\n",
       "    </tr>\n",
       "  </tbody>\n",
       "</table>\n",
       "</div>"
      ],
      "text/plain": [
       "             Экспертный рейтинг\n",
       "устрицы                       5\n",
       "арахис                        4\n",
       "молоко                        2\n",
       "макароны                      3\n",
       "молоко овс.                   3\n",
       "шоколад                       2\n",
       "cырок                         1\n",
       "кефир                         3\n",
       "греча                         2"
      ]
     },
     "execution_count": 32,
     "metadata": {},
     "output_type": "execute_result"
    }
   ],
   "source": [
    "k = len(experts)\n",
    "\n",
    "A_exp = np.zeros((k, k))\n",
    "\n",
    "rating_exp, df_exp = get_Pareto_rating_merged(experts, start = 0, end = k-1, name = 'Экспертный рейтинг')\n",
    "df_exp "
   ]
  },
  {
   "cell_type": "code",
   "execution_count": 37,
   "metadata": {},
   "outputs": [
    {
     "data": {
      "text/plain": [
       "array([ 55,  80,  79,  76,  56,  92, 100,  70,  84])"
      ]
     },
     "execution_count": 37,
     "metadata": {},
     "output_type": "execute_result"
    }
   ],
   "source": [
    "np.sum(experts, axis = 1)"
   ]
  },
  {
   "cell_type": "code",
   "execution_count": 33,
   "metadata": {},
   "outputs": [],
   "source": [
    "r1 = df_final.to_numpy()\n",
    "r2 = df_exp.to_numpy()\n",
    "alpha1 = 1\n",
    "alpha2 = 5\n",
    "X_final_mb = np.hstack((alpha1*(np.amax(r1) - r1 + 1), alpha2*(np.amax(r2) - r2 + 1)))"
   ]
  },
  {
   "cell_type": "code",
   "execution_count": 34,
   "metadata": {},
   "outputs": [
    {
     "data": {
      "text/html": [
       "<div>\n",
       "<style scoped>\n",
       "    .dataframe tbody tr th:only-of-type {\n",
       "        vertical-align: middle;\n",
       "    }\n",
       "\n",
       "    .dataframe tbody tr th {\n",
       "        vertical-align: top;\n",
       "    }\n",
       "\n",
       "    .dataframe thead th {\n",
       "        text-align: right;\n",
       "    }\n",
       "</style>\n",
       "<table border=\"1\" class=\"dataframe\">\n",
       "  <thead>\n",
       "    <tr style=\"text-align: right;\">\n",
       "      <th></th>\n",
       "      <th>Итоговый рейтинг (мб)</th>\n",
       "    </tr>\n",
       "  </thead>\n",
       "  <tbody>\n",
       "    <tr>\n",
       "      <th>устрицы</th>\n",
       "      <td>4</td>\n",
       "    </tr>\n",
       "    <tr>\n",
       "      <th>арахис</th>\n",
       "      <td>3</td>\n",
       "    </tr>\n",
       "    <tr>\n",
       "      <th>молоко</th>\n",
       "      <td>2</td>\n",
       "    </tr>\n",
       "    <tr>\n",
       "      <th>макароны</th>\n",
       "      <td>2</td>\n",
       "    </tr>\n",
       "    <tr>\n",
       "      <th>молоко овс.</th>\n",
       "      <td>3</td>\n",
       "    </tr>\n",
       "    <tr>\n",
       "      <th>шоколад</th>\n",
       "      <td>2</td>\n",
       "    </tr>\n",
       "    <tr>\n",
       "      <th>cырок</th>\n",
       "      <td>1</td>\n",
       "    </tr>\n",
       "    <tr>\n",
       "      <th>кефир</th>\n",
       "      <td>4</td>\n",
       "    </tr>\n",
       "    <tr>\n",
       "      <th>греча</th>\n",
       "      <td>1</td>\n",
       "    </tr>\n",
       "  </tbody>\n",
       "</table>\n",
       "</div>"
      ],
      "text/plain": [
       "             Итоговый рейтинг (мб)\n",
       "устрицы                          4\n",
       "арахис                           3\n",
       "молоко                           2\n",
       "макароны                         2\n",
       "молоко овс.                      3\n",
       "шоколад                          2\n",
       "cырок                            1\n",
       "кефир                            4\n",
       "греча                            1"
      ]
     },
     "execution_count": 34,
     "metadata": {},
     "output_type": "execute_result"
    }
   ],
   "source": [
    "A_final = np.array([[0, 0], [1, 0]])\n",
    "\n",
    "_, df_final_mb = get_Pareto_rating(X_final_mb, A_final, 'Итоговый рейтинг (мб)')\n",
    "df_final_mb"
   ]
  },
  {
   "cell_type": "code",
   "execution_count": 61,
   "metadata": {},
   "outputs": [
    {
     "data": {
      "image/png": "[encoded data removed]",
      "text/plain": [
       "<Figure size 1152x576 with 2 Axes>"
      ]
     },
     "metadata": {
      "needs_background": "light"
     },
     "output_type": "display_data"
    }
   ],
   "source": [
    "fig, (ax1, ax2) = plt.subplots(1, 2, figsize = (16, 8))\n",
    "\n",
    "ax1.scatter(X_final_mb[:, 0], X_final_mb[:, 1], color = 'black')\n",
    "#ax1.set_xlim(0, 6)\n",
    "#ax1.set_ylim(0, 6)\n",
    "ax1.set_xlabel('1-ый рейтинг')\n",
    "ax1.set_ylabel('2-ой рейтинг')\n",
    "\n",
    "ax2.set_title('Результаты Парето-ранжирования (1-ый рейтинг важнее 2-ого)')\n",
    "plot_Pareto_fronts_with_pref(X_final_mb, A_final, axis = ax2)\n",
    "ax2.set_xlabel('1-ый рейтинг')\n",
    "\n",
    "plt.show()"
   ]
  },
  {
   "cell_type": "code",
   "execution_count": 38,
   "metadata": {},
   "outputs": [
    {
     "data": {
      "text/plain": [
       "array([ 55,  80,  79,  76,  56,  92, 100,  70,  84])"
      ]
     },
     "execution_count": 38,
     "metadata": {},
     "output_type": "execute_result"
    }
   ],
   "source": [
    "np.sum(experts, axis = 1)"
   ]
  },
  {
   "cell_type": "code",
   "execution_count": 66,
   "metadata": {},
   "outputs": [
    {
     "data": {
      "image/png": "[encoded data removed]",
      "text/plain": [
       "<Figure size 504x504 with 1 Axes>"
      ]
     },
     "metadata": {
      "needs_background": "light"
     },
     "output_type": "display_data"
    }
   ],
   "source": [
    "names = ['устрицы', 'арахис', 'молоко', 'макароны', 'молоко овс.', 'шоколад', 'сырок', 'кефир', 'греча']\n",
    "\n",
    "r1 = np.array([9, 6, 4, 5, 7, 3, 1, 8, 2])\n",
    "r2 = np.array([9, 5, 4, 6, 8, 2, 1, 7, 3])\n",
    "\n",
    "x = np.array([0,10])\n",
    "\n",
    "\n",
    "plt.figure(figsize = (7,7))\n",
    "plt.plot(x, x, '--', alpha = 0.5)\n",
    "plt.scatter(r1, r2)\n",
    "for i, name in enumerate(names):\n",
    "    plt.text(r1[i], r2[i], name)\n",
    "plt.xlabel('Построенный рейтинг')\n",
    "plt.ylabel('Средний рейтинг')\n",
    "plt.show()"
   ]
  },
  {
   "cell_type": "code",
   "execution_count": 39,
   "metadata": {},
   "outputs": [
    {
     "data": {
      "text/plain": [
       "array([[6, 4, 4, 4, 1, 5, 4, 4, 4, 4, 7, 1, 3, 4],\n",
       "       [8, 4, 6, 2, 3, 6, 7, 7, 6, 6, 4, 7, 6, 8],\n",
       "       [5, 9, 5, 5, 6, 7, 2, 6, 8, 7, 5, 5, 4, 5],\n",
       "       [3, 3, 8, 7, 8, 2, 6, 4, 7, 5, 5, 4, 5, 9],\n",
       "       [3, 8, 3, 8, 4, 3, 5, 5, 3, 3, 3, 3, 2, 3],\n",
       "       [7, 6, 9, 1, 5, 7, 9, 9, 4, 4, 9, 8, 8, 6],\n",
       "       [8, 7, 7, 8, 9, 8, 4, 8, 9, 9, 8, 2, 8, 5],\n",
       "       [4, 5, 2, 6, 3, 9, 3, 3, 6, 3, 4, 9, 9, 4],\n",
       "       [9, 2, 4, 9, 7, 4, 8, 2, 5, 8, 6, 6, 7, 7]])"
      ]
     },
     "execution_count": 39,
     "metadata": {},
     "output_type": "execute_result"
    }
   ],
   "source": [
    "experts"
   ]
  },
  {
   "cell_type": "code",
   "execution_count": 43,
   "metadata": {},
   "outputs": [],
   "source": [
    "from scipy.stats import kendalltau\n",
    "\n",
    "k = experts.shape[1]\n",
    "\n",
    "coefs = [[kendalltau(experts[:, i], experts[:, j])[0] for j in range(k)] for i in range(k)]\n",
    "coefs_array = np.array(coefs)"
   ]
  },
  {
   "cell_type": "code",
   "execution_count": 44,
   "metadata": {},
   "outputs": [
    {
     "data": {
      "text/plain": [
       "(14, 14)"
      ]
     },
     "execution_count": 44,
     "metadata": {},
     "output_type": "execute_result"
    }
   ],
   "source": [
    "coefs_array.shape"
   ]
  },
  {
   "cell_type": "code",
   "execution_count": 61,
   "metadata": {},
   "outputs": [],
   "source": [
    "coefs = np.sum(coefs_array, axis = 1)"
   ]
  },
  {
   "cell_type": "code",
   "execution_count": 62,
   "metadata": {},
   "outputs": [],
   "source": [
    "A_exp = np.zeros((k, k))\n",
    "for i in range(k):\n",
    "    for j in range(k):\n",
    "        if coefs[i] > coefs[j]:\n",
    "            A_exp[i][j] += 1"
   ]
  },
  {
   "cell_type": "code",
   "execution_count": 63,
   "metadata": {},
   "outputs": [
    {
     "data": {
      "text/plain": [
       "array([[0., 1., 0., 1., 0., 1., 1., 1., 0., 0., 0., 1., 0., 1.],\n",
       "       [0., 0., 0., 1., 0., 0., 0., 0., 0., 0., 0., 0., 0., 0.],\n",
       "       [1., 1., 0., 1., 1., 1., 1., 1., 1., 0., 1., 1., 1., 1.],\n",
       "       [0., 0., 0., 0., 0., 0., 0., 0., 0., 0., 0., 0., 0., 0.],\n",
       "       [1., 1., 0., 1., 0., 1., 1., 1., 1., 0., 1., 1., 0., 1.],\n",
       "       [0., 1., 0., 1., 0., 0., 1., 0., 0., 0., 0., 1., 0., 0.],\n",
       "       [0., 1., 0., 1., 0., 0., 0., 0., 0., 0., 0., 1., 0., 0.],\n",
       "       [0., 1., 0., 1., 0., 1., 1., 0., 0., 0., 0., 1., 0., 1.],\n",
       "       [1., 1., 0., 1., 0., 1., 1., 1., 0., 0., 0., 1., 0., 1.],\n",
       "       [1., 1., 1., 1., 1., 1., 1., 1., 1., 0., 1., 1., 1., 1.],\n",
       "       [1., 1., 0., 1., 0., 1., 1., 1., 1., 0., 0., 1., 0., 1.],\n",
       "       [0., 1., 0., 1., 0., 0., 0., 0., 0., 0., 0., 0., 0., 0.],\n",
       "       [1., 1., 0., 1., 1., 1., 1., 1., 1., 0., 1., 1., 0., 1.],\n",
       "       [0., 1., 0., 1., 0., 1., 1., 0., 0., 0., 0., 1., 0., 0.]])"
      ]
     },
     "execution_count": 63,
     "metadata": {},
     "output_type": "execute_result"
    }
   ],
   "source": [
    "A_exp"
   ]
  },
  {
   "cell_type": "code",
   "execution_count": 50,
   "metadata": {},
   "outputs": [
    {
     "data": {
      "text/html": [
       "<div>\n",
       "<style scoped>\n",
       "    .dataframe tbody tr th:only-of-type {\n",
       "        vertical-align: middle;\n",
       "    }\n",
       "\n",
       "    .dataframe tbody tr th {\n",
       "        vertical-align: top;\n",
       "    }\n",
       "\n",
       "    .dataframe thead th {\n",
       "        text-align: right;\n",
       "    }\n",
       "</style>\n",
       "<table border=\"1\" class=\"dataframe\">\n",
       "  <thead>\n",
       "    <tr style=\"text-align: right;\">\n",
       "      <th></th>\n",
       "      <th>Экспертный рейтинг</th>\n",
       "    </tr>\n",
       "  </thead>\n",
       "  <tbody>\n",
       "    <tr>\n",
       "      <th>устрицы</th>\n",
       "      <td>2</td>\n",
       "    </tr>\n",
       "    <tr>\n",
       "      <th>арахис</th>\n",
       "      <td>1</td>\n",
       "    </tr>\n",
       "    <tr>\n",
       "      <th>молоко</th>\n",
       "      <td>1</td>\n",
       "    </tr>\n",
       "    <tr>\n",
       "      <th>макароны</th>\n",
       "      <td>1</td>\n",
       "    </tr>\n",
       "    <tr>\n",
       "      <th>молоко овс.</th>\n",
       "      <td>1</td>\n",
       "    </tr>\n",
       "    <tr>\n",
       "      <th>шоколад</th>\n",
       "      <td>1</td>\n",
       "    </tr>\n",
       "    <tr>\n",
       "      <th>сырок</th>\n",
       "      <td>1</td>\n",
       "    </tr>\n",
       "    <tr>\n",
       "      <th>кефир</th>\n",
       "      <td>1</td>\n",
       "    </tr>\n",
       "    <tr>\n",
       "      <th>греча</th>\n",
       "      <td>1</td>\n",
       "    </tr>\n",
       "  </tbody>\n",
       "</table>\n",
       "</div>"
      ],
      "text/plain": [
       "             Экспертный рейтинг\n",
       "устрицы                       2\n",
       "арахис                        1\n",
       "молоко                        1\n",
       "макароны                      1\n",
       "молоко овс.                   1\n",
       "шоколад                       1\n",
       "сырок                         1\n",
       "кефир                         1\n",
       "греча                         1"
      ]
     },
     "execution_count": 50,
     "metadata": {},
     "output_type": "execute_result"
    }
   ],
   "source": [
    "_, df_exp_with_pref = get_Pareto_rating(experts, A_exp, 'Экспертный рейтинг')\n",
    "df_exp_with_pref "
   ]
  },
  {
   "cell_type": "code",
   "execution_count": 55,
   "metadata": {},
   "outputs": [],
   "source": [
    "def get_Pareto_rating_merged_with_pref(X, start, end, A, name = 'рейтинг', plots = False):\n",
    "    n = end - start\n",
    "    if n <= 2:\n",
    "        rating, df = get_Pareto_rating(X[:, start:(end+1)], A[start:end+1, start:end+1], name = name)\n",
    "    else:\n",
    "        _, df1 = get_Pareto_rating_merged(X, start = start, end = start + n//2, plots = plots)\n",
    "        _, df2 = get_Pareto_rating_merged(X, start = start + n//2 + 1, end = end, plots = plots)\n",
    "\n",
    "        r1 = df1.to_numpy()\n",
    "        r2 = df2.to_numpy()\n",
    "        a1 = n//2 + 1\n",
    "        a2 = end - start - n//2 - 1\n",
    "        alpha1 = a1/(a1 + a2)\n",
    "        alpha2 = a2/(a1 + a2)\n",
    "        \n",
    "        X_merged = np.hstack((alpha1*(np.amax(r1) - r1 + 1), alpha2*(np.amax(r2) - r2 + 1)))\n",
    "        rating, df = get_Pareto_rating(X_merged, np.zeros((2, 2)), name = name)\n",
    "        \n",
    "    return rating, df"
   ]
  },
  {
   "cell_type": "code",
   "execution_count": 56,
   "metadata": {},
   "outputs": [
    {
     "data": {
      "text/html": [
       "<div>\n",
       "<style scoped>\n",
       "    .dataframe tbody tr th:only-of-type {\n",
       "        vertical-align: middle;\n",
       "    }\n",
       "\n",
       "    .dataframe tbody tr th {\n",
       "        vertical-align: top;\n",
       "    }\n",
       "\n",
       "    .dataframe thead th {\n",
       "        text-align: right;\n",
       "    }\n",
       "</style>\n",
       "<table border=\"1\" class=\"dataframe\">\n",
       "  <thead>\n",
       "    <tr style=\"text-align: right;\">\n",
       "      <th></th>\n",
       "      <th>Экспертный рейтинг</th>\n",
       "    </tr>\n",
       "  </thead>\n",
       "  <tbody>\n",
       "    <tr>\n",
       "      <th>устрицы</th>\n",
       "      <td>4</td>\n",
       "    </tr>\n",
       "    <tr>\n",
       "      <th>арахис</th>\n",
       "      <td>2</td>\n",
       "    </tr>\n",
       "    <tr>\n",
       "      <th>молоко</th>\n",
       "      <td>2</td>\n",
       "    </tr>\n",
       "    <tr>\n",
       "      <th>макароны</th>\n",
       "      <td>2</td>\n",
       "    </tr>\n",
       "    <tr>\n",
       "      <th>молоко овс.</th>\n",
       "      <td>4</td>\n",
       "    </tr>\n",
       "    <tr>\n",
       "      <th>шоколад</th>\n",
       "      <td>1</td>\n",
       "    </tr>\n",
       "    <tr>\n",
       "      <th>сырок</th>\n",
       "      <td>1</td>\n",
       "    </tr>\n",
       "    <tr>\n",
       "      <th>кефир</th>\n",
       "      <td>3</td>\n",
       "    </tr>\n",
       "    <tr>\n",
       "      <th>греча</th>\n",
       "      <td>1</td>\n",
       "    </tr>\n",
       "  </tbody>\n",
       "</table>\n",
       "</div>"
      ],
      "text/plain": [
       "             Экспертный рейтинг\n",
       "устрицы                       4\n",
       "арахис                        2\n",
       "молоко                        2\n",
       "макароны                      2\n",
       "молоко овс.                   4\n",
       "шоколад                       1\n",
       "сырок                         1\n",
       "кефир                         3\n",
       "греча                         1"
      ]
     },
     "execution_count": 56,
     "metadata": {},
     "output_type": "execute_result"
    }
   ],
   "source": [
    "rating_exp, df_exp_merged_with_pref = get_Pareto_rating_merged_with_pref(experts, 0, k-1, A_exp, name = 'Экспертный рейтинг')\n",
    "df_exp_merged_with_pref"
   ]
  },
  {
   "cell_type": "code",
   "execution_count": 57,
   "metadata": {},
   "outputs": [],
   "source": [
    "r1 = df_final.to_numpy()\n",
    "r2 = df_exp.to_numpy()\n",
    "alpha1 = 1\n",
    "alpha2 = 1\n",
    "#alpha2 = 5\n",
    "X_final_mb = np.hstack((alpha1*(np.amax(r1) - r1 + 1), alpha2*(np.amax(r2) - r2 + 1)))"
   ]
  },
  {
   "cell_type": "code",
   "execution_count": 58,
   "metadata": {},
   "outputs": [
    {
     "data": {
      "text/html": [
       "<div>\n",
       "<style scoped>\n",
       "    .dataframe tbody tr th:only-of-type {\n",
       "        vertical-align: middle;\n",
       "    }\n",
       "\n",
       "    .dataframe tbody tr th {\n",
       "        vertical-align: top;\n",
       "    }\n",
       "\n",
       "    .dataframe thead th {\n",
       "        text-align: right;\n",
       "    }\n",
       "</style>\n",
       "<table border=\"1\" class=\"dataframe\">\n",
       "  <thead>\n",
       "    <tr style=\"text-align: right;\">\n",
       "      <th></th>\n",
       "      <th>Итоговый рейтинг (мб)</th>\n",
       "    </tr>\n",
       "  </thead>\n",
       "  <tbody>\n",
       "    <tr>\n",
       "      <th>устрицы</th>\n",
       "      <td>5</td>\n",
       "    </tr>\n",
       "    <tr>\n",
       "      <th>арахис</th>\n",
       "      <td>3</td>\n",
       "    </tr>\n",
       "    <tr>\n",
       "      <th>молоко</th>\n",
       "      <td>2</td>\n",
       "    </tr>\n",
       "    <tr>\n",
       "      <th>макароны</th>\n",
       "      <td>2</td>\n",
       "    </tr>\n",
       "    <tr>\n",
       "      <th>молоко овс.</th>\n",
       "      <td>3</td>\n",
       "    </tr>\n",
       "    <tr>\n",
       "      <th>шоколад</th>\n",
       "      <td>2</td>\n",
       "    </tr>\n",
       "    <tr>\n",
       "      <th>сырок</th>\n",
       "      <td>1</td>\n",
       "    </tr>\n",
       "    <tr>\n",
       "      <th>кефир</th>\n",
       "      <td>4</td>\n",
       "    </tr>\n",
       "    <tr>\n",
       "      <th>греча</th>\n",
       "      <td>1</td>\n",
       "    </tr>\n",
       "  </tbody>\n",
       "</table>\n",
       "</div>"
      ],
      "text/plain": [
       "             Итоговый рейтинг (мб)\n",
       "устрицы                          5\n",
       "арахис                           3\n",
       "молоко                           2\n",
       "макароны                         2\n",
       "молоко овс.                      3\n",
       "шоколад                          2\n",
       "сырок                            1\n",
       "кефир                            4\n",
       "греча                            1"
      ]
     },
     "execution_count": 58,
     "metadata": {},
     "output_type": "execute_result"
    }
   ],
   "source": [
    "A_final = np.array([[0, 0], [1, 0]])\n",
    "\n",
    "_, df_final_mb = get_Pareto_rating(X_final_mb, A_final, 'Итоговый рейтинг (мб)')\n",
    "df_final_mb"
   ]
  },
  {
   "cell_type": "code",
   "execution_count": 70,
   "metadata": {},
   "outputs": [
    {
     "data": {
      "image/png": "[encoded data removed]",
      "text/plain": [
       "<Figure size 1152x576 with 2 Axes>"
      ]
     },
     "metadata": {
      "needs_background": "light"
     },
     "output_type": "display_data"
    }
   ],
   "source": [
    "fig, (ax1, ax2) = plt.subplots(1, 2, figsize = (16, 8))\n",
    "\n",
    "ax1.scatter(X_final_mb[:, 0], X_final_mb[:, 1], color = 'black')\n",
    "#ax1.set_xlim(0, 6)\n",
    "#ax1.set_ylim(0, 6)\n",
    "ax1.set_xlabel('Вспомогательный рейтинг')\n",
    "ax1.set_ylabel('Рейтинг согласно мнениям экспертов')\n",
    "\n",
    "ax2.set_title('Результаты Парето-ранжирования')\n",
    "plot_Pareto_fronts_with_pref(X_final_mb, A_final, axis = ax2)\n",
    "ax2.set_ylabel('Рейтинг согласно мнениям экспертов')\n",
    "ax2.set_xlabel('Вспомогательный рейтинг')\n",
    "\n",
    "plt.show()"
   ]
  },
  {
   "cell_type": "code",
   "execution_count": 59,
   "metadata": {},
   "outputs": [
    {
     "data": {
      "text/plain": [
       "array([[0.5, 1.5],\n",
       "       [1. , 2. ],\n",
       "       [1.5, 2.5]])"
      ]
     },
     "execution_count": 59,
     "metadata": {},
     "output_type": "execute_result"
    }
   ],
   "source": [
    "B = np.array([[1, 3], [2, 4], [3, 5]])\n",
    "c = np.array([0.5, 0.5])\n",
    "\n",
    "B*c"
   ]
  },
  {
   "cell_type": "code",
   "execution_count": 65,
   "metadata": {},
   "outputs": [
    {
     "data": {
      "text/plain": [
       "array([147.20121693, 222.08836266, 206.70933913, 207.92101074,\n",
       "       121.86428522, 255.17078501, 276.98853793, 173.56660648,\n",
       "       223.46629057])"
      ]
     },
     "execution_count": 65,
     "metadata": {},
     "output_type": "execute_result"
    }
   ],
   "source": [
    "np.sum(experts*coefs, axis = 1)"
   ]
  },
  {
   "cell_type": "code",
   "execution_count": null,
   "metadata": {},
   "outputs": [],
   "source": [
    "names = ['устрицы', 'арахис', 'молоко', 'макароны', 'молоко овс.', 'шоколад', 'сырок', 'кефир', 'греча']"
   ]
  }
 ],
 "metadata": {
  "kernelspec": {
   "display_name": "Python 3",
   "language": "python",
   "name": "python3"
  },
  "language_info": {
   "codemirror_mode": {
    "name": "ipython",
    "version": 3
   },
   "file_extension": ".py",
   "mimetype": "text/x-python",
   "name": "python",
   "nbconvert_exporter": "python",
   "pygments_lexer": "ipython3",
   "version": "3.8.3"
  }
 },
 "nbformat": 4,
 "nbformat_minor": 4
}
