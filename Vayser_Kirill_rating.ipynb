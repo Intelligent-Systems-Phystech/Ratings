{
 "cells": [
  {
   "cell_type": "code",
   "execution_count": 1,
   "id": "alpha-strip",
   "metadata": {},
   "outputs": [
    {
     "data": {
      "text/plain": [
       "[7, 6, 9, 2, 4, 8, 3, 5, 1]"
      ]
     },
     "execution_count": 1,
     "metadata": {},
     "output_type": "execute_result"
    }
   ],
   "source": [
    "import numpy as np\n",
    "import pandas as pd\n",
    "from scipy.optimize import minimize_scalar\n",
    "from matplotlib import pyplot as plt\n",
    "\n",
    "A = pd.read_csv('A.csv', header=None)\n",
    "\n",
    "A.replace(0, np.nan, inplace=True)\n",
    "A = A[:-1]\n",
    "\n",
    "columns = np.arange(5, 20, 1)\n",
    "for col in columns:\n",
    "    \n",
    "    column = A[col]\n",
    "    unique_values = set(column.unique())\n",
    "    missed = sorted(list(set(range(1,10)).difference(unique_values)))\n",
    "    rows_with_nan = []\n",
    "    for index, row in pd.DataFrame(column).iterrows():\n",
    "        is_nan_series = row.isnull()\n",
    "        if is_nan_series.any():\n",
    "            rows_with_nan.append(index)\n",
    "    means = []\n",
    "    for index in rows_with_nan:\n",
    "        means.append(A.iloc[index, :][5:].dropna().mean())\n",
    "    rows_with_nan = [y for _, y in sorted(zip(means,rows_with_nan ))]\n",
    "    dict_mapping = dict(zip(rows_with_nan, range(len(means))))\n",
    "    for index in rows_with_nan:\n",
    "        column[index] = missed[dict_mapping[index]]\n",
    "    \n",
    "    \n",
    "\n",
    "from sklearn import preprocessing\n",
    "\n",
    "x = A.values #returns a numpy array\n",
    "min_max_scaler = preprocessing.MinMaxScaler()\n",
    "x_scaled = min_max_scaler.fit_transform(A)\n",
    "df = pd.DataFrame(x_scaled)\n",
    "\n",
    "df.loc['9'] = df.median()\n",
    "for col in columns:\n",
    "    df[col]['9'] = 0\n",
    "from scipy.spatial.distance import minkowski\n",
    "results = []\n",
    "for i in range(9):\n",
    "    results.append(minkowski(df.loc[i], df.loc['9'], p=4))\n",
    "rating = [y for _, y in sorted(zip(results, range(1,10)), reverse = True)]\n",
    "rating"
   ]
  },
  {
   "cell_type": "code",
   "execution_count": null,
   "id": "confident-fourth",
   "metadata": {},
   "outputs": [],
   "source": []
  }
 ],
 "metadata": {
  "kernelspec": {
   "display_name": "Python 3",
   "language": "python",
   "name": "python3"
  },
  "language_info": {
   "codemirror_mode": {
    "name": "ipython",
    "version": 3
   },
   "file_extension": ".py",
   "mimetype": "text/x-python",
   "name": "python",
   "nbconvert_exporter": "python",
   "pygments_lexer": "ipython3",
   "version": "3.7.10"
  }
 },
 "nbformat": 4,
 "nbformat_minor": 5
}
