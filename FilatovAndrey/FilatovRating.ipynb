{
  "nbformat": 4,
  "nbformat_minor": 0,
  "metadata": {
    "colab": {
      "name": "Rating.ipynb",
      "provenance": [],
      "collapsed_sections": [],
      "toc_visible": true
    },
    "kernelspec": {
      "name": "python3",
      "display_name": "Python 3"
    },
    "language_info": {
      "name": "python"
    }
  },
  "cells": [
    {
      "cell_type": "code",
      "metadata": {
        "id": "tS5HRSn_-_d-"
      },
      "source": [
        "!pip install matrix-completion -q"
      ],
      "execution_count": null,
      "outputs": []
    },
    {
      "cell_type": "code",
      "metadata": {
        "id": "LYtiFebsXX-K"
      },
      "source": [
        "import numpy as np \n",
        "import pandas as pd\n",
        "from matrix_completion import pmf_solve, svt_solve\n",
        "from scipy.stats import pearsonr, kendalltau\n",
        "from sklearn.isotonic import IsotonicRegression\n",
        "from matplotlib import pyplot as plt"
      ],
      "execution_count": null,
      "outputs": []
    },
    {
      "cell_type": "code",
      "metadata": {
        "id": "wOROGEQvArqZ"
      },
      "source": [
        "df = pd.read_excel('/content/data.xlsx')"
      ],
      "execution_count": null,
      "outputs": []
    },
    {
      "cell_type": "code",
      "metadata": {
        "id": "0GXxx0z0Xz7o"
      },
      "source": [
        "experts = df.columns[6:]"
      ],
      "execution_count": null,
      "outputs": []
    },
    {
      "cell_type": "code",
      "metadata": {
        "id": "i0eghs-AX7_4"
      },
      "source": [
        "expert_estimates = df[experts].fillna(0).values\n",
        "mask = expert_estimates != 0"
      ],
      "execution_count": null,
      "outputs": []
    },
    {
      "cell_type": "code",
      "metadata": {
        "id": "rFGjgh5-u_gg"
      },
      "source": [
        "R_hat = svt_solve(expert_estimates, mask, epsilon=0.07)"
      ],
      "execution_count": null,
      "outputs": []
    },
    {
      "cell_type": "code",
      "metadata": {
        "id": "M4qdiKchqR4n"
      },
      "source": [
        "M = np.zeros((len(R_hat), len(R_hat)))\n",
        "for i in range(len(R_hat)):\n",
        "    for j in range(i, len(R_hat)):\n",
        "        M[i, j] = kendalltau(R_hat[i], R_hat[j])[0]\n",
        "        M[j, i] = M[i, j]"
      ],
      "execution_count": null,
      "outputs": []
    },
    {
      "cell_type": "code",
      "metadata": {
        "id": "WDrF4RC6sTdX",
        "colab": {
          "base_uri": "https://localhost:8080/"
        },
        "outputId": "4714a27f-c9b3-474d-c6a4-5f374e54c064"
      },
      "source": [
        "np.median(M, axis=1)"
      ],
      "execution_count": null,
      "outputs": [
        {
          "output_type": "execute_result",
          "data": {
            "text/plain": [
              "array([ 0.        ,  0.03030303,  0.03030303, -0.06060606,  0.03030303,\n",
              "       -0.06060606,  0.12121212, -0.03030303,  0.03030303])"
            ]
          },
          "metadata": {
            "tags": []
          },
          "execution_count": 101
        }
      ]
    },
    {
      "cell_type": "code",
      "metadata": {
        "id": "C0P5l5VTmPTt"
      },
      "source": [
        "expert_score = np.corrcoef(R_hat.T).mean(0)\n",
        "expert_rank = np.argsort(expert_score)"
      ],
      "execution_count": null,
      "outputs": []
    },
    {
      "cell_type": "code",
      "metadata": {
        "colab": {
          "base_uri": "https://localhost:8080/"
        },
        "id": "Jr8JSJF-yiZd",
        "outputId": "17720436-c630-4e15-a5c6-d1417290e380"
      },
      "source": [
        "expert_score"
      ],
      "execution_count": null,
      "outputs": [
        {
          "output_type": "execute_result",
          "data": {
            "text/plain": [
              "array([ 0.06903422,  0.05340581,  0.21500023,  0.0060369 ,  0.16932247,\n",
              "        0.09156626,  0.04222482,  0.20818006,  0.20244757,  0.13134664,\n",
              "        0.1670649 , -0.07747331])"
            ]
          },
          "metadata": {
            "tags": []
          },
          "execution_count": 8
        }
      ]
    },
    {
      "cell_type": "code",
      "metadata": {
        "id": "Xu9qRv1jtgHN"
      },
      "source": [
        "map_col2name = {i:df.columns[6+i] for i in range(len(df.columns[6:]))}"
      ],
      "execution_count": null,
      "outputs": []
    },
    {
      "cell_type": "code",
      "metadata": {
        "colab": {
          "base_uri": "https://localhost:8080/"
        },
        "id": "Mb0Wpj43uX3O",
        "outputId": "fd81b28b-795c-416c-a457-79f8f98a4a78"
      },
      "source": [
        "[map_col2name[expert] for expert in expert_rank]"
      ],
      "execution_count": null,
      "outputs": [
        {
          "output_type": "execute_result",
          "data": {
            "text/plain": [
              "['Алсаханова',\n",
              " 'Тихонов',\n",
              " 'Харь',\n",
              " 'Гребенькова',\n",
              " 'Стрижов',\n",
              " 'Панкратов',\n",
              " 'Волынцев',\n",
              " 'Христолюбов',\n",
              " 'Панченко',\n",
              " 'Исламов',\n",
              " 'Савельев',\n",
              " 'Михеев']"
            ]
          },
          "metadata": {
            "tags": []
          },
          "execution_count": 10
        }
      ]
    },
    {
      "cell_type": "code",
      "metadata": {
        "id": "-Gi-27fExShD"
      },
      "source": [
        "df['Ценность'] = df['Калорийность, кКал'] / df['Цена 100г, руб.']"
      ],
      "execution_count": null,
      "outputs": []
    },
    {
      "cell_type": "code",
      "metadata": {
        "id": "XXSCEx_Cxjc9"
      },
      "source": [
        "weights = np.argsort(np.argsort(np.corrcoef(R_hat.T).mean(0))) + 1"
      ],
      "execution_count": null,
      "outputs": []
    },
    {
      "cell_type": "code",
      "metadata": {
        "id": "OfRQZdu_w2uG"
      },
      "source": [
        "expert_outputs = []\n",
        "for _, elem in df.iterrows():\n",
        "    mask = ~elem[6:-1].isna() \n",
        "    expert_outputs.append(np.nansum(weights * elem[6:-1]) / (weights * mask).sum())"
      ],
      "execution_count": null,
      "outputs": []
    },
    {
      "cell_type": "code",
      "metadata": {
        "colab": {
          "base_uri": "https://localhost:8080/"
        },
        "id": "DGlBaqDXGk6V",
        "outputId": "bd3b46a8-1ae5-4ec0-edb4-a7214800b201"
      },
      "source": [
        "df[df.columns[0]]"
      ],
      "execution_count": null,
      "outputs": [
        {
          "output_type": "execute_result",
          "data": {
            "text/plain": [
              "0                                              Устрицы\n",
              "1                                       Арахиc соленый\n",
              "2                                          Молоко 2,5%\n",
              "3                                             Макароны\n",
              "4                                  Овсяное молоко 3.2%\n",
              "5                                              Шоколад\n",
              "6    Сырок \"РОСТАГРОЭКСПОРТ\" творожный глазированны...\n",
              "7                                           Кефир 3.2%\n",
              "8                                      Гречневая крупа\n",
              "Name: Объект, dtype: object"
            ]
          },
          "metadata": {
            "tags": []
          },
          "execution_count": 14
        }
      ]
    },
    {
      "cell_type": "code",
      "metadata": {
        "id": "-0Pyzh3_y0jr"
      },
      "source": [
        "match = list(zip(expert_outputs, df[df.columns[0]]))"
      ],
      "execution_count": null,
      "outputs": []
    },
    {
      "cell_type": "code",
      "metadata": {
        "id": "T-oD8j72HLCS"
      },
      "source": [
        "pred = sorted(match, key=lambda x: x[0])"
      ],
      "execution_count": null,
      "outputs": []
    },
    {
      "cell_type": "code",
      "metadata": {
        "colab": {
          "base_uri": "https://localhost:8080/"
        },
        "id": "PXQ2lHypc6fB",
        "outputId": "67f5cce0-4e2d-41f1-89df-7bbdc7165213"
      },
      "source": [
        "pred"
      ],
      "execution_count": null,
      "outputs": [
        {
          "output_type": "execute_result",
          "data": {
            "text/plain": [
              "[(2.112676056338028,\n",
              "  'Сырок \"РОСТАГРОЭКСПОРТ\" творожный глазированный с \"Варенкой\"'),\n",
              " (3.2222222222222223, 'Шоколад'),\n",
              " (3.9358974358974357, 'Молоко 2,5%'),\n",
              " (4.4, 'Макароны'),\n",
              " (4.5, 'Арахиc соленый'),\n",
              " (4.717948717948718, 'Гречневая крупа'),\n",
              " (5.655172413793103, 'Устрицы'),\n",
              " (5.984848484848484, 'Овсяное молоко 3.2%'),\n",
              " (6.0, 'Кефир 3.2%')]"
            ]
          },
          "metadata": {
            "tags": []
          },
          "execution_count": 24
        }
      ]
    },
    {
      "cell_type": "code",
      "metadata": {
        "id": "KHwBbnqwcdX4"
      },
      "source": [
        "pred_name = [elem[1] for elem in pred]"
      ],
      "execution_count": null,
      "outputs": []
    },
    {
      "cell_type": "code",
      "metadata": {
        "colab": {
          "base_uri": "https://localhost:8080/"
        },
        "id": "GjInMqWldXdL",
        "outputId": "1067bc12-3b81-48ec-e141-36d13ad13835"
      },
      "source": [
        "pred_name"
      ],
      "execution_count": null,
      "outputs": [
        {
          "output_type": "execute_result",
          "data": {
            "text/plain": [
              "['Сырок \"РОСТАГРОЭКСПОРТ\" творожный глазированный с \"Варенкой\"',\n",
              " 'Шоколад',\n",
              " 'Молоко 2,5%',\n",
              " 'Макароны',\n",
              " 'Арахиc соленый',\n",
              " 'Гречневая крупа',\n",
              " 'Устрицы',\n",
              " 'Овсяное молоко 3.2%',\n",
              " 'Кефир 3.2%']"
            ]
          },
          "metadata": {
            "tags": []
          },
          "execution_count": 28
        }
      ]
    },
    {
      "cell_type": "code",
      "metadata": {
        "id": "_utIaYCgcElv"
      },
      "source": [
        "my_rating = {elem: i for i, elem in enumerate(pred_name)}\n",
        "first_rating = {\"Устрицы\": 9, \"Арахиc соленый\" : 4,\n",
        "\"Молоко 2,5%\": 5,\t\"Макароны\": 6, \"Овсяное молоко 3.2%\":8, \"Шоколад\":2, \n",
        "'Сырок \"РОСТАГРОЭКСПОРТ\" творожный глазированный с \"Варенкой\"':1, \t\"Кефир 3.2%\":7,\t\n",
        "\"Гречневая крупа\": 3}\n",
        "rus_rating = dict(zip(list(first_rating.keys()), (9,3,8,4,5,1,6,7,2)))"
      ],
      "execution_count": null,
      "outputs": []
    },
    {
      "cell_type": "code",
      "metadata": {
        "id": "kCuX8j3IhWa_"
      },
      "source": [
        "def plot_rating(my_rating, other_rating):\n",
        "    out = []\n",
        "    for elem in my_rating:\n",
        "        out.append(other_rating[elem])\n",
        "\n",
        "    plt.scatter(range(1,10), out, label=list())\n",
        "    for i, label in enumerate(my_rating.keys()):\n",
        "        plt.annotate(label, (i+1, other_rating[label]))\n",
        "    plt.plot(range(1, 10), range(1, 10))\n",
        "    plt.grid()\n",
        "    plt.xlabel(\"Мой\")\n",
        "    plt.ylabel(\"Аноним\")\n",
        "    plt.savefig(\"2.png\")\n",
        "    plt.show()"
      ],
      "execution_count": null,
      "outputs": []
    },
    {
      "cell_type": "code",
      "metadata": {
        "colab": {
          "base_uri": "https://localhost:8080/",
          "height": 279
        },
        "id": "yfqLjD4ug5at",
        "outputId": "096fa962-3287-4b16-f27d-340a3dbb4d94"
      },
      "source": [
        "plot_rating(my_rating, first_rating)"
      ],
      "execution_count": null,
      "outputs": [
        {
          "output_type": "display_data",
          "data": {
            "image/png": "[encoded data removed]",
            "text/plain": [
              "<Figure size 432x288 with 1 Axes>"
            ]
          },
          "metadata": {
            "tags": [],
            "needs_background": "light"
          }
        }
      ]
    },
    {
      "cell_type": "code",
      "metadata": {
        "colab": {
          "base_uri": "https://localhost:8080/",
          "height": 279
        },
        "id": "rXgPWxB0gk9T",
        "outputId": "08480827-9576-4848-9ace-9fe98954526c"
      },
      "source": [
        "plt.scatter(range(1,10), rus_rating.values(), label=list())\n",
        "for i, label in enumerate(my_rating.keys()):\n",
        "    plt.annotate(label, (i+1, rus_rating[label]))\n",
        "plt.plot(range(1, 10), range(1, 10))\n",
        "plt.grid()\n",
        "plt.xlabel(\"Мой\")\n",
        "plt.ylabel(\"Григорьев\")\n",
        "plt.show()"
      ],
      "execution_count": null,
      "outputs": [
        {
          "output_type": "display_data",
          "data": {
            "image/png": "[encoded data removed]",
            "text/plain": [
              "<Figure size 432x288 with 1 Axes>"
            ]
          },
          "metadata": {
            "tags": [],
            "needs_background": "light"
          }
        }
      ]
    },
    {
      "cell_type": "markdown",
      "metadata": {
        "id": "ci4MnzLtILn8"
      },
      "source": [
        "### Рейтинг реитингов"
      ]
    },
    {
      "cell_type": "code",
      "metadata": {
        "id": "epRtc1XubWCU"
      },
      "source": [
        "def levenshtein(x, y):\n",
        "    \"\"\" Levenshtein distance\n",
        "          using Dynamic-Programming strategy\n",
        "    Parameters\n",
        "    ----------\n",
        "    x, y : np.array of string\n",
        "    Returns\n",
        "    -------\n",
        "    int : distance\n",
        "    np.array : distance matrix\n",
        "    \"\"\"\n",
        "    # Initiallize DP-matrix\n",
        "    D = np.zeros((len(x) + 1, len(y) + 1), dtype=int)\n",
        "    D[0, 1:] = range(1, len(y) + 1)\n",
        "    D[1:, 0] = range(1, len(x) + 1)\n",
        "\n",
        "    for i in range(1, len(x) + 1):\n",
        "        for j in range(1, len(y) + 1):\n",
        "            delta = 2 if x[i - 1] != y[j - 1] else 0\n",
        "            D[i, j] = min(D[i - 1, j - 1] + delta, D[i - 1, j] + 1, D[i, j - 1] + 1)\n",
        "    return D[-1, -1], D"
      ],
      "execution_count": null,
      "outputs": []
    },
    {
      "cell_type": "code",
      "metadata": {
        "id": "Rz4kM7yeIO8J"
      },
      "source": [
        "ratings = pd.read_excel('rating.xlsx')"
      ],
      "execution_count": null,
      "outputs": []
    },
    {
      "cell_type": "code",
      "metadata": {
        "id": "Eo989Xl0Iky2"
      },
      "source": [
        "experts_rates = ratings.columns[1:]\n",
        "experts_names = ratings[ratings.columns[0]]"
      ],
      "execution_count": null,
      "outputs": []
    },
    {
      "cell_type": "code",
      "metadata": {
        "id": "0EzVCfFsIlyn"
      },
      "source": [
        "X = ratings[experts_rates].values"
      ],
      "execution_count": null,
      "outputs": []
    },
    {
      "cell_type": "code",
      "metadata": {
        "id": "h22j4gZLajLP"
      },
      "source": [
        "dist = np.argsort(np.argsort(X.mean(0))) + 1"
      ],
      "execution_count": null,
      "outputs": []
    },
    {
      "cell_type": "code",
      "metadata": {
        "id": "XsHLz8YjahnY"
      },
      "source": [
        "levenshtein_dists = []\n",
        "for i in range(len(X)):\n",
        "    levenshtein_dists.append(levenshtein(dist, X[i])[0])"
      ],
      "execution_count": null,
      "outputs": []
    },
    {
      "cell_type": "code",
      "metadata": {
        "id": "bjU4C7gZbNjt"
      },
      "source": [
        "dist_score = np.argsort(levenshtein_dists) + 1"
      ],
      "execution_count": null,
      "outputs": []
    },
    {
      "cell_type": "code",
      "metadata": {
        "id": "Q5FJwWTsyIiv"
      },
      "source": [
        "corr_score = np.corrcoef(X).mean(0)\n",
        "expert_score = np.argsort(-corr_score) + 1"
      ],
      "execution_count": null,
      "outputs": []
    },
    {
      "cell_type": "code",
      "metadata": {
        "id": "t4GsWf9AJYte"
      },
      "source": [
        "from sklearn.decomposition import PCA\n",
        "pca = PCA(n_components=7)\n",
        "X_pca = pca.fit_transform(X)"
      ],
      "execution_count": null,
      "outputs": []
    },
    {
      "cell_type": "code",
      "metadata": {
        "id": "qIc0aiavKI1Y"
      },
      "source": [
        "pca_score = np.argsort(-X @ pca.components_[-1].T) + 1"
      ],
      "execution_count": null,
      "outputs": []
    },
    {
      "cell_type": "code",
      "metadata": {
        "colab": {
          "base_uri": "https://localhost:8080/"
        },
        "id": "GWoaPpTt-4gz",
        "outputId": "6ae58506-5bfd-4149-c715-05d1c137d502"
      },
      "source": [
        "pca_score"
      ],
      "execution_count": null,
      "outputs": [
        {
          "output_type": "execute_result",
          "data": {
            "text/plain": [
              "array([ 7,  3, 10,  6, 14, 15, 13,  5,  1,  8,  2, 12, 11,  4,  9])"
            ]
          },
          "metadata": {
            "tags": []
          },
          "execution_count": 164
        }
      ]
    },
    {
      "cell_type": "code",
      "metadata": {
        "id": "9hasw9XOy5Us"
      },
      "source": [
        "final_score = pca_score + expert_score + 0.1 * dist_score + work_score"
      ],
      "execution_count": null,
      "outputs": []
    },
    {
      "cell_type": "code",
      "metadata": {
        "id": "ULz3v2E_MdQG"
      },
      "source": [
        "match_ratings = list(zip(experts_names, final_score))"
      ],
      "execution_count": null,
      "outputs": []
    },
    {
      "cell_type": "code",
      "metadata": {
        "colab": {
          "base_uri": "https://localhost:8080/"
        },
        "id": "YQEqzsUQNqrn",
        "outputId": "181c41fa-ee39-4c14-96ed-7764845a37f1"
      },
      "source": [
        "np.argsort(np.argsort(final_score)) + 1"
      ],
      "execution_count": null,
      "outputs": [
        {
          "output_type": "execute_result",
          "data": {
            "text/plain": [
              "array([ 3,  2,  5, 12,  9, 15,  8,  6,  7, 11,  1, 14, 10,  4, 13])"
            ]
          },
          "metadata": {
            "tags": []
          },
          "execution_count": 167
        }
      ]
    },
    {
      "cell_type": "code",
      "metadata": {
        "colab": {
          "base_uri": "https://localhost:8080/"
        },
        "id": "1XqSd2vKM39r",
        "outputId": "540fd760-a62f-462c-ece5-34239f54084c"
      },
      "source": [
        "sorted(match_ratings, key=lambda x: x[1])"
      ],
      "execution_count": null,
      "outputs": [
        {
          "output_type": "execute_result",
          "data": {
            "text/plain": [
              "[('Панченко Святослав', 7.5),\n",
              " ('Григорьев Алексей', 8.0),\n",
              " ('Вареник Наталия', 8.1),\n",
              " ('Северилов', 11.3),\n",
              " ('Алсаханова', 12.4),\n",
              " ('Бишук Антон', 12.7),\n",
              " ('Гребенькова Ольга', 13.2),\n",
              " ('Филатов Андрей', 16.3),\n",
              " ('Савельев Николай', 17.1),\n",
              " ('Харь Александра', 20.9),\n",
              " ('Вайсер Кирилл', 21.5),\n",
              " ('Мокров Петр', 21.8),\n",
              " ('Гунаев', 24.4),\n",
              " ('Панкратов Виктор', 25.6),\n",
              " ('Исламов Рустем', 26.2)]"
            ]
          },
          "metadata": {
            "tags": []
          },
          "execution_count": 168
        }
      ]
    }
  ]
}