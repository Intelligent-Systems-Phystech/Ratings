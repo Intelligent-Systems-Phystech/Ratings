{
 "cells": [
  {
   "cell_type": "code",
   "execution_count": 24,
   "id": "consecutive-alexander",
   "metadata": {},
   "outputs": [],
   "source": [
    "import numpy as np\n",
    "import pandas as pd\n",
    "from scipy.optimize import minimize_scalar\n",
    "from matplotlib import pyplot as plt"
   ]
  },
  {
   "cell_type": "code",
   "execution_count": 25,
   "id": "musical-installation",
   "metadata": {},
   "outputs": [],
   "source": [
    "A = pd.read_csv('A.csv', header=None)"
   ]
  },
  {
   "cell_type": "code",
   "execution_count": 26,
   "id": "fiscal-stereo",
   "metadata": {},
   "outputs": [
    {
     "data": {
      "text/plain": [
       "(10, 20)"
      ]
     },
     "execution_count": 26,
     "metadata": {},
     "output_type": "execute_result"
    }
   ],
   "source": [
    "A.shape"
   ]
  },
  {
   "cell_type": "code",
   "execution_count": 27,
   "id": "bizarre-morrison",
   "metadata": {},
   "outputs": [],
   "source": [
    "Psi = pd.read_csv('Psi.csv')"
   ]
  },
  {
   "cell_type": "code",
   "execution_count": 28,
   "id": "finnish-necessity",
   "metadata": {},
   "outputs": [
    {
     "data": {
      "text/html": [
       "<div>\n",
       "<style scoped>\n",
       "    .dataframe tbody tr th:only-of-type {\n",
       "        vertical-align: middle;\n",
       "    }\n",
       "\n",
       "    .dataframe tbody tr th {\n",
       "        vertical-align: top;\n",
       "    }\n",
       "\n",
       "    .dataframe thead th {\n",
       "        text-align: right;\n",
       "    }\n",
       "</style>\n",
       "<table border=\"1\" class=\"dataframe\">\n",
       "  <thead>\n",
       "    <tr style=\"text-align: right;\">\n",
       "      <th></th>\n",
       "      <th>0</th>\n",
       "      <th>1</th>\n",
       "      <th>2</th>\n",
       "      <th>3</th>\n",
       "      <th>4</th>\n",
       "      <th>5</th>\n",
       "      <th>6</th>\n",
       "      <th>7</th>\n",
       "      <th>8</th>\n",
       "      <th>9</th>\n",
       "      <th>10</th>\n",
       "      <th>11</th>\n",
       "      <th>12</th>\n",
       "      <th>13</th>\n",
       "      <th>14</th>\n",
       "      <th>15</th>\n",
       "      <th>16</th>\n",
       "      <th>17</th>\n",
       "      <th>18</th>\n",
       "      <th>19</th>\n",
       "    </tr>\n",
       "  </thead>\n",
       "  <tbody>\n",
       "    <tr>\n",
       "      <th>0</th>\n",
       "      <td>72.0</td>\n",
       "      <td>85.0</td>\n",
       "      <td>9.0</td>\n",
       "      <td>2.0</td>\n",
       "      <td>4.4</td>\n",
       "      <td>6</td>\n",
       "      <td>0</td>\n",
       "      <td>0</td>\n",
       "      <td>0</td>\n",
       "      <td>1</td>\n",
       "      <td>5</td>\n",
       "      <td>0</td>\n",
       "      <td>0</td>\n",
       "      <td>0</td>\n",
       "      <td>0</td>\n",
       "      <td>7</td>\n",
       "      <td>1</td>\n",
       "      <td>3</td>\n",
       "      <td>3</td>\n",
       "      <td>4</td>\n",
       "    </tr>\n",
       "    <tr>\n",
       "      <th>1</th>\n",
       "      <td>640.0</td>\n",
       "      <td>69.0</td>\n",
       "      <td>25.0</td>\n",
       "      <td>52.0</td>\n",
       "      <td>17.0</td>\n",
       "      <td>8</td>\n",
       "      <td>4</td>\n",
       "      <td>6</td>\n",
       "      <td>2</td>\n",
       "      <td>3</td>\n",
       "      <td>6</td>\n",
       "      <td>7</td>\n",
       "      <td>7</td>\n",
       "      <td>0</td>\n",
       "      <td>6</td>\n",
       "      <td>4</td>\n",
       "      <td>7</td>\n",
       "      <td>6</td>\n",
       "      <td>3</td>\n",
       "      <td>8</td>\n",
       "    </tr>\n",
       "    <tr>\n",
       "      <th>2</th>\n",
       "      <td>42.0</td>\n",
       "      <td>5.6</td>\n",
       "      <td>3.4</td>\n",
       "      <td>2.5</td>\n",
       "      <td>5.0</td>\n",
       "      <td>5</td>\n",
       "      <td>9</td>\n",
       "      <td>5</td>\n",
       "      <td>5</td>\n",
       "      <td>6</td>\n",
       "      <td>7</td>\n",
       "      <td>2</td>\n",
       "      <td>6</td>\n",
       "      <td>8</td>\n",
       "      <td>7</td>\n",
       "      <td>5</td>\n",
       "      <td>5</td>\n",
       "      <td>4</td>\n",
       "      <td>6</td>\n",
       "      <td>0</td>\n",
       "    </tr>\n",
       "    <tr>\n",
       "      <th>3</th>\n",
       "      <td>371.0</td>\n",
       "      <td>34.0</td>\n",
       "      <td>3.6</td>\n",
       "      <td>0.4</td>\n",
       "      <td>20.0</td>\n",
       "      <td>3</td>\n",
       "      <td>3</td>\n",
       "      <td>8</td>\n",
       "      <td>7</td>\n",
       "      <td>8</td>\n",
       "      <td>2</td>\n",
       "      <td>6</td>\n",
       "      <td>4</td>\n",
       "      <td>7</td>\n",
       "      <td>5</td>\n",
       "      <td>0</td>\n",
       "      <td>4</td>\n",
       "      <td>5</td>\n",
       "      <td>8</td>\n",
       "      <td>9</td>\n",
       "    </tr>\n",
       "    <tr>\n",
       "      <th>4</th>\n",
       "      <td>250.0</td>\n",
       "      <td>8.0</td>\n",
       "      <td>1.0</td>\n",
       "      <td>3.2</td>\n",
       "      <td>6.5</td>\n",
       "      <td>0</td>\n",
       "      <td>8</td>\n",
       "      <td>3</td>\n",
       "      <td>8</td>\n",
       "      <td>4</td>\n",
       "      <td>3</td>\n",
       "      <td>5</td>\n",
       "      <td>5</td>\n",
       "      <td>3</td>\n",
       "      <td>0</td>\n",
       "      <td>3</td>\n",
       "      <td>3</td>\n",
       "      <td>2</td>\n",
       "      <td>4</td>\n",
       "      <td>0</td>\n",
       "    </tr>\n",
       "    <tr>\n",
       "      <th>5</th>\n",
       "      <td>545.0</td>\n",
       "      <td>100.0</td>\n",
       "      <td>5.0</td>\n",
       "      <td>33.0</td>\n",
       "      <td>56.5</td>\n",
       "      <td>7</td>\n",
       "      <td>6</td>\n",
       "      <td>9</td>\n",
       "      <td>1</td>\n",
       "      <td>5</td>\n",
       "      <td>0</td>\n",
       "      <td>9</td>\n",
       "      <td>9</td>\n",
       "      <td>4</td>\n",
       "      <td>4</td>\n",
       "      <td>9</td>\n",
       "      <td>8</td>\n",
       "      <td>8</td>\n",
       "      <td>5</td>\n",
       "      <td>6</td>\n",
       "    </tr>\n",
       "    <tr>\n",
       "      <th>6</th>\n",
       "      <td>360.7</td>\n",
       "      <td>35.6</td>\n",
       "      <td>7.7</td>\n",
       "      <td>19.1</td>\n",
       "      <td>39.5</td>\n",
       "      <td>0</td>\n",
       "      <td>7</td>\n",
       "      <td>7</td>\n",
       "      <td>0</td>\n",
       "      <td>9</td>\n",
       "      <td>8</td>\n",
       "      <td>4</td>\n",
       "      <td>8</td>\n",
       "      <td>9</td>\n",
       "      <td>9</td>\n",
       "      <td>8</td>\n",
       "      <td>2</td>\n",
       "      <td>0</td>\n",
       "      <td>9</td>\n",
       "      <td>5</td>\n",
       "    </tr>\n",
       "    <tr>\n",
       "      <th>7</th>\n",
       "      <td>57.0</td>\n",
       "      <td>5.9</td>\n",
       "      <td>3.0</td>\n",
       "      <td>3.2</td>\n",
       "      <td>4.0</td>\n",
       "      <td>4</td>\n",
       "      <td>5</td>\n",
       "      <td>2</td>\n",
       "      <td>6</td>\n",
       "      <td>2</td>\n",
       "      <td>9</td>\n",
       "      <td>3</td>\n",
       "      <td>3</td>\n",
       "      <td>6</td>\n",
       "      <td>3</td>\n",
       "      <td>0</td>\n",
       "      <td>9</td>\n",
       "      <td>9</td>\n",
       "      <td>2</td>\n",
       "      <td>0</td>\n",
       "    </tr>\n",
       "    <tr>\n",
       "      <th>8</th>\n",
       "      <td>334.0</td>\n",
       "      <td>4.0</td>\n",
       "      <td>12.0</td>\n",
       "      <td>2.0</td>\n",
       "      <td>67.0</td>\n",
       "      <td>9</td>\n",
       "      <td>2</td>\n",
       "      <td>4</td>\n",
       "      <td>9</td>\n",
       "      <td>7</td>\n",
       "      <td>4</td>\n",
       "      <td>8</td>\n",
       "      <td>2</td>\n",
       "      <td>5</td>\n",
       "      <td>8</td>\n",
       "      <td>6</td>\n",
       "      <td>6</td>\n",
       "      <td>7</td>\n",
       "      <td>7</td>\n",
       "      <td>7</td>\n",
       "    </tr>\n",
       "    <tr>\n",
       "      <th>9</th>\n",
       "      <td>365.0</td>\n",
       "      <td>16.0</td>\n",
       "      <td>12.0</td>\n",
       "      <td>1.3</td>\n",
       "      <td>59.0</td>\n",
       "      <td>7</td>\n",
       "      <td>0</td>\n",
       "      <td>0</td>\n",
       "      <td>0</td>\n",
       "      <td>0</td>\n",
       "      <td>0</td>\n",
       "      <td>0</td>\n",
       "      <td>0</td>\n",
       "      <td>0</td>\n",
       "      <td>0</td>\n",
       "      <td>0</td>\n",
       "      <td>0</td>\n",
       "      <td>0</td>\n",
       "      <td>0</td>\n",
       "      <td>0</td>\n",
       "    </tr>\n",
       "  </tbody>\n",
       "</table>\n",
       "</div>"
      ],
      "text/plain": [
       "      0      1     2     3     4   5   6   7   8   9   10  11  12  13  14  15  \\\n",
       "0   72.0   85.0   9.0   2.0   4.4   6   0   0   0   1   5   0   0   0   0   7   \n",
       "1  640.0   69.0  25.0  52.0  17.0   8   4   6   2   3   6   7   7   0   6   4   \n",
       "2   42.0    5.6   3.4   2.5   5.0   5   9   5   5   6   7   2   6   8   7   5   \n",
       "3  371.0   34.0   3.6   0.4  20.0   3   3   8   7   8   2   6   4   7   5   0   \n",
       "4  250.0    8.0   1.0   3.2   6.5   0   8   3   8   4   3   5   5   3   0   3   \n",
       "5  545.0  100.0   5.0  33.0  56.5   7   6   9   1   5   0   9   9   4   4   9   \n",
       "6  360.7   35.6   7.7  19.1  39.5   0   7   7   0   9   8   4   8   9   9   8   \n",
       "7   57.0    5.9   3.0   3.2   4.0   4   5   2   6   2   9   3   3   6   3   0   \n",
       "8  334.0    4.0  12.0   2.0  67.0   9   2   4   9   7   4   8   2   5   8   6   \n",
       "9  365.0   16.0  12.0   1.3  59.0   7   0   0   0   0   0   0   0   0   0   0   \n",
       "\n",
       "   16  17  18  19  \n",
       "0   1   3   3   4  \n",
       "1   7   6   3   8  \n",
       "2   5   4   6   0  \n",
       "3   4   5   8   9  \n",
       "4   3   2   4   0  \n",
       "5   8   8   5   6  \n",
       "6   2   0   9   5  \n",
       "7   9   9   2   0  \n",
       "8   6   7   7   7  \n",
       "9   0   0   0   0  "
      ]
     },
     "execution_count": 28,
     "metadata": {},
     "output_type": "execute_result"
    }
   ],
   "source": [
    "A.head(15)"
   ]
  },
  {
   "cell_type": "code",
   "execution_count": 29,
   "id": "healthy-brand",
   "metadata": {},
   "outputs": [
    {
     "data": {
      "text/html": [
       "<div>\n",
       "<style scoped>\n",
       "    .dataframe tbody tr th:only-of-type {\n",
       "        vertical-align: middle;\n",
       "    }\n",
       "\n",
       "    .dataframe tbody tr th {\n",
       "        vertical-align: top;\n",
       "    }\n",
       "\n",
       "    .dataframe thead th {\n",
       "        text-align: right;\n",
       "    }\n",
       "</style>\n",
       "<table border=\"1\" class=\"dataframe\">\n",
       "  <thead>\n",
       "    <tr style=\"text-align: right;\">\n",
       "      <th></th>\n",
       "      <th>Unnamed: 0</th>\n",
       "      <th>Стрижов</th>\n",
       "      <th>Гребенькова</th>\n",
       "      <th>Михеев</th>\n",
       "      <th>Тихонов</th>\n",
       "      <th>Панченко</th>\n",
       "      <th>Панкратов</th>\n",
       "      <th>Харь</th>\n",
       "      <th>Савельев</th>\n",
       "      <th>Исламов</th>\n",
       "      <th>Волынцев</th>\n",
       "      <th>Христолюбов</th>\n",
       "      <th>Алсаханова</th>\n",
       "      <th>Северилов</th>\n",
       "      <th>Колесов</th>\n",
       "      <th>Бишук</th>\n",
       "    </tr>\n",
       "  </thead>\n",
       "  <tbody>\n",
       "    <tr>\n",
       "      <th>0</th>\n",
       "      <td>Калорийность, кКал</td>\n",
       "      <td>6</td>\n",
       "      <td>9</td>\n",
       "      <td>3</td>\n",
       "      <td>8</td>\n",
       "      <td>7</td>\n",
       "      <td>10</td>\n",
       "      <td>10</td>\n",
       "      <td>3</td>\n",
       "      <td>1</td>\n",
       "      <td>10</td>\n",
       "      <td>10</td>\n",
       "      <td>7</td>\n",
       "      <td>8</td>\n",
       "      <td>10</td>\n",
       "      <td>10</td>\n",
       "    </tr>\n",
       "    <tr>\n",
       "      <th>1</th>\n",
       "      <td>Цена 100г, руб.</td>\n",
       "      <td>7</td>\n",
       "      <td>9</td>\n",
       "      <td>6</td>\n",
       "      <td>3</td>\n",
       "      <td>8</td>\n",
       "      <td>10</td>\n",
       "      <td>10</td>\n",
       "      <td>8</td>\n",
       "      <td>10</td>\n",
       "      <td>10</td>\n",
       "      <td>4</td>\n",
       "      <td>8</td>\n",
       "      <td>10</td>\n",
       "      <td>10</td>\n",
       "      <td>10</td>\n",
       "    </tr>\n",
       "    <tr>\n",
       "      <th>2</th>\n",
       "      <td>Белки</td>\n",
       "      <td>0</td>\n",
       "      <td>8</td>\n",
       "      <td>9</td>\n",
       "      <td>5</td>\n",
       "      <td>7</td>\n",
       "      <td>9</td>\n",
       "      <td>7</td>\n",
       "      <td>9</td>\n",
       "      <td>9</td>\n",
       "      <td>10</td>\n",
       "      <td>10</td>\n",
       "      <td>6</td>\n",
       "      <td>10</td>\n",
       "      <td>8</td>\n",
       "      <td>10</td>\n",
       "    </tr>\n",
       "    <tr>\n",
       "      <th>3</th>\n",
       "      <td>Жиры</td>\n",
       "      <td>9</td>\n",
       "      <td>9</td>\n",
       "      <td>7</td>\n",
       "      <td>7</td>\n",
       "      <td>5</td>\n",
       "      <td>9</td>\n",
       "      <td>9</td>\n",
       "      <td>7</td>\n",
       "      <td>2</td>\n",
       "      <td>10</td>\n",
       "      <td>1</td>\n",
       "      <td>9</td>\n",
       "      <td>10</td>\n",
       "      <td>10</td>\n",
       "      <td>10</td>\n",
       "    </tr>\n",
       "    <tr>\n",
       "      <th>4</th>\n",
       "      <td>Углеводы</td>\n",
       "      <td>5</td>\n",
       "      <td>9</td>\n",
       "      <td>7</td>\n",
       "      <td>7</td>\n",
       "      <td>6</td>\n",
       "      <td>6</td>\n",
       "      <td>9</td>\n",
       "      <td>5</td>\n",
       "      <td>3</td>\n",
       "      <td>10</td>\n",
       "      <td>8</td>\n",
       "      <td>6</td>\n",
       "      <td>8</td>\n",
       "      <td>10</td>\n",
       "      <td>10</td>\n",
       "    </tr>\n",
       "  </tbody>\n",
       "</table>\n",
       "</div>"
      ],
      "text/plain": [
       "           Unnamed: 0  Стрижов  Гребенькова  Михеев  Тихонов  Панченко  \\\n",
       "0  Калорийность, кКал        6            9       3        8         7   \n",
       "1     Цена 100г, руб.        7            9       6        3         8   \n",
       "2               Белки        0            8       9        5         7   \n",
       "3                Жиры        9            9       7        7         5   \n",
       "4            Углеводы        5            9       7        7         6   \n",
       "\n",
       "   Панкратов  Харь  Савельев  Исламов  Волынцев  Христолюбов  Алсаханова  \\\n",
       "0         10    10         3        1        10           10           7   \n",
       "1         10    10         8       10        10            4           8   \n",
       "2          9     7         9        9        10           10           6   \n",
       "3          9     9         7        2        10            1           9   \n",
       "4          6     9         5        3        10            8           6   \n",
       "\n",
       "   Северилов  Колесов  Бишук  \n",
       "0          8       10     10  \n",
       "1         10       10     10  \n",
       "2         10        8     10  \n",
       "3         10       10     10  \n",
       "4          8       10     10  "
      ]
     },
     "execution_count": 29,
     "metadata": {},
     "output_type": "execute_result"
    }
   ],
   "source": [
    "Psi.head()"
   ]
  },
  {
   "cell_type": "code",
   "execution_count": 30,
   "id": "optional-distribution",
   "metadata": {},
   "outputs": [],
   "source": [
    "A = np.array(A.values, dtype=float)"
   ]
  },
  {
   "cell_type": "code",
   "execution_count": 31,
   "id": "capable-launch",
   "metadata": {},
   "outputs": [
    {
     "data": {
      "text/plain": [
       "(15, 20)"
      ]
     },
     "execution_count": 31,
     "metadata": {},
     "output_type": "execute_result"
    }
   ],
   "source": [
    "P = np.array(Psi.values[:, 1:], dtype = float)\n",
    "P.T.shape"
   ]
  },
  {
   "cell_type": "code",
   "execution_count": 32,
   "id": "searching-variation",
   "metadata": {},
   "outputs": [],
   "source": [
    "w0 = P.T"
   ]
  },
  {
   "cell_type": "code",
   "execution_count": 33,
   "id": "powered-monthly",
   "metadata": {},
   "outputs": [],
   "source": [
    "q0 = A[:, 5:].T"
   ]
  },
  {
   "cell_type": "code",
   "execution_count": 34,
   "id": "collective-generation",
   "metadata": {},
   "outputs": [],
   "source": [
    "q1 = (A@(w0.T)).T"
   ]
  },
  {
   "cell_type": "code",
   "execution_count": 35,
   "id": "standing-hungarian",
   "metadata": {},
   "outputs": [],
   "source": [
    "A_pinv = np.linalg.pinv(A)"
   ]
  },
  {
   "cell_type": "code",
   "execution_count": 36,
   "id": "synthetic-population",
   "metadata": {},
   "outputs": [],
   "source": [
    "w1 = (A_pinv@(q0.T)).T"
   ]
  },
  {
   "cell_type": "code",
   "execution_count": 37,
   "id": "internal-textbook",
   "metadata": {},
   "outputs": [],
   "source": [
    "n = q0.shape[1]\n",
    "m = w0.shape[1]"
   ]
  },
  {
   "cell_type": "code",
   "execution_count": 38,
   "id": "separate-parliament",
   "metadata": {},
   "outputs": [],
   "source": [
    "def find_alpha(q0, q1, w0, w1):\n",
    "    def f(a):\n",
    "        q = a*q0 + (1-a)*q1\n",
    "        w = (1-a)*w0 + a*w1\n",
    "        return np.linalg.norm(q-q0,np.inf)**2/n + np.linalg.norm(w-w0, np.inf)**2/m\n",
    "    return minimize_scalar(f, bounds=(0, 1), method='Bounded').x"
   ]
  },
  {
   "cell_type": "code",
   "execution_count": 39,
   "id": "corresponding-chrome",
   "metadata": {},
   "outputs": [],
   "source": [
    "rangs = []\n",
    "for k in range(q0.shape[0]):\n",
    "    a = find_alpha(q0[k], q1[k], w0[k], w1[k])\n",
    "    q = a*q0[k] + (1-a)*q1[k]\n",
    "    w = (1-a)*w0[k] + a*w1[k]\n",
    "    rangs.append(np.linalg.norm(q-q0[k],np.inf)**2/n + np.linalg.norm(w-w0[k], np.inf)**2/m)"
   ]
  },
  {
   "cell_type": "code",
   "execution_count": 40,
   "id": "amino-wings",
   "metadata": {},
   "outputs": [
    {
     "data": {
      "image/png": "[encoded data removed]",
      "text/plain": [
       "<Figure size 432x288 with 1 Axes>"
      ]
     },
     "metadata": {
      "needs_background": "light"
     },
     "output_type": "display_data"
    }
   ],
   "source": [
    "plt.bar(list(range(len(rangs))), rangs)\n",
    "plt.xlabel('НОМЕР ЭКСПЕРТА')\n",
    "plt.ylabel('РАНГ')\n",
    "plt.show()"
   ]
  },
  {
   "cell_type": "code",
   "execution_count": 41,
   "id": "unlikely-application",
   "metadata": {},
   "outputs": [
    {
     "name": "stdout",
     "output_type": "stream",
     "text": [
      "Номер лучшего эксперта = 6\n"
     ]
    }
   ],
   "source": [
    "print('Номер лучшего эксперта =', rangs.index(max(rangs)))"
   ]
  },
  {
   "cell_type": "code",
   "execution_count": 42,
   "id": "rough-connection",
   "metadata": {},
   "outputs": [
    {
     "data": {
      "text/plain": [
       "array([0., 7., 2., 6., 5., 9., 4., 3., 8., 0.])"
      ]
     },
     "execution_count": 42,
     "metadata": {},
     "output_type": "execute_result"
    }
   ],
   "source": [
    "q0[6]"
   ]
  },
  {
   "cell_type": "code",
   "execution_count": 43,
   "id": "primary-algebra",
   "metadata": {},
   "outputs": [
    {
     "name": "stdout",
     "output_type": "stream",
     "text": [
      "0 0.0\n",
      "1 7.0\n",
      "2 2.0\n",
      "3 6.0\n",
      "4 5.0\n",
      "5 9.0\n",
      "6 4.0\n",
      "7 3.0\n",
      "8 8.0\n",
      "9 0.0\n"
     ]
    }
   ],
   "source": [
    "for i, c in enumerate(q0[6]):\n",
    "    print(i,c)"
   ]
  },
  {
   "cell_type": "code",
   "execution_count": 44,
   "id": "derived-prediction",
   "metadata": {},
   "outputs": [],
   "source": [
    "rating = np.zeros(9)"
   ]
  },
  {
   "cell_type": "code",
   "execution_count": 45,
   "id": "japanese-switzerland",
   "metadata": {},
   "outputs": [],
   "source": [
    "rating[5] = 1\n",
    "rating[8] = 2\n",
    "rating[1] = 3\n",
    "rating[3] = 4\n",
    "rating[4] = 5\n",
    "rating[6] = 6\n",
    "rating[7] = 7\n",
    "rating[2] = 8\n",
    "rating[0] = 9"
   ]
  },
  {
   "cell_type": "code",
   "execution_count": 46,
   "id": "covered-venice",
   "metadata": {},
   "outputs": [],
   "source": [
    "my_rating = rating\n",
    "svyato_rating = np.array([9,5,4,6,7,3,1,8,2])\n",
    "anton_rating = np.array([9,6,7,4,8,1,2,3,5])\n",
    "viktor_rating = np.array([8,9,5,6,7,1,2,4,3])\n",
    "olya_rating = np.array([8,3,4,6,5,1,2,7,9])"
   ]
  },
  {
   "cell_type": "code",
   "execution_count": 47,
   "id": "sealed-instrumentation",
   "metadata": {},
   "outputs": [],
   "source": [
    "import matplotlib.pyplot as plt"
   ]
  },
  {
   "cell_type": "code",
   "execution_count": 48,
   "id": "sharing-blues",
   "metadata": {},
   "outputs": [],
   "source": [
    "SMALL_SIZE = 8\n",
    "MEDIUM_SIZE = 10\n",
    "BIGGER_SIZE = 12\n",
    "\n",
    "plt.rc('font', size=BIGGER_SIZE)          # controls default text sizes\n",
    "plt.rc('axes', titlesize=BIGGER_SIZE)     # fontsize of the axes title\n",
    "plt.rc('axes', labelsize=BIGGER_SIZE)    # fontsize of the x and y labels\n",
    "plt.rc('xtick', labelsize=BIGGER_SIZE)    # fontsize of the tick labels\n",
    "plt.rc('ytick', labelsize=BIGGER_SIZE)    # fontsize of the tick labels\n",
    "plt.rc('legend', fontsize=BIGGER_SIZE)    # legend fontsize\n",
    "plt.rc('figure', titlesize=BIGGER_SIZE) "
   ]
  },
  {
   "cell_type": "code",
   "execution_count": 183,
   "id": "endangered-zambia",
   "metadata": {},
   "outputs": [
    {
     "data": {
      "image/png": "[encoded data removed]",
      "text/plain": [
       "<Figure size 504x504 with 1 Axes>"
      ]
     },
     "metadata": {
      "needs_background": "light"
     },
     "output_type": "display_data"
    }
   ],
   "source": [
    "plt.figure(figsize=[7,7])\n",
    "plt.xlim([-0.2,9.2])\n",
    "plt.ylim([-0.2,9.2])\n",
    "plt.scatter(my_rating, svyato_rating,s=100)\n",
    "plt.plot([0,10],[0,10], color='darkorange')\n",
    "plt.xlabel(r'Рустем Исламов', fontsize=15)\n",
    "plt.ylabel(r'Святослав Панченко', fontsize=15)\n",
    "plt.xticks([0,1,2,3,4,5,6,7,8,9])\n",
    "plt.yticks([0,1,2,3,4,5,6,7,8,9])\n",
    "plt.grid()\n",
    "plt.savefig('rustem_vs_svyato.pdf')"
   ]
  },
  {
   "cell_type": "code",
   "execution_count": 184,
   "id": "sorted-subsection",
   "metadata": {},
   "outputs": [
    {
     "data": {
      "image/png": "[encoded data removed]",
      "text/plain": [
       "<Figure size 504x504 with 1 Axes>"
      ]
     },
     "metadata": {
      "needs_background": "light"
     },
     "output_type": "display_data"
    }
   ],
   "source": [
    "plt.figure(figsize=[7,7])\n",
    "plt.xlim([-0.2,9.2])\n",
    "plt.ylim([-0.2,9.2])\n",
    "plt.scatter(my_rating, andrey_rating,s=100)\n",
    "plt.plot([0,10],[0,10], color='darkorange')\n",
    "plt.xlabel(r'Рустем Исламов', fontsize=15)\n",
    "plt.ylabel(r'Антон Бишук', fontsize=15)\n",
    "plt.xticks([0,1,2,3,4,5,6,7,8,9])\n",
    "plt.yticks([0,1,2,3,4,5,6,7,8,9])\n",
    "plt.grid()\n",
    "plt.savefig('rustem_vs_anton.pdf')"
   ]
  },
  {
   "cell_type": "code",
   "execution_count": 185,
   "id": "forty-benjamin",
   "metadata": {},
   "outputs": [
    {
     "data": {
      "image/png": "[encoded data removed]",
      "text/plain": [
       "<Figure size 504x504 with 1 Axes>"
      ]
     },
     "metadata": {
      "needs_background": "light"
     },
     "output_type": "display_data"
    }
   ],
   "source": [
    "plt.figure(figsize=[7,7])\n",
    "plt.xlim([-0.2,9.2])\n",
    "plt.ylim([-0.2,9.2])\n",
    "plt.scatter(my_rating, viktor_rating,s=100)\n",
    "plt.plot([0,10],[0,10], color='darkorange')\n",
    "plt.xlabel(r'Рустем Исламов', fontsize=15)\n",
    "plt.ylabel(r'Виктор Панкратов', fontsize=15)\n",
    "plt.xticks([0,1,2,3,4,5,6,7,8,9])\n",
    "plt.yticks([0,1,2,3,4,5,6,7,8,9])\n",
    "plt.grid()\n",
    "plt.savefig('rustem_vs_victor.pdf')"
   ]
  },
  {
   "cell_type": "code",
   "execution_count": 187,
   "id": "noted-hammer",
   "metadata": {},
   "outputs": [
    {
     "data": {
      "image/png": "[encoded data removed]",
      "text/plain": [
       "<Figure size 504x504 with 1 Axes>"
      ]
     },
     "metadata": {
      "needs_background": "light"
     },
     "output_type": "display_data"
    }
   ],
   "source": [
    "plt.figure(figsize=[7,7])\n",
    "plt.xlim([-0.2,9.2])\n",
    "plt.ylim([-0.2,9.2])\n",
    "plt.scatter(my_rating, olya_rating,s=100)\n",
    "plt.plot([0,10],[0,10], color='darkorange')\n",
    "plt.xlabel(r'Рустем Исламов', fontsize=15)\n",
    "plt.ylabel(r'Ольга Гребенькова', fontsize=15)\n",
    "plt.xticks([0,1,2,3,4,5,6,7,8,9])\n",
    "plt.yticks([0,1,2,3,4,5,6,7,8,9])\n",
    "plt.grid()\n",
    "plt.savefig('rustem_vs_olya.pdf')"
   ]
  },
  {
   "cell_type": "code",
   "execution_count": 50,
   "id": "affiliated-publisher",
   "metadata": {},
   "outputs": [
    {
     "data": {
      "image/png": "[encoded data removed]",
      "text/plain": [
       "<Figure size 504x504 with 1 Axes>"
      ]
     },
     "metadata": {
      "needs_background": "light"
     },
     "output_type": "display_data"
    }
   ],
   "source": [
    "plt.figure(figsize=[7,7])\n",
    "plt.xlim([-0.2,9.2])\n",
    "plt.ylim([-0.2,9.2])\n",
    "plt.scatter(my_rating, anton_rating,s=100)\n",
    "plt.plot([0,10],[0,10], color='darkorange')\n",
    "plt.xlabel(r'Рустем Исламов', fontsize=15)\n",
    "plt.ylabel(r'Антон Бишук', fontsize=15)\n",
    "plt.xticks([0,1,2,3,4,5,6,7,8,9])\n",
    "plt.yticks([0,1,2,3,4,5,6,7,8,9])\n",
    "plt.grid()\n",
    "plt.savefig('rustem_vs_anton.pdf')"
   ]
  },
  {
   "cell_type": "code",
   "execution_count": null,
   "id": "robust-medicare",
   "metadata": {},
   "outputs": [],
   "source": []
  }
 ],
 "metadata": {
  "kernelspec": {
   "display_name": "Python 3",
   "language": "python",
   "name": "python3"
  },
  "language_info": {
   "codemirror_mode": {
    "name": "ipython",
    "version": 3
   },
   "file_extension": ".py",
   "mimetype": "text/x-python",
   "name": "python",
   "nbconvert_exporter": "python",
   "pygments_lexer": "ipython3",
   "version": "3.8.3"
  }
 },
 "nbformat": 4,
 "nbformat_minor": 5
}
