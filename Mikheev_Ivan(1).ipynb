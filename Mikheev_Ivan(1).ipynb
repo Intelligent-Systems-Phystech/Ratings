{
  "nbformat": 4,
  "nbformat_minor": 0,
  "metadata": {
    "colab": {
      "name": "Mikheev_Ivan.ipynb",
      "provenance": [],
      "collapsed_sections": []
    },
    "kernelspec": {
      "name": "python3",
      "display_name": "Python 3"
    },
    "language_info": {
      "name": "python"
    }
  },
  "cells": [
    {
      "cell_type": "markdown",
      "metadata": {
        "id": "EDOCbPLaiNq-"
      },
      "source": [
        "Метод главных компонент / сколько максимум можно \"выкинуть\"  данных до изменения рейтинга\n"
      ]
    },
    {
      "cell_type": "code",
      "metadata": {
        "id": "NaGJyyOQ41Ds",
        "colab": {
          "base_uri": "https://localhost:8080/"
        },
        "outputId": "c349f1f2-9d9f-4f51-d29c-2841b132393f"
      },
      "source": [
        "from google.colab import drive\n",
        "drive.mount('/content/drive')"
      ],
      "execution_count": null,
      "outputs": [
        {
          "output_type": "stream",
          "text": [
            "Mounted at /content/drive\n"
          ],
          "name": "stdout"
        }
      ]
    },
    {
      "cell_type": "code",
      "metadata": {
        "id": "ZHlSoWQ5D6ZN"
      },
      "source": [
        "import pandas as pd\n",
        "from sklearn.linear_model import LinearRegression\n",
        "import numpy as np\n",
        "from sklearn.decomposition import PCA\n",
        "import random\n",
        "from sklearn.preprocessing import StandardScaler \n",
        "import matplotlib.pyplot as plt\n",
        "from sklearn.linear_model import LinearRegression"
      ],
      "execution_count": 1,
      "outputs": []
    },
    {
      "cell_type": "code",
      "metadata": {
        "colab": {
          "base_uri": "https://localhost:8080/",
          "height": 398
        },
        "id": "PBdsoBYYD6hD",
        "outputId": "688c6fc3-af5c-402c-8eed-d79d3373e54e"
      },
      "source": [
        "df =pd.read_excel('/content/drive/MyDrive/mmp/Food rating.xlsx', index_col= 'Продукты')\n",
        "# df_std = StandardScaler().fit_transform(df.fillna(0))\n",
        "df"
      ],
      "execution_count": 2,
      "outputs": [
        {
          "output_type": "execute_result",
          "data": {
            "text/html": [
              "<div>\n",
              "<style scoped>\n",
              "    .dataframe tbody tr th:only-of-type {\n",
              "        vertical-align: middle;\n",
              "    }\n",
              "\n",
              "    .dataframe tbody tr th {\n",
              "        vertical-align: top;\n",
              "    }\n",
              "\n",
              "    .dataframe thead th {\n",
              "        text-align: right;\n",
              "    }\n",
              "</style>\n",
              "<table border=\"1\" class=\"dataframe\">\n",
              "  <thead>\n",
              "    <tr style=\"text-align: right;\">\n",
              "      <th></th>\n",
              "      <th>Калорийность, кКал</th>\n",
              "      <th>Цена 100г, руб.</th>\n",
              "      <th>Белки</th>\n",
              "      <th>Жиры</th>\n",
              "      <th>Углеводы</th>\n",
              "      <th>Стрижов</th>\n",
              "      <th>Гребенькова</th>\n",
              "      <th>Михеев</th>\n",
              "      <th>Тихонов</th>\n",
              "      <th>Панченко</th>\n",
              "      <th>Панкратов</th>\n",
              "      <th>Харь</th>\n",
              "      <th>Савельев</th>\n",
              "      <th>Исламов</th>\n",
              "      <th>Волынцев</th>\n",
              "      <th>Христолюбов</th>\n",
              "      <th>Алсаханова</th>\n",
              "      <th>Бишук</th>\n",
              "    </tr>\n",
              "    <tr>\n",
              "      <th>Продукты</th>\n",
              "      <th></th>\n",
              "      <th></th>\n",
              "      <th></th>\n",
              "      <th></th>\n",
              "      <th></th>\n",
              "      <th></th>\n",
              "      <th></th>\n",
              "      <th></th>\n",
              "      <th></th>\n",
              "      <th></th>\n",
              "      <th></th>\n",
              "      <th></th>\n",
              "      <th></th>\n",
              "      <th></th>\n",
              "      <th></th>\n",
              "      <th></th>\n",
              "      <th></th>\n",
              "      <th></th>\n",
              "    </tr>\n",
              "  </thead>\n",
              "  <tbody>\n",
              "    <tr>\n",
              "      <th>Устрицы</th>\n",
              "      <td>72.0</td>\n",
              "      <td>85.0</td>\n",
              "      <td>9.0</td>\n",
              "      <td>2.0</td>\n",
              "      <td>4.4</td>\n",
              "      <td>4.0</td>\n",
              "      <td>NaN</td>\n",
              "      <td>NaN</td>\n",
              "      <td>NaN</td>\n",
              "      <td>9</td>\n",
              "      <td>5.0</td>\n",
              "      <td>NaN</td>\n",
              "      <td>NaN</td>\n",
              "      <td>NaN</td>\n",
              "      <td>NaN</td>\n",
              "      <td>3.0</td>\n",
              "      <td>9</td>\n",
              "      <td>6.0</td>\n",
              "    </tr>\n",
              "    <tr>\n",
              "      <th>Арахиc соленый</th>\n",
              "      <td>640.0</td>\n",
              "      <td>69.0</td>\n",
              "      <td>25.0</td>\n",
              "      <td>52.0</td>\n",
              "      <td>17.0</td>\n",
              "      <td>2.0</td>\n",
              "      <td>6.0</td>\n",
              "      <td>4.0</td>\n",
              "      <td>8.0</td>\n",
              "      <td>7</td>\n",
              "      <td>4.0</td>\n",
              "      <td>3.0</td>\n",
              "      <td>3.0</td>\n",
              "      <td>NaN</td>\n",
              "      <td>4.0</td>\n",
              "      <td>6.0</td>\n",
              "      <td>3</td>\n",
              "      <td>2.0</td>\n",
              "    </tr>\n",
              "    <tr>\n",
              "      <th>Молоко  2,5%</th>\n",
              "      <td>42.0</td>\n",
              "      <td>5.9</td>\n",
              "      <td>3.4</td>\n",
              "      <td>2.5</td>\n",
              "      <td>5.0</td>\n",
              "      <td>5.0</td>\n",
              "      <td>1.0</td>\n",
              "      <td>5.0</td>\n",
              "      <td>5.0</td>\n",
              "      <td>4</td>\n",
              "      <td>3.0</td>\n",
              "      <td>8.0</td>\n",
              "      <td>4.0</td>\n",
              "      <td>2.0</td>\n",
              "      <td>3.0</td>\n",
              "      <td>5.0</td>\n",
              "      <td>5</td>\n",
              "      <td>NaN</td>\n",
              "    </tr>\n",
              "    <tr>\n",
              "      <th>Макароны</th>\n",
              "      <td>371.0</td>\n",
              "      <td>34.0</td>\n",
              "      <td>3.6</td>\n",
              "      <td>0.4</td>\n",
              "      <td>20.0</td>\n",
              "      <td>7.0</td>\n",
              "      <td>7.0</td>\n",
              "      <td>2.0</td>\n",
              "      <td>3.0</td>\n",
              "      <td>2</td>\n",
              "      <td>8.0</td>\n",
              "      <td>4.0</td>\n",
              "      <td>6.0</td>\n",
              "      <td>3.0</td>\n",
              "      <td>5.0</td>\n",
              "      <td>NaN</td>\n",
              "      <td>6</td>\n",
              "      <td>1.0</td>\n",
              "    </tr>\n",
              "    <tr>\n",
              "      <th>Овсяное молоко 3.2%</th>\n",
              "      <td>250.0</td>\n",
              "      <td>8.0</td>\n",
              "      <td>1.0</td>\n",
              "      <td>3.2</td>\n",
              "      <td>6.5</td>\n",
              "      <td>NaN</td>\n",
              "      <td>2.0</td>\n",
              "      <td>7.0</td>\n",
              "      <td>2.0</td>\n",
              "      <td>6</td>\n",
              "      <td>7.0</td>\n",
              "      <td>5.0</td>\n",
              "      <td>5.0</td>\n",
              "      <td>7.0</td>\n",
              "      <td>NaN</td>\n",
              "      <td>7.0</td>\n",
              "      <td>7</td>\n",
              "      <td>NaN</td>\n",
              "    </tr>\n",
              "    <tr>\n",
              "      <th>Шоколад</th>\n",
              "      <td>545.0</td>\n",
              "      <td>100.0</td>\n",
              "      <td>5.0</td>\n",
              "      <td>33.0</td>\n",
              "      <td>56.5</td>\n",
              "      <td>3.0</td>\n",
              "      <td>4.0</td>\n",
              "      <td>1.0</td>\n",
              "      <td>9.0</td>\n",
              "      <td>5</td>\n",
              "      <td>NaN</td>\n",
              "      <td>1.0</td>\n",
              "      <td>1.0</td>\n",
              "      <td>6.0</td>\n",
              "      <td>6.0</td>\n",
              "      <td>1.0</td>\n",
              "      <td>2</td>\n",
              "      <td>4.0</td>\n",
              "    </tr>\n",
              "    <tr>\n",
              "      <th>Сырок \"РОСТАГРОЭКСПОРТ\" творожный глазированный с \"Варенкой\"</th>\n",
              "      <td>360.7</td>\n",
              "      <td>35.6</td>\n",
              "      <td>7.7</td>\n",
              "      <td>19.1</td>\n",
              "      <td>39.5</td>\n",
              "      <td>NaN</td>\n",
              "      <td>3.0</td>\n",
              "      <td>3.0</td>\n",
              "      <td>NaN</td>\n",
              "      <td>1</td>\n",
              "      <td>2.0</td>\n",
              "      <td>6.0</td>\n",
              "      <td>2.0</td>\n",
              "      <td>1.0</td>\n",
              "      <td>1.0</td>\n",
              "      <td>2.0</td>\n",
              "      <td>8</td>\n",
              "      <td>5.0</td>\n",
              "    </tr>\n",
              "    <tr>\n",
              "      <th>Кефир 3.2%</th>\n",
              "      <td>57.0</td>\n",
              "      <td>5.9</td>\n",
              "      <td>3.0</td>\n",
              "      <td>3.2</td>\n",
              "      <td>4.0</td>\n",
              "      <td>6.0</td>\n",
              "      <td>5.0</td>\n",
              "      <td>8.0</td>\n",
              "      <td>4.0</td>\n",
              "      <td>8</td>\n",
              "      <td>1.0</td>\n",
              "      <td>7.0</td>\n",
              "      <td>7.0</td>\n",
              "      <td>4.0</td>\n",
              "      <td>7.0</td>\n",
              "      <td>NaN</td>\n",
              "      <td>1</td>\n",
              "      <td>NaN</td>\n",
              "    </tr>\n",
              "    <tr>\n",
              "      <th>Гречневая крупа</th>\n",
              "      <td>334.0</td>\n",
              "      <td>4.0</td>\n",
              "      <td>12.0</td>\n",
              "      <td>2.0</td>\n",
              "      <td>67.0</td>\n",
              "      <td>1.0</td>\n",
              "      <td>8.0</td>\n",
              "      <td>6.0</td>\n",
              "      <td>1.0</td>\n",
              "      <td>3</td>\n",
              "      <td>6.0</td>\n",
              "      <td>2.0</td>\n",
              "      <td>8.0</td>\n",
              "      <td>5.0</td>\n",
              "      <td>2.0</td>\n",
              "      <td>4.0</td>\n",
              "      <td>4</td>\n",
              "      <td>3.0</td>\n",
              "    </tr>\n",
              "  </tbody>\n",
              "</table>\n",
              "</div>"
            ],
            "text/plain": [
              "                                                    Калорийность, кКал  ...  Бишук\n",
              "Продукты                                                                ...       \n",
              "Устрицы                                                           72.0  ...    6.0\n",
              "Арахиc соленый                                                   640.0  ...    2.0\n",
              "Молоко  2,5%                                                      42.0  ...    NaN\n",
              "Макароны                                                         371.0  ...    1.0\n",
              "Овсяное молоко 3.2%                                              250.0  ...    NaN\n",
              "Шоколад                                                          545.0  ...    4.0\n",
              "Сырок \"РОСТАГРОЭКСПОРТ\" творожный глазированный...               360.7  ...    5.0\n",
              "Кефир 3.2%                                                        57.0  ...    NaN\n",
              "Гречневая крупа                                                  334.0  ...    3.0\n",
              "\n",
              "[9 rows x 18 columns]"
            ]
          },
          "metadata": {
            "tags": []
          },
          "execution_count": 2
        }
      ]
    },
    {
      "cell_type": "code",
      "metadata": {
        "colab": {
          "base_uri": "https://localhost:8080/",
          "height": 415
        },
        "id": "4PWN-ZR1IYss",
        "outputId": "42a03998-97fa-45d1-d065-bee39ef5605f"
      },
      "source": [
        "dft=df.T\n",
        "dft[5:] = 1/dft[5:] \n",
        "\n",
        "df_std = StandardScaler().fit_transform(df.fillna(0)).T\n",
        "\n",
        "pp = (dft[:5].T *10) / dft[:5].T.sum()\n",
        "df = pd.concat([dft[5:].T,pp], sort=False , axis = 1)\n",
        "df"
      ],
      "execution_count": 68,
      "outputs": [
        {
          "output_type": "execute_result",
          "data": {
            "text/html": [
              "<div>\n",
              "<style scoped>\n",
              "    .dataframe tbody tr th:only-of-type {\n",
              "        vertical-align: middle;\n",
              "    }\n",
              "\n",
              "    .dataframe tbody tr th {\n",
              "        vertical-align: top;\n",
              "    }\n",
              "\n",
              "    .dataframe thead th {\n",
              "        text-align: right;\n",
              "    }\n",
              "</style>\n",
              "<table border=\"1\" class=\"dataframe\">\n",
              "  <thead>\n",
              "    <tr style=\"text-align: right;\">\n",
              "      <th></th>\n",
              "      <th>Стрижов</th>\n",
              "      <th>Гребенькова</th>\n",
              "      <th>Михеев</th>\n",
              "      <th>Тихонов</th>\n",
              "      <th>Панченко</th>\n",
              "      <th>Панкратов</th>\n",
              "      <th>Харь</th>\n",
              "      <th>Савельев</th>\n",
              "      <th>Исламов</th>\n",
              "      <th>Волынцев</th>\n",
              "      <th>Христолюбов</th>\n",
              "      <th>Алсаханова</th>\n",
              "      <th>Бишук</th>\n",
              "      <th>Калорийность, кКал</th>\n",
              "      <th>Цена 100г, руб.</th>\n",
              "      <th>Белки</th>\n",
              "      <th>Жиры</th>\n",
              "      <th>Углеводы</th>\n",
              "    </tr>\n",
              "    <tr>\n",
              "      <th>Продукты</th>\n",
              "      <th></th>\n",
              "      <th></th>\n",
              "      <th></th>\n",
              "      <th></th>\n",
              "      <th></th>\n",
              "      <th></th>\n",
              "      <th></th>\n",
              "      <th></th>\n",
              "      <th></th>\n",
              "      <th></th>\n",
              "      <th></th>\n",
              "      <th></th>\n",
              "      <th></th>\n",
              "      <th></th>\n",
              "      <th></th>\n",
              "      <th></th>\n",
              "      <th></th>\n",
              "      <th></th>\n",
              "    </tr>\n",
              "  </thead>\n",
              "  <tbody>\n",
              "    <tr>\n",
              "      <th>Устрицы</th>\n",
              "      <td>0.250000</td>\n",
              "      <td>NaN</td>\n",
              "      <td>NaN</td>\n",
              "      <td>NaN</td>\n",
              "      <td>0.111111</td>\n",
              "      <td>0.200000</td>\n",
              "      <td>NaN</td>\n",
              "      <td>NaN</td>\n",
              "      <td>NaN</td>\n",
              "      <td>NaN</td>\n",
              "      <td>0.333333</td>\n",
              "      <td>0.111111</td>\n",
              "      <td>0.166667</td>\n",
              "      <td>0.269491</td>\n",
              "      <td>2.446747</td>\n",
              "      <td>1.291248</td>\n",
              "      <td>0.170358</td>\n",
              "      <td>0.200091</td>\n",
              "    </tr>\n",
              "    <tr>\n",
              "      <th>Арахиc соленый</th>\n",
              "      <td>0.500000</td>\n",
              "      <td>0.166667</td>\n",
              "      <td>0.250000</td>\n",
              "      <td>0.125000</td>\n",
              "      <td>0.142857</td>\n",
              "      <td>0.250000</td>\n",
              "      <td>0.333333</td>\n",
              "      <td>0.333333</td>\n",
              "      <td>NaN</td>\n",
              "      <td>0.250000</td>\n",
              "      <td>0.166667</td>\n",
              "      <td>0.333333</td>\n",
              "      <td>0.500000</td>\n",
              "      <td>2.395479</td>\n",
              "      <td>1.986183</td>\n",
              "      <td>3.586801</td>\n",
              "      <td>4.429302</td>\n",
              "      <td>0.773079</td>\n",
              "    </tr>\n",
              "    <tr>\n",
              "      <th>Молоко  2,5%</th>\n",
              "      <td>0.200000</td>\n",
              "      <td>1.000000</td>\n",
              "      <td>0.200000</td>\n",
              "      <td>0.200000</td>\n",
              "      <td>0.250000</td>\n",
              "      <td>0.333333</td>\n",
              "      <td>0.125000</td>\n",
              "      <td>0.250000</td>\n",
              "      <td>0.500000</td>\n",
              "      <td>0.333333</td>\n",
              "      <td>0.200000</td>\n",
              "      <td>0.200000</td>\n",
              "      <td>NaN</td>\n",
              "      <td>0.157203</td>\n",
              "      <td>0.169833</td>\n",
              "      <td>0.487805</td>\n",
              "      <td>0.212947</td>\n",
              "      <td>0.227376</td>\n",
              "    </tr>\n",
              "    <tr>\n",
              "      <th>Макароны</th>\n",
              "      <td>0.142857</td>\n",
              "      <td>0.142857</td>\n",
              "      <td>0.500000</td>\n",
              "      <td>0.333333</td>\n",
              "      <td>0.500000</td>\n",
              "      <td>0.125000</td>\n",
              "      <td>0.250000</td>\n",
              "      <td>0.166667</td>\n",
              "      <td>0.333333</td>\n",
              "      <td>0.200000</td>\n",
              "      <td>NaN</td>\n",
              "      <td>0.166667</td>\n",
              "      <td>1.000000</td>\n",
              "      <td>1.388629</td>\n",
              "      <td>0.978699</td>\n",
              "      <td>0.516499</td>\n",
              "      <td>0.034072</td>\n",
              "      <td>0.909504</td>\n",
              "    </tr>\n",
              "    <tr>\n",
              "      <th>Овсяное молоко 3.2%</th>\n",
              "      <td>NaN</td>\n",
              "      <td>0.500000</td>\n",
              "      <td>0.142857</td>\n",
              "      <td>0.500000</td>\n",
              "      <td>0.166667</td>\n",
              "      <td>0.142857</td>\n",
              "      <td>0.200000</td>\n",
              "      <td>0.200000</td>\n",
              "      <td>0.142857</td>\n",
              "      <td>NaN</td>\n",
              "      <td>0.142857</td>\n",
              "      <td>0.142857</td>\n",
              "      <td>NaN</td>\n",
              "      <td>0.935734</td>\n",
              "      <td>0.230282</td>\n",
              "      <td>0.143472</td>\n",
              "      <td>0.272572</td>\n",
              "      <td>0.295589</td>\n",
              "    </tr>\n",
              "    <tr>\n",
              "      <th>Шоколад</th>\n",
              "      <td>0.333333</td>\n",
              "      <td>0.250000</td>\n",
              "      <td>1.000000</td>\n",
              "      <td>0.111111</td>\n",
              "      <td>0.200000</td>\n",
              "      <td>NaN</td>\n",
              "      <td>1.000000</td>\n",
              "      <td>1.000000</td>\n",
              "      <td>0.166667</td>\n",
              "      <td>0.166667</td>\n",
              "      <td>1.000000</td>\n",
              "      <td>0.500000</td>\n",
              "      <td>0.250000</td>\n",
              "      <td>2.039900</td>\n",
              "      <td>2.878526</td>\n",
              "      <td>0.717360</td>\n",
              "      <td>2.810903</td>\n",
              "      <td>2.569350</td>\n",
              "    </tr>\n",
              "    <tr>\n",
              "      <th>Сырок \"РОСТАГРОЭКСПОРТ\" творожный глазированный с \"Варенкой\"</th>\n",
              "      <td>NaN</td>\n",
              "      <td>0.333333</td>\n",
              "      <td>0.333333</td>\n",
              "      <td>NaN</td>\n",
              "      <td>1.000000</td>\n",
              "      <td>0.500000</td>\n",
              "      <td>0.166667</td>\n",
              "      <td>0.500000</td>\n",
              "      <td>1.000000</td>\n",
              "      <td>1.000000</td>\n",
              "      <td>0.500000</td>\n",
              "      <td>0.125000</td>\n",
              "      <td>0.200000</td>\n",
              "      <td>1.350077</td>\n",
              "      <td>1.024755</td>\n",
              "      <td>1.104735</td>\n",
              "      <td>1.626917</td>\n",
              "      <td>1.796271</td>\n",
              "    </tr>\n",
              "    <tr>\n",
              "      <th>Кефир 3.2%</th>\n",
              "      <td>0.166667</td>\n",
              "      <td>0.200000</td>\n",
              "      <td>0.125000</td>\n",
              "      <td>0.250000</td>\n",
              "      <td>0.125000</td>\n",
              "      <td>1.000000</td>\n",
              "      <td>0.142857</td>\n",
              "      <td>0.142857</td>\n",
              "      <td>0.250000</td>\n",
              "      <td>0.142857</td>\n",
              "      <td>NaN</td>\n",
              "      <td>1.000000</td>\n",
              "      <td>NaN</td>\n",
              "      <td>0.213347</td>\n",
              "      <td>0.169833</td>\n",
              "      <td>0.430416</td>\n",
              "      <td>0.272572</td>\n",
              "      <td>0.181901</td>\n",
              "    </tr>\n",
              "    <tr>\n",
              "      <th>Гречневая крупа</th>\n",
              "      <td>1.000000</td>\n",
              "      <td>0.125000</td>\n",
              "      <td>0.166667</td>\n",
              "      <td>1.000000</td>\n",
              "      <td>0.333333</td>\n",
              "      <td>0.166667</td>\n",
              "      <td>0.500000</td>\n",
              "      <td>0.125000</td>\n",
              "      <td>0.200000</td>\n",
              "      <td>0.500000</td>\n",
              "      <td>0.250000</td>\n",
              "      <td>0.250000</td>\n",
              "      <td>0.333333</td>\n",
              "      <td>1.250140</td>\n",
              "      <td>0.115141</td>\n",
              "      <td>1.721664</td>\n",
              "      <td>0.170358</td>\n",
              "      <td>3.046839</td>\n",
              "    </tr>\n",
              "  </tbody>\n",
              "</table>\n",
              "</div>"
            ],
            "text/plain": [
              "                                                     Стрижов  ...  Углеводы\n",
              "Продукты                                                      ...          \n",
              "Устрицы                                             0.250000  ...  0.200091\n",
              "Арахиc соленый                                      0.500000  ...  0.773079\n",
              "Молоко  2,5%                                        0.200000  ...  0.227376\n",
              "Макароны                                            0.142857  ...  0.909504\n",
              "Овсяное молоко 3.2%                                      NaN  ...  0.295589\n",
              "Шоколад                                             0.333333  ...  2.569350\n",
              "Сырок \"РОСТАГРОЭКСПОРТ\" творожный глазированный...       NaN  ...  1.796271\n",
              "Кефир 3.2%                                          0.166667  ...  0.181901\n",
              "Гречневая крупа                                     1.000000  ...  3.046839\n",
              "\n",
              "[9 rows x 18 columns]"
            ]
          },
          "metadata": {
            "tags": []
          },
          "execution_count": 68
        }
      ]
    },
    {
      "cell_type": "markdown",
      "metadata": {
        "id": "plrWPerMU0tY"
      },
      "source": [
        "## Примерно отнормировав данные, следуя принципу tbtb посмотрим какие продукты получили наибольшее количество \"баллов\" и исходя из этих данных составим рейтинг, относительно него потом посторим сравнение рейтингов.\n"
      ]
    },
    {
      "cell_type": "code",
      "metadata": {
        "colab": {
          "base_uri": "https://localhost:8080/"
        },
        "id": "u3-uH3cyT2VS",
        "outputId": "7354279e-fd53-4503-cdad-88f5daf884f4"
      },
      "source": [
        "df.T.sum()"
      ],
      "execution_count": 69,
      "outputs": [
        {
          "output_type": "execute_result",
          "data": {
            "text/plain": [
              "Продукты\n",
              "Устрицы                                                           5.550158\n",
              "Арахиc соленый                                                   16.522033\n",
              "Молоко  2,5%                                                      5.046831\n",
              "Макароны                                                          7.688117\n",
              "Овсяное молоко 3.2%                                               4.158602\n",
              "Шоколад                                                          16.993816\n",
              "Сырок \"РОСТАГРОЭКСПОРТ\" творожный глазированный с \"Варенкой\"     12.561088\n",
              "Кефир 3.2%                                                        4.813308\n",
              "Гречневая крупа                                                  11.254143\n",
              "dtype: float64"
            ]
          },
          "metadata": {
            "tags": []
          },
          "execution_count": 69
        }
      ]
    },
    {
      "cell_type": "code",
      "metadata": {
        "colab": {
          "base_uri": "https://localhost:8080/",
          "height": 415
        },
        "id": "7N7YsHTQXie4",
        "outputId": "3a62ad0f-f753-4b5b-ebd8-9ebc5d006893"
      },
      "source": [
        "Rating = [6,2,7,5,9,1,3,8,4]\n",
        "df['Rating'] = Rating \n",
        "df = df.sort_values(by='Rating')\n",
        "df = df.T.drop(\"Rating\")\n",
        "df=df.T\n",
        "df"
      ],
      "execution_count": 70,
      "outputs": [
        {
          "output_type": "execute_result",
          "data": {
            "text/html": [
              "<div>\n",
              "<style scoped>\n",
              "    .dataframe tbody tr th:only-of-type {\n",
              "        vertical-align: middle;\n",
              "    }\n",
              "\n",
              "    .dataframe tbody tr th {\n",
              "        vertical-align: top;\n",
              "    }\n",
              "\n",
              "    .dataframe thead th {\n",
              "        text-align: right;\n",
              "    }\n",
              "</style>\n",
              "<table border=\"1\" class=\"dataframe\">\n",
              "  <thead>\n",
              "    <tr style=\"text-align: right;\">\n",
              "      <th></th>\n",
              "      <th>Стрижов</th>\n",
              "      <th>Гребенькова</th>\n",
              "      <th>Михеев</th>\n",
              "      <th>Тихонов</th>\n",
              "      <th>Панченко</th>\n",
              "      <th>Панкратов</th>\n",
              "      <th>Харь</th>\n",
              "      <th>Савельев</th>\n",
              "      <th>Исламов</th>\n",
              "      <th>Волынцев</th>\n",
              "      <th>Христолюбов</th>\n",
              "      <th>Алсаханова</th>\n",
              "      <th>Бишук</th>\n",
              "      <th>Калорийность, кКал</th>\n",
              "      <th>Цена 100г, руб.</th>\n",
              "      <th>Белки</th>\n",
              "      <th>Жиры</th>\n",
              "      <th>Углеводы</th>\n",
              "    </tr>\n",
              "    <tr>\n",
              "      <th>Продукты</th>\n",
              "      <th></th>\n",
              "      <th></th>\n",
              "      <th></th>\n",
              "      <th></th>\n",
              "      <th></th>\n",
              "      <th></th>\n",
              "      <th></th>\n",
              "      <th></th>\n",
              "      <th></th>\n",
              "      <th></th>\n",
              "      <th></th>\n",
              "      <th></th>\n",
              "      <th></th>\n",
              "      <th></th>\n",
              "      <th></th>\n",
              "      <th></th>\n",
              "      <th></th>\n",
              "      <th></th>\n",
              "    </tr>\n",
              "  </thead>\n",
              "  <tbody>\n",
              "    <tr>\n",
              "      <th>Шоколад</th>\n",
              "      <td>0.333333</td>\n",
              "      <td>0.250000</td>\n",
              "      <td>1.000000</td>\n",
              "      <td>0.111111</td>\n",
              "      <td>0.200000</td>\n",
              "      <td>NaN</td>\n",
              "      <td>1.000000</td>\n",
              "      <td>1.000000</td>\n",
              "      <td>0.166667</td>\n",
              "      <td>0.166667</td>\n",
              "      <td>1.000000</td>\n",
              "      <td>0.500000</td>\n",
              "      <td>0.250000</td>\n",
              "      <td>2.039900</td>\n",
              "      <td>2.878526</td>\n",
              "      <td>0.717360</td>\n",
              "      <td>2.810903</td>\n",
              "      <td>2.569350</td>\n",
              "    </tr>\n",
              "    <tr>\n",
              "      <th>Арахиc соленый</th>\n",
              "      <td>0.500000</td>\n",
              "      <td>0.166667</td>\n",
              "      <td>0.250000</td>\n",
              "      <td>0.125000</td>\n",
              "      <td>0.142857</td>\n",
              "      <td>0.250000</td>\n",
              "      <td>0.333333</td>\n",
              "      <td>0.333333</td>\n",
              "      <td>NaN</td>\n",
              "      <td>0.250000</td>\n",
              "      <td>0.166667</td>\n",
              "      <td>0.333333</td>\n",
              "      <td>0.500000</td>\n",
              "      <td>2.395479</td>\n",
              "      <td>1.986183</td>\n",
              "      <td>3.586801</td>\n",
              "      <td>4.429302</td>\n",
              "      <td>0.773079</td>\n",
              "    </tr>\n",
              "    <tr>\n",
              "      <th>Сырок \"РОСТАГРОЭКСПОРТ\" творожный глазированный с \"Варенкой\"</th>\n",
              "      <td>NaN</td>\n",
              "      <td>0.333333</td>\n",
              "      <td>0.333333</td>\n",
              "      <td>NaN</td>\n",
              "      <td>1.000000</td>\n",
              "      <td>0.500000</td>\n",
              "      <td>0.166667</td>\n",
              "      <td>0.500000</td>\n",
              "      <td>1.000000</td>\n",
              "      <td>1.000000</td>\n",
              "      <td>0.500000</td>\n",
              "      <td>0.125000</td>\n",
              "      <td>0.200000</td>\n",
              "      <td>1.350077</td>\n",
              "      <td>1.024755</td>\n",
              "      <td>1.104735</td>\n",
              "      <td>1.626917</td>\n",
              "      <td>1.796271</td>\n",
              "    </tr>\n",
              "    <tr>\n",
              "      <th>Гречневая крупа</th>\n",
              "      <td>1.000000</td>\n",
              "      <td>0.125000</td>\n",
              "      <td>0.166667</td>\n",
              "      <td>1.000000</td>\n",
              "      <td>0.333333</td>\n",
              "      <td>0.166667</td>\n",
              "      <td>0.500000</td>\n",
              "      <td>0.125000</td>\n",
              "      <td>0.200000</td>\n",
              "      <td>0.500000</td>\n",
              "      <td>0.250000</td>\n",
              "      <td>0.250000</td>\n",
              "      <td>0.333333</td>\n",
              "      <td>1.250140</td>\n",
              "      <td>0.115141</td>\n",
              "      <td>1.721664</td>\n",
              "      <td>0.170358</td>\n",
              "      <td>3.046839</td>\n",
              "    </tr>\n",
              "    <tr>\n",
              "      <th>Макароны</th>\n",
              "      <td>0.142857</td>\n",
              "      <td>0.142857</td>\n",
              "      <td>0.500000</td>\n",
              "      <td>0.333333</td>\n",
              "      <td>0.500000</td>\n",
              "      <td>0.125000</td>\n",
              "      <td>0.250000</td>\n",
              "      <td>0.166667</td>\n",
              "      <td>0.333333</td>\n",
              "      <td>0.200000</td>\n",
              "      <td>NaN</td>\n",
              "      <td>0.166667</td>\n",
              "      <td>1.000000</td>\n",
              "      <td>1.388629</td>\n",
              "      <td>0.978699</td>\n",
              "      <td>0.516499</td>\n",
              "      <td>0.034072</td>\n",
              "      <td>0.909504</td>\n",
              "    </tr>\n",
              "    <tr>\n",
              "      <th>Устрицы</th>\n",
              "      <td>0.250000</td>\n",
              "      <td>NaN</td>\n",
              "      <td>NaN</td>\n",
              "      <td>NaN</td>\n",
              "      <td>0.111111</td>\n",
              "      <td>0.200000</td>\n",
              "      <td>NaN</td>\n",
              "      <td>NaN</td>\n",
              "      <td>NaN</td>\n",
              "      <td>NaN</td>\n",
              "      <td>0.333333</td>\n",
              "      <td>0.111111</td>\n",
              "      <td>0.166667</td>\n",
              "      <td>0.269491</td>\n",
              "      <td>2.446747</td>\n",
              "      <td>1.291248</td>\n",
              "      <td>0.170358</td>\n",
              "      <td>0.200091</td>\n",
              "    </tr>\n",
              "    <tr>\n",
              "      <th>Молоко  2,5%</th>\n",
              "      <td>0.200000</td>\n",
              "      <td>1.000000</td>\n",
              "      <td>0.200000</td>\n",
              "      <td>0.200000</td>\n",
              "      <td>0.250000</td>\n",
              "      <td>0.333333</td>\n",
              "      <td>0.125000</td>\n",
              "      <td>0.250000</td>\n",
              "      <td>0.500000</td>\n",
              "      <td>0.333333</td>\n",
              "      <td>0.200000</td>\n",
              "      <td>0.200000</td>\n",
              "      <td>NaN</td>\n",
              "      <td>0.157203</td>\n",
              "      <td>0.169833</td>\n",
              "      <td>0.487805</td>\n",
              "      <td>0.212947</td>\n",
              "      <td>0.227376</td>\n",
              "    </tr>\n",
              "    <tr>\n",
              "      <th>Кефир 3.2%</th>\n",
              "      <td>0.166667</td>\n",
              "      <td>0.200000</td>\n",
              "      <td>0.125000</td>\n",
              "      <td>0.250000</td>\n",
              "      <td>0.125000</td>\n",
              "      <td>1.000000</td>\n",
              "      <td>0.142857</td>\n",
              "      <td>0.142857</td>\n",
              "      <td>0.250000</td>\n",
              "      <td>0.142857</td>\n",
              "      <td>NaN</td>\n",
              "      <td>1.000000</td>\n",
              "      <td>NaN</td>\n",
              "      <td>0.213347</td>\n",
              "      <td>0.169833</td>\n",
              "      <td>0.430416</td>\n",
              "      <td>0.272572</td>\n",
              "      <td>0.181901</td>\n",
              "    </tr>\n",
              "    <tr>\n",
              "      <th>Овсяное молоко 3.2%</th>\n",
              "      <td>NaN</td>\n",
              "      <td>0.500000</td>\n",
              "      <td>0.142857</td>\n",
              "      <td>0.500000</td>\n",
              "      <td>0.166667</td>\n",
              "      <td>0.142857</td>\n",
              "      <td>0.200000</td>\n",
              "      <td>0.200000</td>\n",
              "      <td>0.142857</td>\n",
              "      <td>NaN</td>\n",
              "      <td>0.142857</td>\n",
              "      <td>0.142857</td>\n",
              "      <td>NaN</td>\n",
              "      <td>0.935734</td>\n",
              "      <td>0.230282</td>\n",
              "      <td>0.143472</td>\n",
              "      <td>0.272572</td>\n",
              "      <td>0.295589</td>\n",
              "    </tr>\n",
              "  </tbody>\n",
              "</table>\n",
              "</div>"
            ],
            "text/plain": [
              "                                                     Стрижов  ...  Углеводы\n",
              "Продукты                                                      ...          \n",
              "Шоколад                                             0.333333  ...  2.569350\n",
              "Арахиc соленый                                      0.500000  ...  0.773079\n",
              "Сырок \"РОСТАГРОЭКСПОРТ\" творожный глазированный...       NaN  ...  1.796271\n",
              "Гречневая крупа                                     1.000000  ...  3.046839\n",
              "Макароны                                            0.142857  ...  0.909504\n",
              "Устрицы                                             0.250000  ...  0.200091\n",
              "Молоко  2,5%                                        0.200000  ...  0.227376\n",
              "Кефир 3.2%                                          0.166667  ...  0.181901\n",
              "Овсяное молоко 3.2%                                      NaN  ...  0.295589\n",
              "\n",
              "[9 rows x 18 columns]"
            ]
          },
          "metadata": {
            "tags": []
          },
          "execution_count": 70
        }
      ]
    },
    {
      "cell_type": "markdown",
      "metadata": {
        "id": "VFVl6D_KZR8M"
      },
      "source": [
        "### Поиск главных компонент"
      ]
    },
    {
      "cell_type": "markdown",
      "metadata": {
        "id": "7Frv4igvEH0i"
      },
      "source": [
        "Будем ориентироваться только на первую главную компоненту\n"
      ]
    },
    {
      "cell_type": "code",
      "metadata": {
        "colab": {
          "base_uri": "https://localhost:8080/"
        },
        "id": "nFw_AIthZDS_",
        "outputId": "e161f2c1-70e7-4864-908d-faf0328894eb"
      },
      "source": [
        "pca = PCA(n_components=1)\n",
        "pca.fit(df_std)"
      ],
      "execution_count": 71,
      "outputs": [
        {
          "output_type": "execute_result",
          "data": {
            "text/plain": [
              "PCA(copy=True, iterated_power='auto', n_components=1, random_state=None,\n",
              "    svd_solver='auto', tol=0.0, whiten=False)"
            ]
          },
          "metadata": {
            "tags": []
          },
          "execution_count": 71
        }
      ]
    },
    {
      "cell_type": "markdown",
      "metadata": {
        "id": "vWxhwWlRUGCB"
      },
      "source": [
        "### Подсчет изменения угла оси при добавлении Nan"
      ]
    },
    {
      "cell_type": "code",
      "metadata": {
        "id": "5T4gu6JQGwdR"
      },
      "source": [
        "num = 0\n",
        "coord = list()\n",
        "osi = [np.array([0,0,0,0,0,0,0,0,0])]\n",
        "\n",
        "while num < 100:\n",
        "  i = random.randint(0,len(df_std)-1)\n",
        "  j = random.randint(0,len(df_std[i])-1)\n",
        "  if df_std[i][j] != 0:\n",
        "    df_std[i][j] = 0\n",
        "    osi.append(pca.components_[0])   #сохраняем координаты главных осей чтобы потом считать изменение угла\n",
        "    num+=1  "
      ],
      "execution_count": 72,
      "outputs": []
    },
    {
      "cell_type": "code",
      "metadata": {
        "id": "jWodYfxgU0S3"
      },
      "source": [
        "def unit_vector(vector):\n",
        "  \n",
        "    return vector / np.linalg.norm(vector)\n",
        "\n",
        "def angle_between(v1, v2):\n",
        "\n",
        "    v1_u = unit_vector(v1)\n",
        "    v2_u = unit_vector(v2)\n",
        "    return np.arccos(np.clip(np.dot(v1_u, v2_u), -1.0, 1.0))"
      ],
      "execution_count": 73,
      "outputs": []
    },
    {
      "cell_type": "code",
      "metadata": {
        "colab": {
          "base_uri": "https://localhost:8080/"
        },
        "id": "XWeAdsGiaqdP",
        "outputId": "456db257-6707-4363-b138-2d00efbb6bab"
      },
      "source": [
        "corners = []\n",
        "for corner in range(len(osi)-1):\n",
        "  corners.append(angle_between(osi[corner],osi[corner+1]))\n",
        "max(corners[1:])"
      ],
      "execution_count": 74,
      "outputs": [
        {
          "output_type": "stream",
          "text": [
            "/usr/local/lib/python3.7/dist-packages/ipykernel_launcher.py:3: RuntimeWarning: invalid value encountered in true_divide\n",
            "  This is separate from the ipykernel package so we can avoid doing imports until\n"
          ],
          "name": "stderr"
        },
        {
          "output_type": "execute_result",
          "data": {
            "text/plain": [
              "0.0"
            ]
          },
          "metadata": {
            "tags": []
          },
          "execution_count": 74
        }
      ]
    },
    {
      "cell_type": "markdown",
      "metadata": {
        "id": "9xIrC5A2aSmA"
      },
      "source": [
        "Была теория, что расположение главной оси меняется и я хотел посмотреть изменение угла следующей оси относительно предыдущей, но как оказалось она остается на месте и угол всегда равен 0... Но функции и код написал, так что жалко стирать :)\n"
      ]
    },
    {
      "cell_type": "markdown",
      "metadata": {
        "id": "KcjqrKdE5sFp"
      },
      "source": [
        "### Подходы к замене Nan\n",
        "\n"
      ]
    },
    {
      "cell_type": "code",
      "metadata": {
        "id": "RE-tcBZ0TuB_"
      },
      "source": [
        "def get_coord_random():                                                                # Меняем значения на случайное значение в столбце\n",
        "  df =pd.read_excel('/content/drive/MyDrive/mmp/Food rating.xlsx', index_col= 'Продукты')\n",
        "  dft=df.T\n",
        "  df_std = StandardScaler().fit_transform(df.fillna(0).T)\n",
        "\n",
        "\n",
        "  num = 0\n",
        "  coord = list()\n",
        "\n",
        "  x = np.array(df_std)\n",
        "\n",
        "  for i in range(len(df_std)):\n",
        "    for j in range(len(df_std[i])): \n",
        "      if df_std[i][j] == 0:\n",
        "        targ = x.T[i]\n",
        "        tar_train = targ[np.arange(len(targ))!=j]   \n",
        "\n",
        "        yy = x[np.arange(len(x))!=i].T\n",
        "        yy = yy[np.arange(len(yy))!=j].T\n",
        "\n",
        "        ff_test = x[i]\n",
        "        ff_test = ff_test[np.arange(len(ff_test))!=j]\n",
        "\n",
        "        reg = LinearRegression().fit(yy, tar_train)\n",
        "\n",
        "        df_std[i][j] = reg.predict(ff_test.reshape(1, -1))[0]\n",
        "\n",
        "  while num < 100:\n",
        "    i = random.randint(0,len(df_std)-1)\n",
        "    j = random.randint(0,len(df_std[i])-1)\n",
        "    k = random.randint(0,len(df_std[i])-1)\n",
        "    if k == j: \n",
        "      k = random.randint(0,len(df_std[i])-1)\n",
        "\n",
        "    df_std[i][j] =  df_std[i][k]\n",
        "\n",
        "    gg = pca.transform(df_std)        \n",
        "    gg = np.resize(gg,(1,len(gg)))     \n",
        "    coord.append(gg.tolist()[0])      \n",
        "\n",
        "    num+=1  \n",
        "\n",
        "  return coord   "
      ],
      "execution_count": 99,
      "outputs": []
    },
    {
      "cell_type": "code",
      "metadata": {
        "id": "09X5jCUGau8J"
      },
      "source": [
        "def get_coord_mean():                                                                # Меняем значения на среднее значение в столбце\n",
        "  df =pd.read_excel('/content/drive/MyDrive/mmp/Food rating.xlsx', index_col= 'Продукты')\n",
        "  dft=df.T\n",
        "  df_std = StandardScaler().fit_transform(df.fillna(0).T)\n",
        "\n",
        "\n",
        "  num = 0\n",
        "  coord = list()\n",
        "\n",
        "  x = np.array(df_std)\n",
        "\n",
        "  for i in range(len(df_std)):\n",
        "    for j in range(len(df_std[i])): \n",
        "      if df_std[i][j] == 0:\n",
        "        targ = x.T[i]\n",
        "        tar_train = targ[np.arange(len(targ))!=j]   \n",
        "\n",
        "        yy = x[np.arange(len(x))!=i].T\n",
        "        yy = yy[np.arange(len(yy))!=j].T\n",
        "\n",
        "        ff_test = x[i]\n",
        "        ff_test = ff_test[np.arange(len(ff_test))!=j]\n",
        "\n",
        "        reg = LinearRegression().fit(yy, tar_train)\n",
        "\n",
        "        df_std[i][j] = reg.predict(ff_test.reshape(1, -1))[0]\n",
        "\n",
        "  while num < 100:\n",
        "    i = random.randint(0,len(df_std)-1)\n",
        "    j = random.randint(0,len(df_std[i])-1)\n",
        "\n",
        "    df_std[i][j] =  df_std[i].mean()\n",
        "\n",
        "    gg = pca.transform(df_std)        \n",
        "    gg = np.resize(gg,(1,len(gg)))     \n",
        "    coord.append(gg.tolist()[0])      \n",
        "\n",
        "    num+=1  \n",
        "\n",
        "  return coord   "
      ],
      "execution_count": 100,
      "outputs": []
    },
    {
      "cell_type": "code",
      "metadata": {
        "id": "bUjYTqFVIMs7"
      },
      "source": [
        "def get_coord_max():                                                                # Меняем значения на максимальное значение в столбце\n",
        "  df =pd.read_excel('/content/drive/MyDrive/mmp/Food rating.xlsx', index_col= 'Продукты')\n",
        "  dft=df.T\n",
        "  df_std = StandardScaler().fit_transform(df.fillna(0).T)\n",
        "\n",
        "\n",
        "  num = 0\n",
        "  coord = list()\n",
        "\n",
        "  x = np.array(df_std)\n",
        "\n",
        "  for i in range(len(df_std)):\n",
        "    for j in range(len(df_std[i])): \n",
        "      if df_std[i][j] == 0:\n",
        "        targ = x.T[i]\n",
        "        tar_train = targ[np.arange(len(targ))!=j]   \n",
        "\n",
        "        yy = x[np.arange(len(x))!=i].T\n",
        "        yy = yy[np.arange(len(yy))!=j].T\n",
        "\n",
        "        ff_test = x[i]\n",
        "        ff_test = ff_test[np.arange(len(ff_test))!=j]\n",
        "\n",
        "        reg = LinearRegression().fit(yy, tar_train)\n",
        "\n",
        "        df_std[i][j] = reg.predict(ff_test.reshape(1, -1))[0]\n",
        "\n",
        "  while num < 100:\n",
        "    i = random.randint(0,len(df_std)-1)\n",
        "    j = random.randint(0,len(df_std[i])-1)\n",
        "\n",
        "    df_std[i][j] =  max(df_std[i])\n",
        "    gg = pca.transform(df_std)        \n",
        "    gg = np.resize(gg,(1,len(gg)))     \n",
        "    coord.append(gg.tolist()[0])      \n",
        "\n",
        "    num+=1  \n",
        "\n",
        "  return coord   "
      ],
      "execution_count": 101,
      "outputs": []
    },
    {
      "cell_type": "code",
      "metadata": {
        "id": "pTGcameyMZG0"
      },
      "source": [
        "def get_coord_min():                                                                # Меняем значения на минимальное значение в столбце\n",
        "  df =pd.read_excel('/content/drive/MyDrive/mmp/Food rating.xlsx', index_col= 'Продукты')\n",
        "  dft=df.T\n",
        "  # dft[5:] = 1/dft[5:] \n",
        "  df_std = StandardScaler().fit_transform(df.fillna(0).T)\n",
        "\n",
        "  num = 0\n",
        "  coord = list()\n",
        "\n",
        "  x = np.array(df_std)\n",
        "\n",
        "  for i in range(len(df_std)):\n",
        "    for j in range(len(df_std[i])): \n",
        "      if df_std[i][j] == 0:\n",
        "        targ = x.T[i]\n",
        "        tar_train = targ[np.arange(len(targ))!=j]   \n",
        "\n",
        "        yy = x[np.arange(len(x))!=i].T\n",
        "        yy = yy[np.arange(len(yy))!=j].T\n",
        "\n",
        "        ff_test = x[i]\n",
        "        ff_test = ff_test[np.arange(len(ff_test))!=j]\n",
        "\n",
        "        reg = LinearRegression().fit(yy, tar_train)\n",
        "\n",
        "        df_std[i][j] = reg.predict(ff_test.reshape(1, -1))[0]\n",
        "\n",
        "  while num < 100:\n",
        "    i = random.randint(0,len(df_std)-1)\n",
        "    j = random.randint(0,len(df_std[i])-1)\n",
        "\n",
        "    df_std[i][j] =  min(df_std[i])\n",
        "    gg = pca.transform(df_std)        \n",
        "    gg = np.resize(gg,(1,len(gg)))     \n",
        "    coord.append(gg.tolist()[0])      \n",
        "\n",
        "    num+=1  \n",
        "\n",
        "  return coord   "
      ],
      "execution_count": 102,
      "outputs": []
    },
    {
      "cell_type": "code",
      "metadata": {
        "id": "5Fo02iL3cx1h"
      },
      "source": [
        "def get_coord_null():                                                                # Меняем значения на 0\n",
        "  df =pd.read_excel('/content/drive/MyDrive/mmp/Food rating.xlsx', index_col= 'Продукты')\n",
        "  dft=df.T\n",
        "  df_std = StandardScaler().fit_transform(df.fillna(0).T)\n",
        "\n",
        "  num = 0\n",
        "  coord = list()\n",
        "\n",
        "  while num < 100:\n",
        "    i = random.randint(0,len(df_std)-1)\n",
        "    j = random.randint(0,len(df_std[i])-1)\n",
        "    if df_std[i][j] != 0:\n",
        "\n",
        "      df_std[i][j] = 0\n",
        "      gg = pca.transform(df_std)        \n",
        "      gg = np.resize(gg,(1,len(gg)))     \n",
        "      coord.append(gg.tolist()[0])      \n",
        "\n",
        "      num+=1  \n",
        "\n",
        "  return coord   "
      ],
      "execution_count": 103,
      "outputs": []
    },
    {
      "cell_type": "markdown",
      "metadata": {
        "id": "HR-KEYUN6AQT"
      },
      "source": [
        "### Определение метода замены Nan-ов"
      ]
    },
    {
      "cell_type": "markdown",
      "metadata": {
        "id": "-ynaRstlNCvD"
      },
      "source": [
        "Тут можно выбрать одну из функций для замены Nan : <ol> \n",
        "<li> get_coord_null - меняет на нули </li>\n",
        "<li> get_coord_mean - меняет на среднее значения в столбце </li>\n",
        "<li>get_coord_min - меняет на минимальное значение в столбце </li>\n",
        "<li>get_coord_max - меняет на максимальное значение в столбце</li>\n",
        "<li> get_coord_random -  меняет на случайное значение из столбца </li>"
      ]
    },
    {
      "cell_type": "code",
      "metadata": {
        "id": "wRsyacWzOsFg"
      },
      "source": [
        "get_coord = get_coord_random()"
      ],
      "execution_count": 104,
      "outputs": []
    },
    {
      "cell_type": "markdown",
      "metadata": {
        "id": "3fR4vgWI6Iz5"
      },
      "source": [
        "### Построение рейтинга"
      ]
    },
    {
      "cell_type": "code",
      "metadata": {
        "id": "0rVHd7i859ds"
      },
      "source": [
        "def rating(coords):\n",
        "  oysters = []\n",
        "  peanuts = []\n",
        "  milk = []\n",
        "  pasta = []\n",
        "  oatmeal_milk = []\n",
        "  chokolate = []\n",
        "  curd = []\n",
        "  kefir = []\n",
        "  buckwheat = []\n",
        "  for i in range(len(coords)):\n",
        "    oysters.append(coords[i][0])\n",
        "    peanuts.append(coords[i][1])\n",
        "    milk.append(coords[i][2])\n",
        "    pasta.append(coords[i][3])\n",
        "    oatmeal_milk.append(coords[i][4])\n",
        "    chokolate.append(coords[i][5])\n",
        "    curd.append(coords[i][6])\n",
        "    kefir.append(coords[i][7])\n",
        "    buckwheat.append(coords[i][8])\n",
        "\n",
        "  c=[i for i in range(100)]\n",
        "\n",
        "  plt.figure(figsize=(38, 13))\n",
        "  plt.plot(c,oysters, label='oysters')\n",
        "  plt.plot(c,peanuts, label='peanuts')\n",
        "  plt.plot(c,milk, label='milk')\n",
        "  plt.plot(c,pasta, label=\"pasta\")\n",
        "  plt.plot(c,oatmeal_milk,  label=\"oatmeal_milk\")\n",
        "  plt.plot(c,chokolate,  label='chokolate')\n",
        "  plt.plot(c,curd,  label=\"curd\")\n",
        "  plt.plot(c,kefir,  label=\"kefir\")\n",
        "  plt.plot(c,buckwheat,  label=\"buckwheat\")\n",
        "  plt.legend(fontsize = 18)\n",
        "  plt.show()"
      ],
      "execution_count": 105,
      "outputs": []
    },
    {
      "cell_type": "code",
      "metadata": {
        "colab": {
          "base_uri": "https://localhost:8080/",
          "height": 678
        },
        "id": "lThtVTbK-Lth",
        "outputId": "9cb96059-0cf2-4719-fdb6-8b0ffb35a268"
      },
      "source": [
        "a = rating(get_coord)"
      ],
      "execution_count": 106,
      "outputs": [
        {
          "output_type": "display_data",
          "data": {
            "image/png": "[encoded data removed]",
            "text/plain": [
              "<Figure size 2736x936 with 1 Axes>"
            ]
          },
          "metadata": {
            "tags": [],
            "needs_background": "light"
          }
        }
      ]
    },
    {
      "cell_type": "code",
      "metadata": {
        "id": "feBFuvJ7XrCU"
      },
      "source": [
        "l=[]\n",
        "for j in range(99): #получаем 100 разных координат\n",
        "  a = np.array(get_coord)\n",
        "  l.append(a)\n",
        "\n",
        "Final_rating = np.array(get_coord)\n",
        "for i in l: #Усредняем\n",
        "  Final_rating  = [x+y for x, y in zip(Final_rating, i)]\n",
        "Final_rating  = (np.array(Final_rating)/len(l)).tolist()"
      ],
      "execution_count": 107,
      "outputs": []
    },
    {
      "cell_type": "code",
      "metadata": {
        "id": "jkOcout67K9O",
        "colab": {
          "base_uri": "https://localhost:8080/",
          "height": 678
        },
        "outputId": "ff219f8b-060d-47e8-9c4e-2e73836c9821"
      },
      "source": [
        "rating(Final_rating)"
      ],
      "execution_count": 108,
      "outputs": [
        {
          "output_type": "display_data",
          "data": {
            "image/png": "[encoded data removed]",
            "text/plain": [
              "<Figure size 2736x936 with 1 Axes>"
            ]
          },
          "metadata": {
            "tags": [],
            "needs_background": "light"
          }
        }
      ]
    },
    {
      "cell_type": "code",
      "metadata": {
        "id": "eP823AaGIcqt"
      },
      "source": [
        "def get_point(fake, real = np.array([9,1,3,2,4,7,5,8,6])):\n",
        "  names = ['устрицы', 'арахис', 'молоко', 'макароны', 'молоко овс.', 'шоколад', 'сырок', 'кефир', 'греча']\n",
        "\n",
        "  r1 = np.array(fake)\n",
        "  r2 = real\n",
        "\n",
        "  x = np.array([0,10])\n",
        "\n",
        "\n",
        "  plt.figure(figsize = (7,7))\n",
        "  plt.plot(x, x, '--', alpha = 0.5)\n",
        "  plt.scatter(r1, r2)\n",
        "  for i, name in enumerate(names):\n",
        "      plt.text(r1[i], r2[i], name)\n",
        "  plt.xlabel('Чужой рейтинг')\n",
        "  plt.ylabel('Мой рейтинг')\n",
        "  plt.show()"
      ],
      "execution_count": 109,
      "outputs": []
    },
    {
      "cell_type": "code",
      "metadata": {
        "id": "cd0urUxHIhsx",
        "colab": {
          "base_uri": "https://localhost:8080/",
          "height": 442
        },
        "outputId": "3703b665-1963-41e0-e8e8-f5cd4ec4e4e0"
      },
      "source": [
        "get_point([6,2,7,5,9,1,3,8,4])"
      ],
      "execution_count": 110,
      "outputs": [
        {
          "output_type": "display_data",
          "data": {
            "image/png": "[encoded data removed]",
            "text/plain": [
              "<Figure size 504x504 with 1 Axes>"
            ]
          },
          "metadata": {
            "tags": [],
            "needs_background": "light"
          }
        }
      ]
    },
    {
      "cell_type": "code",
      "metadata": {
        "id": "yMOyRs9EVM5P",
        "colab": {
          "base_uri": "https://localhost:8080/",
          "height": 442
        },
        "outputId": "fd8c200c-919c-4dad-df9f-8ff9258a871a"
      },
      "source": [
        "get_point([8,5,3,6,9,2,1,7,4])"
      ],
      "execution_count": 111,
      "outputs": [
        {
          "output_type": "display_data",
          "data": {
            "image/png": "[encoded data removed]",
            "text/plain": [
              "<Figure size 504x504 with 1 Axes>"
            ]
          },
          "metadata": {
            "tags": [],
            "needs_background": "light"
          }
        }
      ]
    },
    {
      "cell_type": "markdown",
      "metadata": {
        "id": "SHc6jLzQWzOn"
      },
      "source": [
        "**Выводы: Вероятно из-за StandardScaler() рейтинг всегда получается одинаковым и те методы замены нанов, что я реализовал , практически никак не сказываются на устойчивость самого рейтинга. Однако если убрать StandardScaler() , то из за повышенной калорийности некоторых продуктов значения в первой главной компоненте превышают на порядок остальные,  и смысл задачи пропадает вовсе, так как там уже нельзя говорить о како-либо устойчивости и объективности рейтинга**\n",
        "\n",
        "\n"
      ]
    },
    {
      "cell_type": "markdown",
      "metadata": {
        "id": "y8_ZdNgLv-X5"
      },
      "source": [
        "Последнее обновление: Изначальные Nan заполняю предсказаниями LinearRegression\n"
      ]
    },
    {
      "cell_type": "markdown",
      "metadata": {
        "id": "lLBxrBq7vtn3"
      },
      "source": [
        "###PlayGround\n"
      ]
    },
    {
      "cell_type": "code",
      "metadata": {
        "id": "F1avxj2YaMXY"
      },
      "source": [
        "def get_coord_LinReg():                                                                # Меняем значения на случайное значение в столбце\n",
        "  df =pd.read_excel('/content/drive/MyDrive/mmp/Food rating.xlsx', index_col= 'Продукты')\n",
        "  dft=df.T\n",
        "  df_std = StandardScaler().fit_transform(df.fillna(0).T)\n",
        "\n",
        "  num = 0\n",
        "  coord = list()\n",
        "\n",
        "  x = np.array(df_std)\n",
        "\n",
        "  for i in range(len(df_std)):\n",
        "    for j in range(len(df_std[i])): \n",
        "      if df_std[i][j] == 0:\n",
        "        targ = x.T[i]\n",
        "        tar_train = targ[np.arange(len(targ))!=j]   \n",
        "\n",
        "        yy = x[np.arange(len(x))!=i].T\n",
        "        yy = yy[np.arange(len(yy))!=j].T\n",
        "\n",
        "        ff_test = x[i]\n",
        "        ff_test = ff_test[np.arange(len(ff_test))!=j]\n",
        "\n",
        "        reg = LinearRegression().fit(yy, tar_train)\n",
        "\n",
        "        df_std[i][j] = reg.predict(ff_test.reshape(1, -1))[0]\n",
        "\n",
        "  while num < 100:\n",
        "    i = random.randint(0,len(df_std)-1)\n",
        "    j = random.randint(0,len(df_std[i])-1)\n",
        "\n",
        "    targ = x.T[i]\n",
        "    tar_train = targ[np.arange(len(targ))!=j]   \n",
        "\n",
        "    yy = x[np.arange(len(x))!=i].T\n",
        "    yy = yy[np.arange(len(yy))!=j].T\n",
        "\n",
        "    ff_test = x[i]\n",
        "    ff_test = ff_test[np.arange(len(ff_test))!=j]\n",
        "\n",
        "    reg = LinearRegression().fit(yy, tar_train)\n",
        "\n",
        "    df_std[i][j] = reg.predict(ff_test.reshape(1, -1))[0]    \n",
        "\n",
        "    gg = pca.transform(df_std)        \n",
        "    gg = np.resize(gg,(1,len(gg)))     \n",
        "    coord.append(gg.tolist()[0])      \n",
        "\n",
        "    num+=1  \n",
        "\n",
        "  return coord  "
      ],
      "execution_count": null,
      "outputs": []
    }
  ]
}