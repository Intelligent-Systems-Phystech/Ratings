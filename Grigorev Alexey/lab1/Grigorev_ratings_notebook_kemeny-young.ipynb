{
 "cells": [
  {
   "cell_type": "code",
   "execution_count": 1,
   "metadata": {},
   "outputs": [],
   "source": [
    "import itertools\n",
    "import tqdm\n",
    "import numpy as np\n",
    "np.random.seed(12)"
   ]
  },
  {
   "cell_type": "code",
   "execution_count": 2,
   "metadata": {},
   "outputs": [],
   "source": [
    "def ranking_score(tally_table, pair2row, ranking):\n",
    "    sum_val = 0\n",
    "    for i in range(len(ranking)-1):\n",
    "        for j in range(i+1, len(ranking)):\n",
    "            a = ranking[i]\n",
    "            b = ranking[j]\n",
    "            if a > b:\n",
    "                row = pair2row[(b, a)]\n",
    "                sum_val += tally_table[row, 2]\n",
    "            else:\n",
    "                row = pair2row[(a, b)]\n",
    "                sum_val += tally_table[row, 0]\n",
    "    return sum_val\n",
    "\n",
    "\n",
    "def kemeny_young(data):\n",
    "    num_experts, num_items = data.shape\n",
    "    indices = np.arange(num_items)\n",
    "    \n",
    "    possible_pairs = list(itertools.combinations(indices, r=2))\n",
    "    tally_table = np.zeros((len(possible_pairs), 3))\n",
    "    pair2row = dict(zip(possible_pairs, range(len(possible_pairs))))\n",
    "    \n",
    "    for i in range(num_experts):\n",
    "        expert_ranking = data[i]\n",
    "        for i, (x, y) in enumerate(possible_pairs):\n",
    "            rank_x = expert_ranking[x]\n",
    "            rank_y = expert_ranking[y]\n",
    "            if rank_x is None or rank_y is None:\n",
    "                tally_table[i, 1] += 1\n",
    "            elif rank_x > rank_y:\n",
    "                tally_table[i, 2] += 1\n",
    "            else:\n",
    "                tally_table[i, 0] += 1\n",
    "    #print(tally_table)\n",
    "    \n",
    "    possible_rankings = np.array(list(itertools.permutations(indices)))\n",
    "    scores = [ranking_score(tally_table, pair2row, x) for x in possible_rankings]\n",
    "    #print(list(zip(possible_rankings, scores)))\n",
    "    return possible_rankings[np.argmax(scores)], tally_table"
   ]
  },
  {
   "cell_type": "markdown",
   "metadata": {},
   "source": [
    "### Check "
   ]
  },
  {
   "cell_type": "code",
   "execution_count": 3,
   "metadata": {},
   "outputs": [],
   "source": [
    "# experts x food_items\n",
    "# vals -- scores/ranks\n",
    "data = [[1, 2, 3],\n",
    "        [1, None, 2],\n",
    "        [3, 1, 2],\n",
    "        [None, None, 1],\n",
    "        [3, 1, 2], \n",
    "        [3, 1, 2],\n",
    "        [3, 1, 2]]\n",
    "\n",
    "NUM_EXPERTS = 20\n",
    "NUM_ITEMS = 5\n",
    "\n",
    "data = np.stack([np.random.normal(0, 1, (NUM_ITEMS,)).argsort() for _ in range(NUM_EXPERTS)]).astype(object)\n",
    "missing = np.random.binomial(1, 0.1, data.shape).astype(bool)\n",
    "data[missing] = None"
   ]
  },
  {
   "cell_type": "code",
   "execution_count": 4,
   "metadata": {},
   "outputs": [
    {
     "data": {
      "text/plain": [
       "(array([1, 0, 2, 3, 4]), array([[ 5.,  4., 11.],\n",
       "        [ 7.,  6.,  7.],\n",
       "        [ 6.,  9.,  5.],\n",
       "        [10.,  4.,  6.],\n",
       "        [11.,  3.,  6.],\n",
       "        [10.,  6.,  4.],\n",
       "        [13.,  1.,  6.],\n",
       "        [ 9.,  5.,  6.],\n",
       "        [12.,  3.,  5.],\n",
       "        [ 7.,  6.,  7.]]))"
      ]
     },
     "execution_count": 4,
     "metadata": {},
     "output_type": "execute_result"
    }
   ],
   "source": [
    "kemeny_young(np.array(data))"
   ]
  },
  {
   "cell_type": "markdown",
   "metadata": {},
   "source": [
    "### Sufficient expert number selection"
   ]
  },
  {
   "cell_type": "code",
   "execution_count": 5,
   "metadata": {},
   "outputs": [],
   "source": [
    "NUM_EXPERTS = 500\n",
    "NUM_ITEMS = 5\n",
    "\n",
    "raw_data = np.stack([np.random.normal(i, 4, (NUM_EXPERTS,)) for i in range(NUM_ITEMS)]).T.astype(object)\n",
    "data = raw_data.argsort(axis=1).astype(object)\n",
    "missing = np.random.binomial(1, 0.1, data.shape).astype(bool)\n",
    "raw_data[missing] = None\n",
    "data[missing] = None"
   ]
  },
  {
   "cell_type": "code",
   "execution_count": 6,
   "metadata": {},
   "outputs": [],
   "source": [
    "import matplotlib.pyplot as plt\n",
    "%matplotlib inline"
   ]
  },
  {
   "cell_type": "code",
   "execution_count": 7,
   "metadata": {},
   "outputs": [
    {
     "data": {
      "image/png": "[encoded data removed]",
      "text/plain": [
       "<Figure size 432x288 with 1 Axes>"
      ]
     },
     "metadata": {
      "needs_background": "light"
     },
     "output_type": "display_data"
    }
   ],
   "source": [
    "for i in range(NUM_ITEMS):\n",
    "    item = raw_data[:,i]\n",
    "    plt.hist(item[item != None].tolist(), alpha=0.2, label=str(i), bins=50)\n",
    "plt.legend();"
   ]
  },
  {
   "cell_type": "code",
   "execution_count": 8,
   "metadata": {},
   "outputs": [
    {
     "data": {
      "image/png": "[encoded data removed]",
      "text/plain": [
       "<Figure size 576x432 with 1 Axes>"
      ]
     },
     "metadata": {
      "needs_background": "light"
     },
     "output_type": "display_data"
    }
   ],
   "source": [
    "num_runs = 5\n",
    "plt.figure(figsize=(8, 6))\n",
    "for _ in range(num_runs):\n",
    "    raw_data = np.stack([np.random.normal(i, 4, (NUM_EXPERTS,)) for i in range(NUM_ITEMS)]).T.astype(object)\n",
    "    data = raw_data.argsort(axis=1).astype(object)\n",
    "    missing = np.random.binomial(1, 0.1, data.shape).astype(bool)\n",
    "    raw_data[missing] = None\n",
    "    data[missing] = None\n",
    "\n",
    "    num_switch = 0\n",
    "    leader_switch = []\n",
    "    prev_res = np.array([0, 1, 2, 3, 4])\n",
    "    for size in range(1, NUM_EXPERTS):\n",
    "        res, table = kemeny_young(data[:size])\n",
    "        num_switch += int(np.any(res != prev_res))\n",
    "        leader_switch.append(num_switch)\n",
    "        prev_res = res\n",
    "    \n",
    "    plt.plot(leader_switch)\n",
    "\n",
    "plt.xlabel(\"N, число экспертов\")\n",
    "plt.title('Зависимость числа смен \"лидера\" от числа экспертов')\n",
    "plt.ylabel('Число смен \"лидера\"');"
   ]
  },
  {
   "cell_type": "markdown",
   "metadata": {},
   "source": [
    "### Food ratings"
   ]
  },
  {
   "cell_type": "code",
   "execution_count": 9,
   "metadata": {},
   "outputs": [],
   "source": [
    "product_names = np.array(['Устрицы',\n",
    "                          'Арахиc соленый',\n",
    "                          'Молоко  2,5%',\n",
    "                          'Макароны',\n",
    "                          'Овсяное молоко 3.2%',\n",
    "                          'Шоколад',\n",
    "                          'Сырок \"РОСТАГРОЭКСПОРТ\"',\n",
    "                          'Кефир 3.2%',\n",
    "                          'Гречневая крупа']\n",
    "                        )"
   ]
  },
  {
   "cell_type": "code",
   "execution_count": 10,
   "metadata": {},
   "outputs": [],
   "source": [
    "inp = '''4\t\t\t\t9\t5\t\t\t\t\t3\t9\t7\t6\n",
    "2\t6\t4\t8\t7\t4\t3\t3\t\t4\t6\t3\t4\t2\n",
    "5\t1\t5\t5\t4\t3\t8\t4\t2\t3\t5\t5\t6\t\n",
    "7\t7\t2\t3\t2\t8\t4\t6\t3\t5\t\t6\t5\t1\n",
    "\t2\t7\t2\t6\t7\t5\t5\t7\t\t7\t7\t8\t\n",
    "3\t4\t1\t9\t5\t\t1\t1\t6\t6\t1\t2\t2\t4\n",
    "\t3\t3\t\t1\t2\t6\t2\t1\t1\t2\t8\t\t5\n",
    "6\t5\t8\t4\t8\t1\t7\t7\t4\t7\t\t1\t1\t\n",
    "1\t8\t6\t1\t3\t6\t2\t8\t5\t2\t4\t4\t3\t3'''\n",
    "\n",
    "data = np.array([line.split('\\t') for line in inp.split('\\n')]).astype(object)\n",
    "data[data!=''] = data[data!=''].astype(int)\n",
    "data[data==''] = None"
   ]
  },
  {
   "cell_type": "code",
   "execution_count": 11,
   "metadata": {},
   "outputs": [
    {
     "data": {
      "text/plain": [
       "(9, 14)"
      ]
     },
     "execution_count": 11,
     "metadata": {},
     "output_type": "execute_result"
    }
   ],
   "source": [
    "data.shape"
   ]
  },
  {
   "cell_type": "code",
   "execution_count": 12,
   "metadata": {},
   "outputs": [
    {
     "data": {
      "text/plain": [
       "array(['Шоколад', 'Сырок \"РОСТАГРОЭКСПОРТ\"', 'Гречневая крупа',\n",
       "       'Арахиc соленый', 'Молоко  2,5%', 'Макароны',\n",
       "       'Овсяное молоко 3.2%', 'Кефир 3.2%', 'Устрицы'], dtype='<U23')"
      ]
     },
     "execution_count": 12,
     "metadata": {},
     "output_type": "execute_result"
    }
   ],
   "source": [
    "argsort = kemeny_young(data.T)[0]\n",
    "product_names[argsort]"
   ]
  },
  {
   "cell_type": "code",
   "execution_count": 13,
   "metadata": {},
   "outputs": [
    {
     "data": {
      "text/plain": [
       "array([5, 6, 8, 1, 2, 3, 4, 7, 0])"
      ]
     },
     "execution_count": 13,
     "metadata": {},
     "output_type": "execute_result"
    }
   ],
   "source": [
    "argsort"
   ]
  },
  {
   "cell_type": "markdown",
   "metadata": {},
   "source": [
    "### Comparison"
   ]
  },
  {
   "cell_type": "code",
   "execution_count": 16,
   "metadata": {},
   "outputs": [
    {
     "data": {
      "image/png": "[encoded data removed]",
      "text/plain": [
       "<Figure size 648x648 with 4 Axes>"
      ]
     },
     "metadata": {
      "needs_background": "light"
     },
     "output_type": "display_data"
    }
   ],
   "source": [
    "fig, axs = plt.subplots(2, 2, figsize=(9, 9))\n",
    "plt.subplots_adjust(wspace=0.35, hspace=0.35)\n",
    " \n",
    "my_rating = [9, 4, 5, 6, 7, 1, 2, 8, 3]\n",
    "\n",
    "best_rating = [9, 5, 4, 6, 7, 3, 1, 8, 2] # Slava\n",
    "rating1 = [9, 4, 5, 6, 8, 2, 1, 7, 3] # Natalia\n",
    "rating2 = [9, 4, 5, 6, 7, 2, 1, 8, 3] # Petr\n",
    "#rating3 = [9, 3, 8, 4, 5, 1, 6, 7, 2] # \n",
    "mean_rating = [8.470588235, 4.705882353, 4.529411765, 5.294117647, 6.823529412,\\\n",
    "               2.470588235, 2.235294118, 6.588235294, 4.058823529]\n",
    "median_rating = [9, 4, 5, 6, 7, 2, 2, 7, 3]\n",
    " \n",
    "axs[0, 0].scatter(my_rating, median_rating)\n",
    "axs[0, 0].plot([0, 10], [0, 10], '--', alpha=0.5)\n",
    "axs[0, 0].set_ylabel('Медианный')\n",
    "axs[0, 0].set_xlabel('Предложенный')\n",
    " \n",
    "axs[0, 1].scatter(my_rating, best_rating)\n",
    "axs[0, 1].plot([0, 10], [0, 10], '--', alpha=0.5)\n",
    "axs[0, 1].set_ylabel('Лучший')\n",
    "axs[0, 1].set_xlabel('Предложенный')\n",
    " \n",
    "axs[1, 0].scatter(my_rating, rating1)\n",
    "axs[1, 0].plot([0, 10], [0, 10], '--', alpha=0.5)\n",
    "axs[1, 0].set_ylabel('Чужой 1')\n",
    "axs[1, 0].set_xlabel('Предложенный')\n",
    " \n",
    "axs[1, 1].scatter(my_rating, rating2)\n",
    "axs[1, 1].plot([0, 10], [0, 10], '--', alpha=0.5)\n",
    "axs[1, 1].set_ylabel('Чужой 2')\n",
    "axs[1, 1].set_xlabel('Предложенный')\n",
    " \n",
    "#fig.suptitle('Сравнение рейтингов')\n",
    "plt.show();"
   ]
  }
 ],
 "metadata": {
  "kernelspec": {
   "display_name": "Python 3",
   "language": "python",
   "name": "python3"
  },
  "language_info": {
   "codemirror_mode": {
    "name": "ipython",
    "version": 3
   },
   "file_extension": ".py",
   "mimetype": "text/x-python",
   "name": "python",
   "nbconvert_exporter": "python",
   "pygments_lexer": "ipython3",
   "version": "3.7.3"
  }
 },
 "nbformat": 4,
 "nbformat_minor": 2
}
