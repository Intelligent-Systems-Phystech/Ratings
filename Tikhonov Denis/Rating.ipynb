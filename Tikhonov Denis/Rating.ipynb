{
 "cells": [
  {
   "cell_type": "code",
   "execution_count": 1,
   "metadata": {},
   "outputs": [],
   "source": [
    "import numpy as np\n",
    "import pandas as pd\n",
    "import matplotlib.pyplot as plt\n",
    "import seaborn as sns\n",
    "import scipy.stats\n",
    "from sklearn.preprocessing import StandardScaler\n",
    "from itertools import permutations\n",
    "import random\n",
    "import warnings\n",
    "warnings.simplefilter('ignore')"
   ]
  },
  {
   "cell_type": "code",
   "execution_count": 16,
   "metadata": {},
   "outputs": [],
   "source": [
    "plt.rcParams['figure.figsize'] = 5, 5\n",
    "plt.rcParams['font.family'] = 'DejaVu Serif'\n",
    "plt.rcParams['lines.linewidth'] = 2\n",
    "plt.rcParams['lines.markersize'] = 8\n",
    "plt.rcParams['xtick.labelsize'] = 16\n",
    "plt.rcParams['ytick.labelsize'] = 16\n",
    "plt.rcParams['legend.fontsize'] = 8\n",
    "plt.rcParams['axes.titlesize'] = 24\n",
    "plt.rcParams['axes.labelsize'] = 8"
   ]
  },
  {
   "cell_type": "code",
   "execution_count": 3,
   "metadata": {},
   "outputs": [],
   "source": [
    "def fill_with_rand_from_col(data):\n",
    "    df = data.copy()\n",
    "    for name in list(df):\n",
    "        all_not_na = df[df[name].notna()][name].to_numpy()\n",
    "        all_values = set(np.arange(1,len(data)+1))\n",
    "        to_fill_values = list(all_values - set(all_not_na))        \n",
    "        to_fill = df[df[name].isna()][name].index\n",
    "        df[name][to_fill] = np.random.permutation(to_fill_values)[:len(to_fill)]\n",
    "    return df\n",
    "\n",
    "Full = pd.read_csv('data.csv', delimiter =';', decimal=',')\n",
    "weights = pd.read_csv('weights.csv', delimiter =';', decimal=',')\n",
    "\n",
    "Full_fill = fill_with_rand_from_col(Full.drop(['Объект'], axis=1))\n",
    "weights_fill= fill_with_rand_from_col(weights.drop(['Признаки'], axis=1))\n",
    "\n",
    "prob_df = Full_fill.copy()\n",
    "\n",
    "for name in list(prob_df)[:5]:\n",
    "    density = scipy.stats.gaussian_kde(Full_fill[name])\n",
    "    \n",
    "    dx = Full_fill[name].std()/len(Full_fill)\n",
    "    \n",
    "    for i in range(len(prob_df)):\n",
    "        x = Full_fill[name][i]\n",
    "        p = 0\n",
    "        if x - dx < 0:\n",
    "            l = 0\n",
    "        else:\n",
    "            l = x - dx\n",
    "        r = x + dx\n",
    "\n",
    "        xs = np.linspace(l,r,100)\n",
    "        y = density(xs)\n",
    "        for j in range(len(xs)-1):\n",
    "            p+=y[j] * (xs[j+1]-xs[j])\n",
    "            \n",
    "        prob_df.loc[i, name] = p"
   ]
  },
  {
   "cell_type": "code",
   "execution_count": 4,
   "metadata": {},
   "outputs": [
    {
     "data": {
      "text/html": [
       "<div>\n",
       "<style scoped>\n",
       "    .dataframe tbody tr th:only-of-type {\n",
       "        vertical-align: middle;\n",
       "    }\n",
       "\n",
       "    .dataframe tbody tr th {\n",
       "        vertical-align: top;\n",
       "    }\n",
       "\n",
       "    .dataframe thead th {\n",
       "        text-align: right;\n",
       "    }\n",
       "</style>\n",
       "<table border=\"1\" class=\"dataframe\">\n",
       "  <thead>\n",
       "    <tr style=\"text-align: right;\">\n",
       "      <th></th>\n",
       "      <th>Объект</th>\n",
       "      <th>Калорийность, кКал</th>\n",
       "      <th>Цена 100г, руб.</th>\n",
       "      <th>Белки</th>\n",
       "      <th>Жиры</th>\n",
       "      <th>Углеводы</th>\n",
       "      <th>Стрижов</th>\n",
       "      <th>Гребенькова</th>\n",
       "      <th>Михеев</th>\n",
       "      <th>Тихонов</th>\n",
       "      <th>Панченко</th>\n",
       "      <th>Панкратов</th>\n",
       "      <th>Харь</th>\n",
       "      <th>Савельев</th>\n",
       "      <th>Исламов</th>\n",
       "      <th>Волынцев</th>\n",
       "      <th>Христолюбов</th>\n",
       "      <th>Алсаханова</th>\n",
       "    </tr>\n",
       "  </thead>\n",
       "  <tbody>\n",
       "    <tr>\n",
       "      <th>0</th>\n",
       "      <td>Устрицы</td>\n",
       "      <td>72.0</td>\n",
       "      <td>85.0</td>\n",
       "      <td>9.0</td>\n",
       "      <td>2.0</td>\n",
       "      <td>4.4</td>\n",
       "      <td>4.0</td>\n",
       "      <td>NaN</td>\n",
       "      <td>NaN</td>\n",
       "      <td>NaN</td>\n",
       "      <td>9</td>\n",
       "      <td>5.0</td>\n",
       "      <td>NaN</td>\n",
       "      <td>NaN</td>\n",
       "      <td>NaN</td>\n",
       "      <td>NaN</td>\n",
       "      <td>3.0</td>\n",
       "      <td>9</td>\n",
       "    </tr>\n",
       "    <tr>\n",
       "      <th>1</th>\n",
       "      <td>Арахиc соленый</td>\n",
       "      <td>640.0</td>\n",
       "      <td>69.0</td>\n",
       "      <td>25.0</td>\n",
       "      <td>52.0</td>\n",
       "      <td>17.0</td>\n",
       "      <td>2.0</td>\n",
       "      <td>6.0</td>\n",
       "      <td>4.0</td>\n",
       "      <td>NaN</td>\n",
       "      <td>7</td>\n",
       "      <td>4.0</td>\n",
       "      <td>3.0</td>\n",
       "      <td>3.0</td>\n",
       "      <td>NaN</td>\n",
       "      <td>4.0</td>\n",
       "      <td>6.0</td>\n",
       "      <td>3</td>\n",
       "    </tr>\n",
       "    <tr>\n",
       "      <th>2</th>\n",
       "      <td>Молоко 2,5%</td>\n",
       "      <td>42.0</td>\n",
       "      <td>5.9</td>\n",
       "      <td>3.4</td>\n",
       "      <td>2.5</td>\n",
       "      <td>5.0</td>\n",
       "      <td>5.0</td>\n",
       "      <td>1.0</td>\n",
       "      <td>5.0</td>\n",
       "      <td>5.0</td>\n",
       "      <td>4</td>\n",
       "      <td>3.0</td>\n",
       "      <td>8.0</td>\n",
       "      <td>4.0</td>\n",
       "      <td>2.0</td>\n",
       "      <td>3.0</td>\n",
       "      <td>5.0</td>\n",
       "      <td>5</td>\n",
       "    </tr>\n",
       "    <tr>\n",
       "      <th>3</th>\n",
       "      <td>Макароны</td>\n",
       "      <td>371.0</td>\n",
       "      <td>34.0</td>\n",
       "      <td>3.6</td>\n",
       "      <td>0.4</td>\n",
       "      <td>20.0</td>\n",
       "      <td>7.0</td>\n",
       "      <td>7.0</td>\n",
       "      <td>2.0</td>\n",
       "      <td>3.0</td>\n",
       "      <td>2</td>\n",
       "      <td>8.0</td>\n",
       "      <td>4.0</td>\n",
       "      <td>6.0</td>\n",
       "      <td>3.0</td>\n",
       "      <td>5.0</td>\n",
       "      <td>NaN</td>\n",
       "      <td>6</td>\n",
       "    </tr>\n",
       "    <tr>\n",
       "      <th>4</th>\n",
       "      <td>Овсяное молоко 3.2%</td>\n",
       "      <td>250.0</td>\n",
       "      <td>8.0</td>\n",
       "      <td>1.0</td>\n",
       "      <td>3.2</td>\n",
       "      <td>6.5</td>\n",
       "      <td>NaN</td>\n",
       "      <td>2.0</td>\n",
       "      <td>7.0</td>\n",
       "      <td>2.0</td>\n",
       "      <td>6</td>\n",
       "      <td>7.0</td>\n",
       "      <td>5.0</td>\n",
       "      <td>5.0</td>\n",
       "      <td>7.0</td>\n",
       "      <td>NaN</td>\n",
       "      <td>7.0</td>\n",
       "      <td>7</td>\n",
       "    </tr>\n",
       "    <tr>\n",
       "      <th>5</th>\n",
       "      <td>Шоколад</td>\n",
       "      <td>545.0</td>\n",
       "      <td>100.0</td>\n",
       "      <td>5.0</td>\n",
       "      <td>33.0</td>\n",
       "      <td>56.5</td>\n",
       "      <td>3.0</td>\n",
       "      <td>4.0</td>\n",
       "      <td>1.0</td>\n",
       "      <td>NaN</td>\n",
       "      <td>5</td>\n",
       "      <td>NaN</td>\n",
       "      <td>1.0</td>\n",
       "      <td>1.0</td>\n",
       "      <td>6.0</td>\n",
       "      <td>6.0</td>\n",
       "      <td>1.0</td>\n",
       "      <td>2</td>\n",
       "    </tr>\n",
       "    <tr>\n",
       "      <th>6</th>\n",
       "      <td>Сырок \"РОСТАГРОЭКСПОРТ\" творожный глазированны...</td>\n",
       "      <td>360.7</td>\n",
       "      <td>35.6</td>\n",
       "      <td>7.7</td>\n",
       "      <td>19.1</td>\n",
       "      <td>39.5</td>\n",
       "      <td>NaN</td>\n",
       "      <td>3.0</td>\n",
       "      <td>3.0</td>\n",
       "      <td>NaN</td>\n",
       "      <td>1</td>\n",
       "      <td>2.0</td>\n",
       "      <td>6.0</td>\n",
       "      <td>2.0</td>\n",
       "      <td>1.0</td>\n",
       "      <td>1.0</td>\n",
       "      <td>2.0</td>\n",
       "      <td>8</td>\n",
       "    </tr>\n",
       "    <tr>\n",
       "      <th>7</th>\n",
       "      <td>Кефир 3.2%</td>\n",
       "      <td>57.0</td>\n",
       "      <td>5.9</td>\n",
       "      <td>3.0</td>\n",
       "      <td>3.2</td>\n",
       "      <td>4.0</td>\n",
       "      <td>6.0</td>\n",
       "      <td>5.0</td>\n",
       "      <td>8.0</td>\n",
       "      <td>4.0</td>\n",
       "      <td>8</td>\n",
       "      <td>1.0</td>\n",
       "      <td>7.0</td>\n",
       "      <td>7.0</td>\n",
       "      <td>4.0</td>\n",
       "      <td>7.0</td>\n",
       "      <td>NaN</td>\n",
       "      <td>1</td>\n",
       "    </tr>\n",
       "    <tr>\n",
       "      <th>8</th>\n",
       "      <td>Гречневая крупа</td>\n",
       "      <td>334.0</td>\n",
       "      <td>4.0</td>\n",
       "      <td>12.0</td>\n",
       "      <td>2.0</td>\n",
       "      <td>67.0</td>\n",
       "      <td>1.0</td>\n",
       "      <td>8.0</td>\n",
       "      <td>6.0</td>\n",
       "      <td>1.0</td>\n",
       "      <td>3</td>\n",
       "      <td>6.0</td>\n",
       "      <td>2.0</td>\n",
       "      <td>8.0</td>\n",
       "      <td>5.0</td>\n",
       "      <td>2.0</td>\n",
       "      <td>4.0</td>\n",
       "      <td>4</td>\n",
       "    </tr>\n",
       "  </tbody>\n",
       "</table>\n",
       "</div>"
      ],
      "text/plain": [
       "                                              Объект  Калорийность, кКал  \\\n",
       "0                                            Устрицы                72.0   \n",
       "1                                     Арахиc соленый               640.0   \n",
       "2                                        Молоко 2,5%                42.0   \n",
       "3                                           Макароны               371.0   \n",
       "4                                Овсяное молоко 3.2%               250.0   \n",
       "5                                           Шоколад                545.0   \n",
       "6  Сырок \"РОСТАГРОЭКСПОРТ\" творожный глазированны...               360.7   \n",
       "7                                         Кефир 3.2%                57.0   \n",
       "8                                    Гречневая крупа               334.0   \n",
       "\n",
       "   Цена 100г, руб.  Белки   Жиры  Углеводы  Стрижов  Гребенькова  Михеев  \\\n",
       "0             85.0     9.0   2.0       4.4      4.0          NaN     NaN   \n",
       "1             69.0    25.0  52.0      17.0      2.0          6.0     4.0   \n",
       "2              5.9     3.4   2.5       5.0      5.0          1.0     5.0   \n",
       "3             34.0     3.6   0.4      20.0      7.0          7.0     2.0   \n",
       "4              8.0     1.0   3.2       6.5      NaN          2.0     7.0   \n",
       "5            100.0     5.0  33.0      56.5      3.0          4.0     1.0   \n",
       "6             35.6     7.7  19.1      39.5      NaN          3.0     3.0   \n",
       "7              5.9     3.0   3.2       4.0      6.0          5.0     8.0   \n",
       "8              4.0    12.0   2.0      67.0      1.0          8.0     6.0   \n",
       "\n",
       "   Тихонов  Панченко  Панкратов  Харь  Савельев  Исламов  Волынцев  \\\n",
       "0      NaN         9        5.0   NaN       NaN      NaN       NaN   \n",
       "1      NaN         7        4.0   3.0       3.0      NaN       4.0   \n",
       "2      5.0         4        3.0   8.0       4.0      2.0       3.0   \n",
       "3      3.0         2        8.0   4.0       6.0      3.0       5.0   \n",
       "4      2.0         6        7.0   5.0       5.0      7.0       NaN   \n",
       "5      NaN         5        NaN   1.0       1.0      6.0       6.0   \n",
       "6      NaN         1        2.0   6.0       2.0      1.0       1.0   \n",
       "7      4.0         8        1.0   7.0       7.0      4.0       7.0   \n",
       "8      1.0         3        6.0   2.0       8.0      5.0       2.0   \n",
       "\n",
       "   Христолюбов  Алсаханова  \n",
       "0          3.0           9  \n",
       "1          6.0           3  \n",
       "2          5.0           5  \n",
       "3          NaN           6  \n",
       "4          7.0           7  \n",
       "5          1.0           2  \n",
       "6          2.0           8  \n",
       "7          NaN           1  \n",
       "8          4.0           4  "
      ]
     },
     "execution_count": 4,
     "metadata": {},
     "output_type": "execute_result"
    }
   ],
   "source": [
    "Full"
   ]
  },
  {
   "cell_type": "code",
   "execution_count": 5,
   "metadata": {
    "scrolled": true
   },
   "outputs": [],
   "source": [
    "from scipy.stats import ks_2samp\n",
    "from scipy.stats import entropy"
   ]
  },
  {
   "cell_type": "code",
   "execution_count": 6,
   "metadata": {},
   "outputs": [],
   "source": [
    "def getInvCount(arr):\n",
    "    n = len(arr)\n",
    "    inv_count = 0\n",
    "    for i in range(n):\n",
    "        for j in range(i + 1, n):\n",
    "            if (arr[i] > arr[j]):\n",
    "                inv_count += 1\n",
    "    return inv_count"
   ]
  },
  {
   "cell_type": "code",
   "execution_count": 7,
   "metadata": {
    "scrolled": true
   },
   "outputs": [],
   "source": [
    "A = prob_df.to_numpy()\n",
    "w0 = weights_fill.mean(axis = 1).to_numpy()/weights_fill.std(axis = 1).to_numpy()\n",
    "q_median = Full_fill[list(Full_fill)[5:]].mean(axis = 1).to_numpy()\n",
    "\n",
    "Q0 = pd.DataFrame()\n",
    "Q0['Weight'] = q_median\n",
    "Q0 = Q0.sort_values('Weight',ascending=True)\n",
    "Q0['ind'] = np.arange(len(Full))+1\n",
    "q0 = Q0.sort_index(inplace=False)['ind'].to_numpy()\n",
    "q0_temp = q0.copy()\n",
    "\n",
    "A = (A - A.mean(axis = 0))/A.std(axis = 0)\n",
    "q0 = (q0 - np.mean(q0))/np.std(q0)\n",
    "\n",
    "g = 1\n",
    "I = np.diag(np.ones(A.shape[1]))\n",
    "w_g = np.linalg.inv(((A.T@A) - g*I)) @ (A.T@q0 + g*w0)\n",
    "q_new = A @ w_g.T"
   ]
  },
  {
   "cell_type": "code",
   "execution_count": 8,
   "metadata": {},
   "outputs": [],
   "source": [
    "Rating = pd.DataFrame()\n",
    "Rating['Weight'] = q_new\n",
    "Rating = Rating.sort_values('Weight',ascending=True)\n",
    "Rating['ind'] = np.arange(len(Full))+1\n",
    "q_hat = Rating.sort_index(inplace=False)['ind'].to_numpy()"
   ]
  },
  {
   "cell_type": "code",
   "execution_count": 9,
   "metadata": {},
   "outputs": [],
   "source": [
    "q = [[9,4,5,6,7,1,2,8,3], [9,5,4,6,7,3,1,8,2], [7,3,5,6,9,2,1,8,4], q0_temp]\n",
    "inds = ['Григорьев Алексей','Панченко Святослав', 'Надежда Алсаханова','Среднее']"
   ]
  },
  {
   "cell_type": "code",
   "execution_count": 10,
   "metadata": {},
   "outputs": [],
   "source": [
    "products =[\n",
    "    'Устрицы',\n",
    "    'Арахиc',\n",
    "    'Молоко 2,5%',\n",
    "    'Макароны',\n",
    "    'Овсяное молоко 3.2%',\n",
    "    'Шоколад',\n",
    "    'Сырок творожный',\n",
    "    'Кефир 3.2%',\n",
    "    'Гречневая крупа']"
   ]
  },
  {
   "cell_type": "code",
   "execution_count": 11,
   "metadata": {},
   "outputs": [
    {
     "data": {
      "text/plain": [
       "array([9, 3, 5, 8, 7, 2, 1, 6, 4])"
      ]
     },
     "execution_count": 11,
     "metadata": {},
     "output_type": "execute_result"
    }
   ],
   "source": [
    "q_hat"
   ]
  },
  {
   "cell_type": "code",
   "execution_count": 17,
   "metadata": {
    "scrolled": false
   },
   "outputs": [
    {
     "name": "stderr",
     "output_type": "stream",
     "text": [
      "The PostScript backend does not support transparency; partially transparent artists will be rendered opaque.\n",
      "The PostScript backend does not support transparency; partially transparent artists will be rendered opaque.\n",
      "The PostScript backend does not support transparency; partially transparent artists will be rendered opaque.\n",
      "The PostScript backend does not support transparency; partially transparent artists will be rendered opaque.\n"
     ]
    },
    {
     "data": {
      "image/png": "[encoded data removed]",
      "text/plain": [
       "<Figure size 360x360 with 1 Axes>"
      ]
     },
     "metadata": {
      "needs_background": "light"
     },
     "output_type": "display_data"
    },
    {
     "name": "stderr",
     "output_type": "stream",
     "text": [
      "The PostScript backend does not support transparency; partially transparent artists will be rendered opaque.\n",
      "The PostScript backend does not support transparency; partially transparent artists will be rendered opaque.\n",
      "The PostScript backend does not support transparency; partially transparent artists will be rendered opaque.\n",
      "The PostScript backend does not support transparency; partially transparent artists will be rendered opaque.\n"
     ]
    },
    {
     "data": {
      "image/png": "[encoded data removed]",
      "text/plain": [
       "<Figure size 360x360 with 1 Axes>"
      ]
     },
     "metadata": {
      "needs_background": "light"
     },
     "output_type": "display_data"
    },
    {
     "name": "stderr",
     "output_type": "stream",
     "text": [
      "The PostScript backend does not support transparency; partially transparent artists will be rendered opaque.\n",
      "The PostScript backend does not support transparency; partially transparent artists will be rendered opaque.\n",
      "The PostScript backend does not support transparency; partially transparent artists will be rendered opaque.\n",
      "The PostScript backend does not support transparency; partially transparent artists will be rendered opaque.\n"
     ]
    },
    {
     "data": {
      "image/png": "[encoded data removed]",
      "text/plain": [
       "<Figure size 360x360 with 1 Axes>"
      ]
     },
     "metadata": {
      "needs_background": "light"
     },
     "output_type": "display_data"
    },
    {
     "name": "stderr",
     "output_type": "stream",
     "text": [
      "The PostScript backend does not support transparency; partially transparent artists will be rendered opaque.\n",
      "The PostScript backend does not support transparency; partially transparent artists will be rendered opaque.\n",
      "The PostScript backend does not support transparency; partially transparent artists will be rendered opaque.\n",
      "The PostScript backend does not support transparency; partially transparent artists will be rendered opaque.\n"
     ]
    },
    {
     "data": {
      "image/png": "[encoded data removed]",
      "text/plain": [
       "<Figure size 360x360 with 1 Axes>"
      ]
     },
     "metadata": {
      "needs_background": "light"
     },
     "output_type": "display_data"
    }
   ],
   "source": [
    "\n",
    "for i in range(len(q)):\n",
    "    plt.plot([0,9], [0,9], 'k-', linewidth = 1)\n",
    "    for j, product in enumerate(products):\n",
    "        plt.plot(q_hat[j], q[i][j], 'o',label = product)\n",
    "    \n",
    "    \n",
    "    plt.ylabel(inds[i], size=16)\n",
    "    plt.xlabel('$\\hat{q}_0$', size=16)\n",
    "    plt.legend()\n",
    "    \n",
    "    plt.savefig('../doc/fig/inds'+str(i)+'.eps',\n",
    "                format='eps',\n",
    "                dpi=600,\n",
    "                bbox_inches='tight')\n",
    "    \n",
    "    plt.savefig('../slides/results/inds'+str(i)+'.eps',\n",
    "                format='eps',\n",
    "                dpi=600,\n",
    "                bbox_inches='tight')\n",
    "    \n",
    "    plt.show()"
   ]
  },
  {
   "cell_type": "code",
   "execution_count": null,
   "metadata": {},
   "outputs": [],
   "source": [
    "density_not_na = scipy.stats.gaussian_kde(Full.iloc[:,9].dropna().to_numpy(dtype = 'float'))\n",
    "xs = np.linspace(-5,15,100)\n",
    "dx = density_not_na(xs)\n",
    "plt.plot(dx)\n",
    "\n",
    "density_not_na = scipy.stats.gaussian_kde(Full_fill.iloc[:,9].dropna().to_numpy(dtype = 'float'),)\n",
    "ys = np.linspace(-5,15,100)\n",
    "dy = density_not_na(ys)\n",
    "plt.plot(dy)\n",
    "\n",
    "Ans = []\n",
    "ql = []\n",
    "for i in range(3,10):\n",
    "    current = np.arange(1,i)\n",
    "    current = list(permutations(current))[random.randint(0,i-1)]\n",
    "    full = np.arange(1,10)\n",
    "    for j in range(i,9):\n",
    "        full[j] = random.choice(current)\n",
    "    \n",
    "    xs = np.linspace(-5,25,100)\n",
    "    \n",
    "    dens = scipy.stats.gaussian_kde(full)\n",
    "    dfull = dens(xs)\n",
    "    \n",
    "    dens = scipy.stats.gaussian_kde(current)\n",
    "    dcurrent = dens(xs)\n",
    "    Ans.append(list(ks_2samp(full, current)))\n",
    "    ql.append(entropy(pk=dfull, qk=dcurrent))\n",
    "    plt.plot(xs, dfull,label = 'Известные')\n",
    "    plt.plot(xs, dcurrent, label = 'Заполненые')\n",
    "    plt.legend()\n",
    "    plt.savefig('../slides/results/dens'+str(i)+'.eps',\n",
    "            format='eps',\n",
    "            dpi=600,\n",
    "            bbox_inches='tight')\n",
    "    plt.show()\n",
    "    print(getInvCount(full),getInvCount(current))"
   ]
  }
 ],
 "metadata": {
  "kernelspec": {
   "display_name": "Python 3",
   "language": "python",
   "name": "python3"
  },
  "language_info": {
   "codemirror_mode": {
    "name": "ipython",
    "version": 3
   },
   "file_extension": ".py",
   "mimetype": "text/x-python",
   "name": "python",
   "nbconvert_exporter": "python",
   "pygments_lexer": "ipython3",
   "version": "3.8.5"
  }
 },
 "nbformat": 4,
 "nbformat_minor": 4
}
